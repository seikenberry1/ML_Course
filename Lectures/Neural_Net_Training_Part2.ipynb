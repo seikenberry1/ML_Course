{
 "cells": [
  {
   "cell_type": "markdown",
   "id": "cdba6fa0",
   "metadata": {},
   "source": [
    "# Training Neural Nets, Part 2\n",
    "\n",
    "In this notebook:\n",
    "\n",
    "1. Improved Optimizers\n",
    "2. Regularization in Layers\n",
    "3. Dropout Layers\n",
    "4. Tuning Hyperparameters\n",
    "\n",
    "- Adopted from Hands-On Machine Learning by Geron"
   ]
  },
  {
   "cell_type": "code",
   "execution_count": 3,
   "id": "94b0c3ca",
   "metadata": {},
   "outputs": [],
   "source": [
    "#Libraries\n",
    "import pandas as pd\n",
    "import numpy as np\n",
    "import matplotlib.pyplot as plt\n",
    "\n",
    "import tensorflow as tf"
   ]
  },
  {
   "cell_type": "markdown",
   "id": "6bffcc18",
   "metadata": {},
   "source": [
    "## Improved Optimizers\n",
    "\n",
    "- Momentum\n",
    "- Nesterov accelerated gradient\n",
    "- AdaGrad\n",
    "- RMSProp\n",
    "- Adam, AdaMax, Nadam, AdamW\n",
    "\n",
    "Generally pretty simple to specify these, behold!"
   ]
  },
  {
   "cell_type": "markdown",
   "id": "3f74090b",
   "metadata": {},
   "source": [
    "#### Momentum:"
   ]
  },
  {
   "cell_type": "code",
   "execution_count": 6,
   "id": "0823afc5",
   "metadata": {},
   "outputs": [],
   "source": [
    "#Momentum is a hyperparameter\n",
    "optimizer = tf.keras.optimizers.SGD(learning_rate=.001, momentum=0.9)"
   ]
  },
  {
   "cell_type": "markdown",
   "id": "ec9db288",
   "metadata": {},
   "source": [
    "#### Nesterov accelerated gradient\n",
    "\n",
    "- Nesterov trick is to look ahead, use gradient there\n",
    "- Set `nesterov=True` for SGD optimizer:"
   ]
  },
  {
   "cell_type": "code",
   "execution_count": 8,
   "id": "790c3c53",
   "metadata": {},
   "outputs": [],
   "source": [
    "optimizer = tf.keras.optimizers.SGD(learning_rate=.001, momentum=0.9, nesterov=True)"
   ]
  },
  {
   "cell_type": "markdown",
   "id": "aa182a75",
   "metadata": {},
   "source": [
    "#### AdaGRad"
   ]
  },
  {
   "cell_type": "code",
   "execution_count": 10,
   "id": "2f7114e6",
   "metadata": {},
   "outputs": [],
   "source": [
    "optimizer = tf.keras.optimizers.Adagrad(learning_rate=.001)"
   ]
  },
  {
   "cell_type": "markdown",
   "id": "b767017c",
   "metadata": {},
   "source": [
    "#### RMSProp"
   ]
  },
  {
   "cell_type": "code",
   "execution_count": 12,
   "id": "8e42cc7a",
   "metadata": {},
   "outputs": [],
   "source": [
    "optimizer = tf.keras.optimizers.RMSprop(learning_rate=.001, rho=.9)"
   ]
  },
  {
   "cell_type": "markdown",
   "id": "c2607b10",
   "metadata": {},
   "source": [
    "#### Adam"
   ]
  },
  {
   "cell_type": "code",
   "execution_count": 13,
   "id": "6d59be8c",
   "metadata": {},
   "outputs": [],
   "source": [
    "optimizer = tf.keras.optimizers.Adam(learning_rate=.001, beta_1=.9, beta_2=.999)"
   ]
  },
  {
   "cell_type": "markdown",
   "id": "65501fa9",
   "metadata": {},
   "source": [
    "#### AdaMax"
   ]
  },
  {
   "cell_type": "code",
   "execution_count": 16,
   "id": "9dd8a688",
   "metadata": {},
   "outputs": [],
   "source": [
    "optimizer = tf.keras.optimizers.Adamax(learning_rate=0.001, beta_1=0.9, beta_2=0.999)"
   ]
  },
  {
   "cell_type": "markdown",
   "id": "514a5353",
   "metadata": {},
   "source": [
    "#### Nadam"
   ]
  },
  {
   "cell_type": "code",
   "execution_count": 17,
   "id": "8b2cf4a2",
   "metadata": {},
   "outputs": [],
   "source": [
    "optimizer = tf.keras.optimizers.Nadam(learning_rate=0.001, beta_1=0.9, beta_2=0.999)"
   ]
  },
  {
   "cell_type": "markdown",
   "id": "69ca50f8",
   "metadata": {},
   "source": [
    "#### AdamW"
   ]
  },
  {
   "cell_type": "code",
   "execution_count": 18,
   "id": "3867004d",
   "metadata": {},
   "outputs": [],
   "source": [
    "optimizer = tf.keras.optimizers.AdamW(learning_rate=0.001, weight_decay=0.004, beta_1=0.9, beta_2=0.999)"
   ]
  },
  {
   "cell_type": "markdown",
   "id": "f708f4f6",
   "metadata": {},
   "source": [
    "## Learning Rate Scheduling\n",
    "\n",
    "- Can implement using a `LearningRateScheduler` callback\n",
    "- An example of exponential decay::"
   ]
  },
  {
   "cell_type": "code",
   "execution_count": 21,
   "id": "c9578092",
   "metadata": {},
   "outputs": [],
   "source": [
    "#lr is optional current learning rate:\n",
    "def exponential_decay(epoch, lr):\n",
    "    #Hardcode s=10, eta0 = .01\n",
    "    eta0 = .01\n",
    "    s = 10\n",
    "    \n",
    "    return eta0 * 0.1 ** (epoch / s)"
   ]
  },
  {
   "cell_type": "code",
   "execution_count": 22,
   "id": "a6add07c",
   "metadata": {},
   "outputs": [],
   "source": [
    "### Or example of piecewise constant:\n",
    "#####\n",
    "def piecewise_constant(epoch, lr):\n",
    "    if epoch < 10:\n",
    "        return 0.01\n",
    "    elif epoch < 100:\n",
    "        return 0.001\n",
    "    else:\n",
    "        return 0.0001"
   ]
  },
  {
   "cell_type": "code",
   "execution_count": null,
   "id": "e2c2afcb",
   "metadata": {},
   "outputs": [],
   "source": [
    "## Would put in training like so:\n",
    "lr_scheduler = tf.keras.callbacks.LearningRateScheduler(exponential_decay)\n",
    "\n",
    "history = model.fit(X_train, y_train, epochs=10,\n",
    "                    validation_data=(X_valid, y_valid),\n",
    "                    callbacks=[lr_scheduler])"
   ]
  },
  {
   "cell_type": "markdown",
   "id": "cb6d4cf3",
   "metadata": {},
   "source": [
    "## Adding Regularization\n",
    "\n",
    "- Can easily add L1 or L2 regularization\n",
    "\n",
    "- Can add regularization to kernel, i.e. connection weights: Most typical\n",
    "\n",
    "- Can also add regularization to bias and activity = output\n",
    "\n",
    "- Use either `regularizers.L1L2`, `regularizers.L2`, or `regularizers.L2`:\n",
    "\n",
    "- See: https://keras.io/api/layers/regularizers/"
   ]
  },
  {
   "cell_type": "code",
   "execution_count": null,
   "id": "efd0b7a7",
   "metadata": {},
   "outputs": [],
   "source": [
    "layer = tf.keras.layers.Dense(\n",
    "    units=64,\n",
    "    kernel_regularizer=tf.keras.regularizers.L1L2(l1=1e-5, l2=1e-5),\n",
    "    bias_regularizer=tf.keras.regularizers.L1(1e-5),\n",
    "    activity_regularizer=tf.keras.regularizers.L2(1e-5)\n",
    ")"
   ]
  },
  {
   "cell_type": "markdown",
   "id": "d94f688e",
   "metadata": {},
   "source": [
    "#### `partial` for wrapping:\n",
    "\n",
    "- Can use to simplify layer construction:"
   ]
  },
  {
   "cell_type": "code",
   "execution_count": null,
   "id": "657a4488",
   "metadata": {},
   "outputs": [],
   "source": [
    "from functools import partial\n",
    "\n",
    "RegularizedDense = partial(tf.keras.layers.Dense,\n",
    "                           activation=\"relu\",\n",
    "                           kernel_initializer=\"he_normal\",\n",
    "                           kernel_regularizer=tf.keras.regularizers.L2(0.01))\n",
    "\n",
    "model = tf.keras.Sequential([\n",
    "    tf.keras.layers.Flatten(input_shape=[28, 28]),\n",
    "    RegularizedDense(100),\n",
    "    RegularizedDense(100),\n",
    "    RegularizedDense(10, activation=\"softmax\")"
   ]
  },
  {
   "cell_type": "markdown",
   "id": "fde1bb6b",
   "metadata": {},
   "source": [
    "## Max-Norm Regularization\n",
    "\n",
    "- Can specifiy a maximum norm for the weights of a layer\n",
    "- Rescale weights if the norm exceeds the maximum after each training step\n",
    "- In Keras:"
   ]
  },
  {
   "cell_type": "code",
   "execution_count": null,
   "id": "bf26a19a",
   "metadata": {},
   "outputs": [],
   "source": [
    "layer = tf.keras.layers.Dense(64, kernel_constraint=tf.keras.constraints.max_norm(max_value=2))"
   ]
  },
  {
   "cell_type": "markdown",
   "id": "10885f13",
   "metadata": {},
   "source": [
    "## Dropout Regularization\n",
    "\n",
    "- Randomly set some inputs to next layer to 0\n",
    "- Dropout rate 10-50% typical\n",
    "- Can use higher dropout rate for larger layers, smaller for smaller layers\n",
    "- Can also try dropout only after last hidden layer\n",
    "- Easy with `tf.keras.Dropout(rate)`"
   ]
  },
  {
   "cell_type": "code",
   "execution_count": null,
   "id": "1b25e38f",
   "metadata": {},
   "outputs": [],
   "source": [
    "#Example:\n",
    "\n",
    "model = tf.keras.Sequential([\n",
    "    tf.keras.layers.Flatten(input_shape=[28, 28]),\n",
    "    tf.keras.layers.Dropout(rate=0.2),\n",
    "    tf.keras.layers.Dense(100, activation=\"relu\",\n",
    "                          kernel_initializer=\"he_normal\"),\n",
    "    tf.keras.layers.Dropout(rate=0.2),\n",
    "    tf.keras.layers.Dense(100, activation=\"relu\",\n",
    "                          kernel_initializer=\"he_normal\"),\n",
    "    tf.keras.layers.Dropout(rate=0.4),\n",
    "    tf.keras.layers.Dense(10, activation=\"softmax\")\n",
    "])"
   ]
  },
  {
   "cell_type": "markdown",
   "id": "e4d8ab7e",
   "metadata": {},
   "source": [
    "## Monte Carlo Dropout\n",
    "\n",
    "- Run model with dropout layers active to get multiple predictions\n",
    "- Take average to get an ensemble prediction\n",
    "- Can be more reliable, less sure of single answer\n",
    "- Very simple to implement:"
   ]
  },
  {
   "cell_type": "code",
   "execution_count": null,
   "id": "f09ecf30",
   "metadata": {},
   "outputs": [],
   "source": [
    "#training=True says to behave as though training, e.g., leave Dropout layers active\n",
    "\n",
    "y_probas = np.stack([model(X_test, training=True)\n",
    "                     for i in range(100)])\n",
    "\n",
    "#Average over the predictions:\n",
    "y_proba = y_probas.mean(axis=0)"
   ]
  },
  {
   "cell_type": "markdown",
   "id": "c8e1301f",
   "metadata": {},
   "source": [
    "## Tuning HyperParameters\n",
    "\n",
    "Let's use Keras Tuner library (May need to install)\n",
    "\n",
    "We'll tune:\n",
    "\n",
    "1. Number of hidden layers\n",
    "2. Neurons per layer\n",
    "3. Learning rate\n",
    "4. Optimizer\n",
    "\n",
    "- Need a function that builds, compiles, and returns a Keras model\n",
    "\n",
    "- Takes `kt.HyperParameters` object as argument"
   ]
  },
  {
   "cell_type": "code",
   "execution_count": 7,
   "id": "429229e8",
   "metadata": {},
   "outputs": [],
   "source": [
    "#Load as usual:\n",
    "from keras.datasets import mnist\n",
    "\n",
    "(train_images, train_labels), (test_images, test_labels) = mnist.load_data()\n",
    "\n",
    "\n",
    "## Hold out some of the training data for validation:\n",
    "######\n",
    "\n",
    "## All but last 5,000 will be train data; last 5,000 will be validation\n",
    "X_train, y_train = train_images[:-5000], train_labels[:-5000]\n",
    "\n",
    "X_valid, y_valid = train_images[-5000:], train_labels[-5000:]\n",
    "\n",
    "#Rename the test data for consistency:\n",
    "X_test, y_test = test_images, test_labels\n",
    "\n",
    "\n",
    "## And rescale everything to be between 0 and 1:\n",
    "X_train, X_valid, X_test = X_train / 255., X_valid / 255., X_test / 255."
   ]
  },
  {
   "cell_type": "code",
   "execution_count": 8,
   "id": "263d5856",
   "metadata": {},
   "outputs": [
    {
     "data": {
      "image/png": "[encoded data removed]",
      "text/plain": [
       "<Figure size 700x400 with 30 Axes>"
      ]
     },
     "metadata": {},
     "output_type": "display_data"
    }
   ],
   "source": [
    "#Quickly plot:\n",
    "fig1, ax1 = plt.subplots(5, 6, figsize=(7,4))\n",
    "ax1 = ax1.flatten()\n",
    "\n",
    "for i in range(30):\n",
    "    ax1[i].imshow(X_train[i], cmap='gray_r')\n",
    "    ax1[i].set_axis_off()\n",
    "    "
   ]
  },
  {
   "cell_type": "code",
   "execution_count": 9,
   "id": "2172d3bf",
   "metadata": {},
   "outputs": [
    {
     "name": "stdout",
     "output_type": "stream",
     "text": [
      "Using TensorFlow backend\n"
     ]
    }
   ],
   "source": [
    "import keras_tuner as kt\n",
    "\n",
    "#hp gives us our Hyperparameters:\n",
    "def build_model(hp):\n",
    "    \n",
    "    #Number of hidden layers:\n",
    "    n_hidden = hp.Int(\"n_hidden\", min_value=0, max_value=8, default=2)\n",
    "    \n",
    "    \n",
    "    #Neurons per layer:\n",
    "    n_neurons = hp.Int(\"n_neurons\", min_value=16, max_value=256, default=32)\n",
    "    \n",
    "    #Learning Rate?\n",
    "    #We'll vary on a logarithmic scale\n",
    "    learning_rate = hp.Float(\"learning_rate\", min_value=1e-4, max_value=1e-2,\n",
    "                             sampling=\"log\")\n",
    "    \n",
    "    #Choose between three optimizers:\n",
    "    optimizer = hp.Choice(\"optimizer\", values=[\"sgd\", \"adam\", \"nadam\"])\n",
    "    \n",
    "    if optimizer == \"sgd\":\n",
    "        optimizer = tf.keras.optimizers.SGD(learning_rate=learning_rate)\n",
    "    elif optimizer == 'adam':\n",
    "        optimizer = tf.keras.optimizers.Adam(learning_rate=learning_rate)\n",
    "    else:\n",
    "        optimizer = tf.keras.optimizers.Nadam(learning_rate=learning_rate)\n",
    "        \n",
    "    #Build the model using Sequential API:\n",
    "    model = tf.keras.Sequential()\n",
    "    \n",
    "    model.add(tf.keras.layers.Flatten(input_shape=[28, 28]))\n",
    "    \n",
    "    \n",
    "    #Add layers:\n",
    "    for layer in range(n_hidden):\n",
    "        model.add(tf.keras.layers.Dense(n_neurons, activation=\"relu\"))\n",
    "        \n",
    "        \n",
    "    #Output:\n",
    "    model.add(tf.keras.layers.Dense(10, activation=\"softmax\"))\n",
    "    \n",
    "    #And compile\n",
    "    model.compile(loss=\"sparse_categorical_crossentropy\",\n",
    "                  optimizer=optimizer,\n",
    "                  metrics=[\"accuracy\"])\n",
    "    \n",
    "    return model"
   ]
  },
  {
   "cell_type": "code",
   "execution_count": 36,
   "id": "7778359f",
   "metadata": {},
   "outputs": [],
   "source": [
    "#Create the RandomSearch object:\n",
    "#####\n",
    "\n",
    "random_search_tuner = kt.RandomSearch(build_model,\n",
    "                                      objective=\"val_accuracy\",\n",
    "                                      max_trials=10, overwrite=True,\n",
    "                                      directory=\"my_tuner_stuff\", project_name=\"my_rnd_search\", seed=42)"
   ]
  },
  {
   "cell_type": "code",
   "execution_count": 37,
   "id": "b718e67d",
   "metadata": {},
   "outputs": [
    {
     "name": "stdout",
     "output_type": "stream",
     "text": [
      "Trial 10 Complete [00h 00m 03s]\n",
      "val_accuracy: 0.9157999753952026\n",
      "\n",
      "Best val_accuracy So Far: 0.9485999941825867\n",
      "Total elapsed time: 00h 00m 33s\n"
     ]
    }
   ],
   "source": [
    "##Now let's search:\n",
    "########\n",
    "\n",
    "#Just use a little bit of the training data for speed:\n",
    "#######\n",
    "\n",
    "random_search_tuner.search(X_train[:5000], y_train[:5000],\n",
    "                           epochs=5,\n",
    "                           validation_data=(X_valid, y_valid))"
   ]
  },
  {
   "cell_type": "code",
   "execution_count": 38,
   "id": "440e9a82",
   "metadata": {},
   "outputs": [],
   "source": [
    "## Get the best models:\n",
    "best3 = random_search_tuner.get_best_models(num_models=3)"
   ]
  },
  {
   "cell_type": "code",
   "execution_count": 39,
   "id": "b626346d",
   "metadata": {},
   "outputs": [
    {
     "data": {
      "text/plain": [
       "[<keras.src.engine.sequential.Sequential at 0x1d9a12a9420>,\n",
       " <keras.src.engine.sequential.Sequential at 0x1d9a102dde0>,\n",
       " <keras.src.engine.sequential.Sequential at 0x1d9a12955a0>]"
      ]
     },
     "execution_count": 39,
     "metadata": {},
     "output_type": "execute_result"
    }
   ],
   "source": [
    "#We have:\n",
    "best3"
   ]
  },
  {
   "cell_type": "code",
   "execution_count": 40,
   "id": "baa2c64a",
   "metadata": {},
   "outputs": [
    {
     "name": "stdout",
     "output_type": "stream",
     "text": [
      "Model: \"sequential\"\n",
      "_________________________________________________________________\n",
      " Layer (type)                Output Shape              Param #   \n",
      "=================================================================\n",
      " flatten (Flatten)           (None, 784)               0         \n",
      "                                                                 \n",
      " dense (Dense)               (None, 124)               97340     \n",
      "                                                                 \n",
      " dense_1 (Dense)             (None, 124)               15500     \n",
      "                                                                 \n",
      " dense_2 (Dense)             (None, 124)               15500     \n",
      "                                                                 \n",
      " dense_3 (Dense)             (None, 124)               15500     \n",
      "                                                                 \n",
      " dense_4 (Dense)             (None, 124)               15500     \n",
      "                                                                 \n",
      " dense_5 (Dense)             (None, 124)               15500     \n",
      "                                                                 \n",
      " dense_6 (Dense)             (None, 124)               15500     \n",
      "                                                                 \n",
      " dense_7 (Dense)             (None, 10)                1250      \n",
      "                                                                 \n",
      "=================================================================\n",
      "Total params: 191590 (748.40 KB)\n",
      "Trainable params: 191590 (748.40 KB)\n",
      "Non-trainable params: 0 (0.00 Byte)\n",
      "_________________________________________________________________\n"
     ]
    }
   ],
   "source": [
    "#Extract number 1\n",
    "best_model = best3[0]\n",
    "best_model.summary()"
   ]
  },
  {
   "cell_type": "code",
   "execution_count": 41,
   "id": "3ea8ddf2",
   "metadata": {},
   "outputs": [
    {
     "data": {
      "text/plain": [
       "[<keras_tuner.src.engine.hyperparameters.hyperparameters.HyperParameters at 0x1d9acfd82b0>,\n",
       " <keras_tuner.src.engine.hyperparameters.hyperparameters.HyperParameters at 0x1d9ad0a4160>,\n",
       " <keras_tuner.src.engine.hyperparameters.hyperparameters.HyperParameters at 0x1d9abfa3b50>]"
      ]
     },
     "execution_count": 41,
     "metadata": {},
     "output_type": "execute_result"
    }
   ],
   "source": [
    "## And associated hyperparameters?\n",
    "######\n",
    "\n",
    "best3_hyper = random_search_tuner.get_best_hyperparameters(num_trials=3)\n",
    "best3_hyper"
   ]
  },
  {
   "cell_type": "code",
   "execution_count": 42,
   "id": "71877ff3",
   "metadata": {},
   "outputs": [
    {
     "data": {
      "text/plain": [
       "{'n_hidden': 7,\n",
       " 'n_neurons': 124,\n",
       " 'learning_rate': 0.0005509513888645584,\n",
       " 'optimizer': 'nadam'}"
      ]
     },
     "execution_count": 42,
     "metadata": {},
     "output_type": "execute_result"
    }
   ],
   "source": [
    "best3_hyper[0].values"
   ]
  },
  {
   "cell_type": "code",
   "execution_count": 43,
   "id": "419d7972",
   "metadata": {},
   "outputs": [
    {
     "data": {
      "text/plain": [
       "[<keras_tuner.src.engine.trial.Trial at 0x1d9abf0d6f0>,\n",
       " <keras_tuner.src.engine.trial.Trial at 0x1d9a0fd5990>,\n",
       " <keras_tuner.src.engine.trial.Trial at 0x1d9abf0d330>]"
      ]
     },
     "execution_count": 43,
     "metadata": {},
     "output_type": "execute_result"
    }
   ],
   "source": [
    "## We can also consult the Oracle:\n",
    "\n",
    "best_trials = random_search_tuner.oracle.get_best_trials(num_trials=3)\n",
    "best_trials"
   ]
  },
  {
   "cell_type": "code",
   "execution_count": 44,
   "id": "36f08846",
   "metadata": {},
   "outputs": [
    {
     "name": "stdout",
     "output_type": "stream",
     "text": [
      "Trial 08 summary\n",
      "Hyperparameters:\n",
      "n_hidden: 7\n",
      "n_neurons: 124\n",
      "learning_rate: 0.0005509513888645584\n",
      "optimizer: nadam\n",
      "Score: 0.9485999941825867\n"
     ]
    }
   ],
   "source": [
    "best_trials[0].summary()"
   ]
  },
  {
   "cell_type": "code",
   "execution_count": 45,
   "id": "7f2289df",
   "metadata": {},
   "outputs": [
    {
     "name": "stdout",
     "output_type": "stream",
     "text": [
      "Epoch 1/5\n",
      "1719/1719 [==============================] - 5s 2ms/step - loss: 0.1771 - accuracy: 0.9477 - val_loss: 0.1304 - val_accuracy: 0.9620\n",
      "Epoch 2/5\n",
      "1719/1719 [==============================] - 3s 2ms/step - loss: 0.1102 - accuracy: 0.9677 - val_loss: 0.0856 - val_accuracy: 0.9756\n",
      "Epoch 3/5\n",
      "1719/1719 [==============================] - 3s 2ms/step - loss: 0.0859 - accuracy: 0.9746 - val_loss: 0.0885 - val_accuracy: 0.9740\n",
      "Epoch 4/5\n",
      "1719/1719 [==============================] - 3s 2ms/step - loss: 0.0697 - accuracy: 0.9791 - val_loss: 0.1002 - val_accuracy: 0.9716\n",
      "Epoch 5/5\n",
      "1719/1719 [==============================] - 3s 2ms/step - loss: 0.0572 - accuracy: 0.9823 - val_loss: 0.1004 - val_accuracy: 0.9726\n"
     ]
    },
    {
     "data": {
      "text/plain": [
       "<keras.src.callbacks.History at 0x1d9ad11b640>"
      ]
     },
     "execution_count": 45,
     "metadata": {},
     "output_type": "execute_result"
    }
   ],
   "source": [
    "### Now that we have the best of our candidate models, can also train a little further on full train set\n",
    "##########\n",
    "\n",
    "best_model.fit(X_train, y_train,\n",
    "               epochs=5,\n",
    "               validation_data=(X_valid, y_valid))"
   ]
  },
  {
   "cell_type": "markdown",
   "id": "9d83bba5",
   "metadata": {},
   "source": [
    "### Other Methods?\n",
    "\n",
    "- Several other Keras tuners\n",
    "- Can also use `KerasRegressor` and `KerasClassifier` wrappers from SciKeras and use `GridSearchCV` or `RandomizedSearchCV`\n",
    "- Evolutionary algorithms active area of research\n",
    "- Can always write your own"
   ]
  },
  {
   "cell_type": "code",
   "execution_count": 46,
   "id": "93ffb7e2",
   "metadata": {},
   "outputs": [],
   "source": [
    "## Bayesian Tuner:\n",
    "#Has own hyperparameters: alpha and beta\n",
    "#alpha represents level of noise you expect in performance measures across trials\n",
    "#beta indicates how much of parameter space you should explore\n",
    "#Defaults below:\n",
    "##########\n",
    "\n",
    "bayesian_tuner = kt.BayesianOptimization(\n",
    "                        build_model, objective=\"val_accuracy\", seed=42,\n",
    "                        max_trials=10,\n",
    "                        alpha=1e-4, beta=2.6,\n",
    "                        overwrite=True, directory=\"my_tuner_stuff\", project_name=\"bayesian_search\")"
   ]
  },
  {
   "cell_type": "code",
   "execution_count": 47,
   "id": "d4cec34a",
   "metadata": {
    "scrolled": true
   },
   "outputs": [
    {
     "name": "stdout",
     "output_type": "stream",
     "text": [
      "Trial 10 Complete [00h 00m 05s]\n",
      "val_accuracy: 0.9269999861717224\n",
      "\n",
      "Best val_accuracy So Far: 0.9476000070571899\n",
      "Total elapsed time: 00h 00m 53s\n"
     ]
    }
   ],
   "source": [
    "#And do the search:\n",
    "####\n",
    "\n",
    "bayesian_tuner.search(X_train[:5000], y_train[:5000], epochs=5,\n",
    "                          validation_data=(X_valid, y_valid))"
   ]
  },
  {
   "cell_type": "code",
   "execution_count": 54,
   "id": "ad642241",
   "metadata": {},
   "outputs": [
    {
     "name": "stdout",
     "output_type": "stream",
     "text": [
      "Trial 08 summary\n",
      "Hyperparameters:\n",
      "n_hidden: 7\n",
      "n_neurons: 124\n",
      "learning_rate: 0.0005509513888645584\n",
      "optimizer: nadam\n",
      "Score: 0.9476000070571899\n"
     ]
    }
   ],
   "source": [
    "best_trials = bayesian_tuner.oracle.get_best_trials(num_trials=3)\n",
    "best_trials[0].summary()"
   ]
  }
 ],
 "metadata": {
  "kernelspec": {
   "display_name": "Python 3 (ipykernel)",
   "language": "python",
   "name": "python3"
  },
  "language_info": {
   "codemirror_mode": {
    "name": "ipython",
    "version": 3
   },
   "file_extension": ".py",
   "mimetype": "text/x-python",
   "name": "python",
   "nbconvert_exporter": "python",
   "pygments_lexer": "ipython3",
   "version": "3.10.12"
  }
 },
 "nbformat": 4,
 "nbformat_minor": 5
}
