{
 "cells": [
  {
   "cell_type": "markdown",
   "id": "03f51ae5",
   "metadata": {},
   "source": [
    "# Implement Back Propagation from Scratch\n",
    "\n",
    "- Very simple implementation of a neural net with a single layer\n",
    "- Not optimized/vectorized, but that's okay..."
   ]
  },
  {
   "cell_type": "code",
   "execution_count": 1,
   "id": "b26e04f3",
   "metadata": {},
   "outputs": [],
   "source": [
    "import numpy as np\n",
    "import matplotlib.pyplot as plt\n",
    "import pandas as pd"
   ]
  },
  {
   "cell_type": "code",
   "execution_count": 2,
   "id": "5301ae0b",
   "metadata": {},
   "outputs": [
    {
     "data": {
      "image/png": "[encoded data removed]",
      "text/plain": [
       "<Figure size 640x480 with 1 Axes>"
      ]
     },
     "metadata": {},
     "output_type": "display_data"
    }
   ],
   "source": [
    "## Let's make an input matrix:\n",
    "\n",
    "np.random.seed(42)\n",
    "\n",
    "#Some synthetic data\n",
    "N = 50\n",
    "\n",
    "#Random points:\n",
    "x1 = np.random.uniform(1, 10, N)\n",
    "x2 = np.random.uniform(1, 10, N)\n",
    "\n",
    "#Linear equation:\n",
    "y = x1*2 + x2**1.5 + np.random.normal(loc=0, scale=1, size=N)\n",
    "\n",
    "#Let's reshape y to be Nx1\n",
    "y = y.reshape(-1,1)\n",
    "\n",
    "#Plot our data:\n",
    "plt.scatter(x1, x2, c=y);"
   ]
  },
  {
   "cell_type": "code",
   "execution_count": 3,
   "id": "b7de81f0",
   "metadata": {},
   "outputs": [
    {
     "data": {
      "text/plain": [
       "(50, 2)"
      ]
     },
     "execution_count": 3,
     "metadata": {},
     "output_type": "execute_result"
    }
   ],
   "source": [
    "##Input Matrix:\n",
    "X = np.c_[x1, x2]\n",
    "X.shape"
   ]
  },
  {
   "cell_type": "code",
   "execution_count": 4,
   "id": "225a3a1c",
   "metadata": {},
   "outputs": [],
   "source": [
    "##We'll have just two layers, in addition to input layer: A hidden layer, and output layer"
   ]
  },
  {
   "cell_type": "code",
   "execution_count": 39,
   "id": "7a1448d7",
   "metadata": {},
   "outputs": [],
   "source": [
    "#Now, let's initialize a single hidden layer, gets the inputs\n",
    "num_hidden = 8\n"
   ]
  },
  {
   "cell_type": "code",
   "execution_count": 50,
   "id": "5d38258c",
   "metadata": {},
   "outputs": [
    {
     "data": {
      "text/plain": [
       "(3, 8)"
      ]
     },
     "execution_count": 50,
     "metadata": {},
     "output_type": "execute_result"
    }
   ],
   "source": [
    "#Our hidden incoming weights are our bias term + the two inputs\n",
    "#Initialize to normal randoms\n",
    "sig = np.sqrt(1/(num_hidden + 3)/2)\n",
    "#sig = 1\n",
    "weights1 = np.random.normal(0, np.sqrt(1/(num_hidden + 3)/2), (X.shape[1] + 1, num_hidden))\n",
    "\n",
    "#So, we have 3 inputs onto X neurons\n",
    "weights1.shape\n",
    "\n",
    "#weights1.transpose().shape"
   ]
  },
  {
   "cell_type": "code",
   "execution_count": 51,
   "id": "08dae8b9",
   "metadata": {},
   "outputs": [
    {
     "data": {
      "text/plain": [
       "(9, 1)"
      ]
     },
     "execution_count": 51,
     "metadata": {},
     "output_type": "execute_result"
    }
   ],
   "source": [
    "#And output weights?\n",
    "#Bias plus number of outputs, which is just 1\n",
    "sig = np.sqrt(1/(num_hidden + 1)/2)\n",
    "#sig = 1\n",
    "weights2 = np.random.normal(0, sig, (num_hidden + 1, y.shape[1]))\n",
    "weights2.shape"
   ]
  },
  {
   "cell_type": "code",
   "execution_count": 52,
   "id": "d1dd8789",
   "metadata": {},
   "outputs": [
    {
     "data": {
      "text/plain": [
       "(50, 3)"
      ]
     },
     "execution_count": 52,
     "metadata": {},
     "output_type": "execute_result"
    }
   ],
   "source": [
    "##Let's augment our input with a 1 for the bias for the first layer:\n",
    "X_aug = np.c_[np.ones((N,1)), x1, x2]\n",
    "X_aug.shape"
   ]
  },
  {
   "cell_type": "code",
   "execution_count": 53,
   "id": "11df32ae",
   "metadata": {},
   "outputs": [],
   "source": [
    "#Define our activation function for the hidden nodes:\n",
    "\n",
    "def sigmoid(x, derivative=False):\n",
    "    if (derivative):\n",
    "        return sigmoid(x) * (1 - sigmoid(x))\n",
    "    else:\n",
    "        return 1 / (1 + np.exp(-x))"
   ]
  },
  {
   "cell_type": "code",
   "execution_count": 54,
   "id": "a2d94b8d",
   "metadata": {},
   "outputs": [],
   "source": [
    "def g0(x, derivative=False):\n",
    "    if (derivative):\n",
    "        return 1\n",
    "    else:\n",
    "        return x"
   ]
  },
  {
   "cell_type": "code",
   "execution_count": 55,
   "id": "aca09e80",
   "metadata": {},
   "outputs": [],
   "source": [
    "#Use sigmoid activation function\n",
    "g = sigmoid"
   ]
  },
  {
   "cell_type": "code",
   "execution_count": 60,
   "id": "c883f984",
   "metadata": {},
   "outputs": [],
   "source": [
    "#Let's run the method...\n",
    "\n",
    "# Learning rate\n",
    "alpha = .001\n",
    "\n",
    "\n",
    "#Pre-allocate matrices for partal derivatives:\n",
    "partial_E_layer1 = np.zeros([len(X), num_hidden, X_aug.shape[1]])\n",
    "partial_E_layer2 = np.zeros([len(X), num_hidden + 1])\n",
    "\n",
    "num_iters = 10000\n",
    "\n",
    "\n",
    "# Run gradient descent\n",
    "for index in range(num_iters):\n",
    "\n",
    "    #First we do the forward pass:\n",
    "    #Calculate all activation values\n",
    "    #All outputs\n",
    "    #And all local errors (delta_js)\n",
    "   \n",
    "    #Do for each observation:\n",
    "    for obs in range(len(X)):\n",
    "        \n",
    "        ## Forward Pass:\n",
    "        ############\n",
    "        \n",
    "        x = X_aug[obs, :]\n",
    "        \n",
    "        delta_Ed = 0\n",
    "        \n",
    "        #Calculate the activation values:\n",
    "        #First layer:\n",
    "        #Want an Xx1\n",
    "        a_1 = np.zeros((num_hidden,1))\n",
    "        \n",
    "        #Get Xx1 of activation terms\n",
    "        a_1 = weights1.transpose().dot(x)\n",
    "        \n",
    "        #Now calculate the outputs:\n",
    "        #Use activation function\n",
    "        o_1 = g(a_1)\n",
    "        \n",
    "        #Add a 1 to the beginning for bias:\n",
    "        o_1 = np.r_[1, o_1]\n",
    "        \n",
    "        \n",
    "        ## Now that we have outputs from layer 1, the only hidden layer, let get a_2 and o_2 = y_hat\n",
    "        #####\n",
    "        a_2 = weights2.transpose().dot(o_1)\n",
    "        \n",
    "        #And output transformed by g0:\n",
    "        o_2 = g0(a_2)\n",
    "        \n",
    "        y_hat = o_2\n",
    "        \n",
    "        \n",
    "        ## Now the backward pass:\n",
    "        #########\n",
    "        \n",
    "        #Calculate delta_js:\n",
    "        #########\n",
    "        #delta_1 at final layer, which is layer 2\n",
    "        y_true = y[obs]\n",
    "        delta_2 = g0(a_2, derivative=True) * (y_hat - y_true)\n",
    "        \n",
    "        \n",
    "        ## Now delta_js for layer 1, the only hidden layer:\n",
    "        ## No explicit summation because final layer only has one node\n",
    "        delta_1 = np.zeros((num_hidden, 1))\n",
    "        for j in range(num_hidden):\n",
    "            delta_1[j] = g(a_1[j], derivative=True) * weights2[j] * delta_2\n",
    "        \n",
    "        #print(delta_1.shape)\n",
    "        #Given the delta_js, we can calculate delta_Es:\n",
    "        partial_E_layer1[obs, :, :] = delta_1 * x\n",
    "        \n",
    "        partial_E_layer2[obs, :] = delta_2 * o_1\n",
    "        \n",
    "        #partial_E_layer1 = delta_1 * x\n",
    "        \n",
    "        #partial_E_layer2 = delta_2 * o_1\n",
    "        \n",
    "    ## Get average of partial derivatives\n",
    "    partial_E_layer1_avg = np.mean(partial_E_layer1, axis=0)\n",
    "    partial_E_layer2_avg = np.mean(partial_E_layer2, axis=0)\n",
    "\n",
    "\n",
    "    #And update weights:\n",
    "    weights1 = weights1 - alpha * partial_E_layer1_avg.transpose()\n",
    "\n",
    "    #print(weights2.shape)\n",
    "    #print(partial_E_layer2_avg.shape)\n",
    "    weights2 = weights2 - alpha * partial_E_layer2_avg.reshape(-1,1)\n",
    "    \n",
    "\n",
    "    #print(index)\n",
    "#(y_hat - y_true)"
   ]
  },
  {
   "cell_type": "code",
   "execution_count": 61,
   "id": "dc7a2401",
   "metadata": {},
   "outputs": [],
   "source": [
    "#Now calculate y_hat for the trained network:\n",
    "############\n",
    "\n",
    "y_hat = np.zeros([len(X),1])\n",
    "\n",
    "for obs in range(len(X)):\n",
    "\n",
    "    ## Forward Pass:\n",
    "    ############\n",
    "\n",
    "    x = X_aug[obs, :]\n",
    "    \n",
    "    delta_Ed = 0\n",
    "\n",
    "    #Calculate the activation values:\n",
    "    #First layer:\n",
    "    a_1 = np.zeros((num_hidden,1))\n",
    "\n",
    "    #Get activation terms\n",
    "    a_1 = weights1.transpose().dot(x)\n",
    "\n",
    "    #Now calculate the outputs:\n",
    "    #Use activation function\n",
    "    o_1 = g(a_1)\n",
    "\n",
    "    #Add a 1 to the beginning for bias:\n",
    "    o_1 = np.r_[1, o_1]\n",
    "\n",
    "\n",
    "    ## Now that we have outputs from layer 1, the only hidden layer, let get a_2 and o_2 = y_hat\n",
    "    #####\n",
    "    a_2 = weights2.transpose().dot(o_1)\n",
    "\n",
    "    #And output transformed by g0:\n",
    "    o_2 = g0(a_2)\n",
    "\n",
    "    y_hat[obs] = o_2\n",
    "    \n",
    "    "
   ]
  },
  {
   "cell_type": "code",
   "execution_count": 62,
   "id": "39ac490d",
   "metadata": {},
   "outputs": [
    {
     "data": {
      "image/png": "[encoded data removed]",
      "text/plain": [
       "<Figure size 640x480 with 1 Axes>"
      ]
     },
     "metadata": {},
     "output_type": "display_data"
    }
   ],
   "source": [
    "#Plot our predictions:\n",
    "######\n",
    "plt.scatter(x1, x2, c=y_hat);"
   ]
  },
  {
   "cell_type": "code",
   "execution_count": 63,
   "id": "b3eeaefd",
   "metadata": {},
   "outputs": [
    {
     "data": {
      "text/plain": [
       "<matplotlib.collections.PathCollection at 0x1fdaa501360>"
      ]
     },
     "execution_count": 63,
     "metadata": {},
     "output_type": "execute_result"
    },
    {
     "data": {
      "image/png": "[encoded data removed]",
      "text/plain": [
       "<Figure size 640x480 with 1 Axes>"
      ]
     },
     "metadata": {},
     "output_type": "display_data"
    }
   ],
   "source": [
    "#Predictions and truth?\n",
    "#####\n",
    "\n",
    "plt.scatter(y, y_hat)"
   ]
  }
 ],
 "metadata": {
  "kernelspec": {
   "display_name": "Python 3 (ipykernel)",
   "language": "python",
   "name": "python3"
  },
  "language_info": {
   "codemirror_mode": {
    "name": "ipython",
    "version": 3
   },
   "file_extension": ".py",
   "mimetype": "text/x-python",
   "name": "python",
   "nbconvert_exporter": "python",
   "pygments_lexer": "ipython3",
   "version": "3.10.12"
  }
 },
 "nbformat": 4,
 "nbformat_minor": 5
}
