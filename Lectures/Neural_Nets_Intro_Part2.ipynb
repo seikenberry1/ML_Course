{
 "cells": [
  {
   "cell_type": "markdown",
   "id": "3cb1f38d",
   "metadata": {},
   "source": [
    "# Introducing Neural Nets: Part 2\n",
    "\n",
    "This notebook:\n",
    "\n",
    "- Keras Functional API\n",
    "- Subclassing API\n",
    "- Saving Models\n",
    "- Callbacks\n",
    "- TensorBoard\n"
   ]
  },
  {
   "cell_type": "markdown",
   "id": "c93f872f",
   "metadata": {},
   "source": [
    "### Let's Start With a Demo\n",
    "\n",
    "http://playground.tensorflow.org"
   ]
  },
  {
   "cell_type": "code",
   "execution_count": 1,
   "id": "d46f18a6",
   "metadata": {},
   "outputs": [],
   "source": [
    "#Libraries\n",
    "import pandas as pd\n",
    "import numpy as np\n",
    "import matplotlib.pyplot as plt\n",
    "\n",
    "import tensorflow as tf"
   ]
  },
  {
   "cell_type": "markdown",
   "id": "96dd5f73",
   "metadata": {},
   "source": [
    "## A Regression Model in Keras\n",
    "\n",
    "- Let's review keras, start with a simple regression model this time:"
   ]
  },
  {
   "cell_type": "code",
   "execution_count": 2,
   "id": "792e0e1d",
   "metadata": {},
   "outputs": [],
   "source": [
    "#Get started:\n",
    "\n",
    "#tf.keras.backend.clear_session()\n",
    "#tf.random.set_seed(42)"
   ]
  },
  {
   "cell_type": "code",
   "execution_count": 3,
   "id": "d0672d7f",
   "metadata": {},
   "outputs": [
    {
     "data": {
      "image/png": "[encoded data removed]",
      "text/plain": [
       "<Figure size 640x480 with 1 Axes>"
      ]
     },
     "metadata": {},
     "output_type": "display_data"
    }
   ],
   "source": [
    "#Some synthetic data\n",
    "N = 1000\n",
    "\n",
    "#Random points sorted\n",
    "x = np.random.uniform(-1, 1, N)\n",
    "x.sort()\n",
    "\n",
    "#Equation with complicated first part, simple linear second part:\n",
    "y = np.sin((x*10)) + 2*x + np.random.normal(loc=0, scale=.05, size=N)\n",
    "\n",
    "#Alt:\n",
    "y = np.sin((x*5)**2) + 2*x + np.random.normal(loc=0, scale=.05, size=N)\n",
    "\n",
    "#Plot our data:\n",
    "plt.plot(x, y, 'o', markersize=2);"
   ]
  },
  {
   "cell_type": "code",
   "execution_count": 4,
   "id": "2f9ee00b",
   "metadata": {},
   "outputs": [],
   "source": [
    "#Let's optionally add a few modifications of x:\n",
    "add_features = True\n",
    "\n",
    "if (add_features):\n",
    "    X_np = np.c_[x, x**2, np.sin(x)]\n",
    "\n",
    "    #And convert to DataFrame:\n",
    "    X = pd.DataFrame(X_np, columns = ['x', 'x2', 'sin_x'])\n",
    "    \n",
    "else:\n",
    "    X_np = x.reshape(-1,1)\n",
    "    X = pd.DataFrame(X_np, columns = ['x'])\n",
    "    \n",
    "    \n",
    "## Similarly, make y a Series:\n",
    "y = pd.Series(y)\n",
    "\n",
    "#If we just had x:\n",
    "#X = x.reshape(-1,1)"
   ]
  },
  {
   "cell_type": "code",
   "execution_count": 5,
   "id": "dbd80986",
   "metadata": {},
   "outputs": [],
   "source": [
    "## And train-test split:\n",
    "from sklearn.model_selection import train_test_split\n",
    "\n",
    "#Initial Train/Test Split:\n",
    "X_train, X_test, y_train, y_test = train_test_split(X, y, test_size=.4, random_state=42)\n",
    "\n",
    "#Let's also create a simple validation set:\n",
    "X_train, X_valid, y_train, y_valid = train_test_split(X_train, y_train, test_size=.1, random_state=42)"
   ]
  },
  {
   "cell_type": "code",
   "execution_count": 6,
   "id": "a3f95b86",
   "metadata": {},
   "outputs": [
    {
     "data": {
      "text/html": [
       "<div>\n",
       "<style scoped>\n",
       "    .dataframe tbody tr th:only-of-type {\n",
       "        vertical-align: middle;\n",
       "    }\n",
       "\n",
       "    .dataframe tbody tr th {\n",
       "        vertical-align: top;\n",
       "    }\n",
       "\n",
       "    .dataframe thead th {\n",
       "        text-align: right;\n",
       "    }\n",
       "</style>\n",
       "<table border=\"1\" class=\"dataframe\">\n",
       "  <thead>\n",
       "    <tr style=\"text-align: right;\">\n",
       "      <th></th>\n",
       "      <th>x</th>\n",
       "      <th>x2</th>\n",
       "      <th>sin_x</th>\n",
       "    </tr>\n",
       "  </thead>\n",
       "  <tbody>\n",
       "    <tr>\n",
       "      <th>0</th>\n",
       "      <td>-0.997566</td>\n",
       "      <td>0.995137</td>\n",
       "      <td>-0.840153</td>\n",
       "    </tr>\n",
       "    <tr>\n",
       "      <th>2</th>\n",
       "      <td>-0.991044</td>\n",
       "      <td>0.982167</td>\n",
       "      <td>-0.836598</td>\n",
       "    </tr>\n",
       "    <tr>\n",
       "      <th>3</th>\n",
       "      <td>-0.981863</td>\n",
       "      <td>0.964054</td>\n",
       "      <td>-0.831533</td>\n",
       "    </tr>\n",
       "    <tr>\n",
       "      <th>5</th>\n",
       "      <td>-0.979630</td>\n",
       "      <td>0.959674</td>\n",
       "      <td>-0.830291</td>\n",
       "    </tr>\n",
       "    <tr>\n",
       "      <th>6</th>\n",
       "      <td>-0.972980</td>\n",
       "      <td>0.946690</td>\n",
       "      <td>-0.826567</td>\n",
       "    </tr>\n",
       "  </tbody>\n",
       "</table>\n",
       "</div>"
      ],
      "text/plain": [
       "          x        x2     sin_x\n",
       "0 -0.997566  0.995137 -0.840153\n",
       "2 -0.991044  0.982167 -0.836598\n",
       "3 -0.981863  0.964054 -0.831533\n",
       "5 -0.979630  0.959674 -0.830291\n",
       "6 -0.972980  0.946690 -0.826567"
      ]
     },
     "execution_count": 6,
     "metadata": {},
     "output_type": "execute_result"
    }
   ],
   "source": [
    "#Let's sort X_test for later display purposes\n",
    "####\n",
    "\n",
    "X_test = X_test.sort_values(by = 'x')\n",
    "X_test.head()"
   ]
  },
  {
   "cell_type": "code",
   "execution_count": 7,
   "id": "3edcd0ce",
   "metadata": {},
   "outputs": [
    {
     "data": {
      "text/plain": [
       "0   -2.212465\n",
       "2   -2.533542\n",
       "3   -2.777491\n",
       "5   -2.936074\n",
       "6   -2.961704\n",
       "dtype: float64"
      ]
     },
     "execution_count": 7,
     "metadata": {},
     "output_type": "execute_result"
    }
   ],
   "source": [
    "### And match y_test by index:\n",
    "y_test = y_test.loc[X_test.index]\n",
    "y_test.head()"
   ]
  },
  {
   "cell_type": "code",
   "execution_count": 8,
   "id": "e6b10df2",
   "metadata": {},
   "outputs": [],
   "source": [
    "### Now define a model using the Sequential API:\n",
    "##########"
   ]
  },
  {
   "cell_type": "code",
   "execution_count": 9,
   "id": "940310c3",
   "metadata": {},
   "outputs": [],
   "source": [
    "#Let's include a normalization layer this time:\n",
    "#Note the shape:\n",
    "normalization_layer = tf.keras.layers.Normalization(input_shape=X_train.shape[1:])\n",
    "\n",
    "#Now we can declare our sequential model like so; a little different from last time\n",
    "model = tf.keras.Sequential([\n",
    "    normalization_layer,\n",
    "    tf.keras.layers.Dense(10, activation=\"relu\"),\n",
    "    tf.keras.layers.Dense(10, activation=\"relu\"),\n",
    "    #tf.keras.layers.Dense(10, activation=\"relu\"),\n",
    "    tf.keras.layers.Dense(1)\n",
    "])\n",
    "\n",
    "#Get an optimizer, specify learning rate\n",
    "optimizer = tf.keras.optimizers.Adam(learning_rate=1e-2)\n",
    "\n",
    "#Compile the model: Specify loss\n",
    "model.compile(loss=\"mse\", optimizer=optimizer, metrics=[\"RootMeanSquaredError\"])\n",
    "\n",
    "#Now, we call ADAPT to perform the normalization:\n",
    "#Also, this is a method of the normalization layer itself:\n",
    "##########\n",
    "normalization_layer.adapt(X_train)"
   ]
  },
  {
   "cell_type": "code",
   "execution_count": 10,
   "id": "39ab71dd",
   "metadata": {},
   "outputs": [
    {
     "data": {
      "text/plain": [
       "<Axes: >"
      ]
     },
     "execution_count": 10,
     "metadata": {},
     "output_type": "execute_result"
    },
    {
     "data": {
      "image/png": "[encoded data removed]",
      "text/plain": [
       "<Figure size 600x400 with 2 Axes>"
      ]
     },
     "metadata": {},
     "output_type": "display_data"
    }
   ],
   "source": [
    "## Let's fit\n",
    "## Run this cell a couple times\n",
    "\n",
    "history = model.fit(X_train, y_train, epochs=100, \n",
    "                    validation_split=0.1, verbose=False)\n",
    "\n",
    "#See how we did:\n",
    "#Make DataFrame\n",
    "df = pd.DataFrame(history.history)\n",
    "\n",
    "## Plot\n",
    "fig, ax1 = plt.subplots(2,1, figsize=(6,4))\n",
    "\n",
    "df[['loss', 'val_loss']].plot(ax=ax1[0])\n",
    "df[['root_mean_squared_error', 'val_root_mean_squared_error']].plot(ax=ax1[1])"
   ]
  },
  {
   "cell_type": "code",
   "execution_count": 11,
   "id": "cd5b0975",
   "metadata": {},
   "outputs": [
    {
     "name": "stdout",
     "output_type": "stream",
     "text": [
      "13/13 [==============================] - 0s 667us/step\n"
     ]
    }
   ],
   "source": [
    "## And predict for model1 on test set:\n",
    "y_pred1 = model.predict(X_test)\n"
   ]
  },
  {
   "cell_type": "code",
   "execution_count": 12,
   "id": "60ecfbda",
   "metadata": {},
   "outputs": [
    {
     "data": {
      "image/png": "[encoded data removed]",
      "text/plain": [
       "<Figure size 640x480 with 1 Axes>"
      ]
     },
     "metadata": {},
     "output_type": "display_data"
    }
   ],
   "source": [
    "#Plot our data:\n",
    "plt.plot(X_test.x, y_test, 'o', markersize=5);\n",
    "plt.plot(X_test.x, y_pred1);"
   ]
  },
  {
   "cell_type": "markdown",
   "id": "39469123",
   "metadata": {},
   "source": [
    "## A note on structure: Shallow and Wide or Narrow and Deep?\n",
    "\n",
    "- A single layer, sufficiently large, could in principle capture any nonlinear transformation of the input\n",
    "- More smaller stacked layers is much more efficient:\n",
    "    - Lower layers learn more primitive patterns\n",
    "    - Combined into higher-order patterns by upper layers\n",
    "    - Example: Draw a tree: More to get stereotyped leaves, branches, roots, and put together than to make all at once"
   ]
  },
  {
   "cell_type": "markdown",
   "id": "f4bb3a5c",
   "metadata": {},
   "source": [
    "## Functional API\n",
    "\n",
    "Let's build a *Wide and Deep*  neural network. Idea is to:\n",
    "\n",
    "- Learn complex rules through the deep path\n",
    "- Learn simple rules through the short path\n",
    "\n",
    "<img src=\"wide_and_deep.png\" alt=\"Wide and Deep Architecture\" style=\"width:325px;\"/>\n",
    "\n",
    "<br>\n",
    "\n",
    "Let's start by defining such a regression model using the Functional API:"
   ]
  },
  {
   "cell_type": "code",
   "execution_count": 13,
   "id": "d488aa12",
   "metadata": {},
   "outputs": [],
   "source": [
    "#We'll start with a normalization layer:\n",
    "normalization_layer = tf.keras.layers.Normalization()\n",
    "\n",
    "#Deep Path\n",
    "hidden_layer1 = tf.keras.layers.Dense(10, activation=\"relu\")\n",
    "hidden_layer2 = tf.keras.layers.Dense(10, activation=\"relu\")\n",
    "\n",
    "#Join wide and deep paths:\n",
    "concat_layer = tf.keras.layers.Concatenate()\n",
    "\n",
    "#Final output\n",
    "output_layer = tf.keras.layers.Dense(1)\n",
    "\n",
    "\n",
    "#Make an input layer\n",
    "input_layer = tf.keras.layers.Input(shape=X.shape[1:])\n",
    "\n",
    "#And now get the normalization of the input layer:\n",
    "normalized = normalization_layer(input_layer)\n",
    "\n",
    "#Apply hidden_layer1 to normalized input, gives us hidden1 as output\n",
    "hidden1 = hidden_layer1(normalized)\n",
    "\n",
    "#Apply hidden_layer2 to hidden1, get hidden2 as output\n",
    "hidden2 = hidden_layer2(hidden1)\n",
    "\n",
    "#Concatenate hidden2 and normalized together\n",
    "concat = concat_layer([normalized, hidden2])\n",
    "\n",
    "#Without normalized:\n",
    "#concat = concat_layer([hidden2])\n",
    "\n",
    "#Use concat as input to the final output_layer, get output as result\n",
    "output = output_layer(concat)\n",
    "\n",
    "#Finally, put all together as the keras model with inputs and outputs as follows:\n",
    "model_wd = tf.keras.Model(inputs=[input_layer], outputs=[output])"
   ]
  },
  {
   "cell_type": "code",
   "execution_count": 14,
   "id": "43f8cbed",
   "metadata": {},
   "outputs": [
    {
     "name": "stdout",
     "output_type": "stream",
     "text": [
      "Model: \"model\"\n",
      "__________________________________________________________________________________________________\n",
      " Layer (type)                Output Shape                 Param #   Connected to                  \n",
      "==================================================================================================\n",
      " input_1 (InputLayer)        [(None, 3)]                  0         []                            \n",
      "                                                                                                  \n",
      " normalization_1 (Normaliza  (None, 3)                    7         ['input_1[0][0]']             \n",
      " tion)                                                                                            \n",
      "                                                                                                  \n",
      " dense_3 (Dense)             (None, 10)                   40        ['normalization_1[0][0]']     \n",
      "                                                                                                  \n",
      " dense_4 (Dense)             (None, 10)                   110       ['dense_3[0][0]']             \n",
      "                                                                                                  \n",
      " concatenate (Concatenate)   (None, 13)                   0         ['normalization_1[0][0]',     \n",
      "                                                                     'dense_4[0][0]']             \n",
      "                                                                                                  \n",
      " dense_5 (Dense)             (None, 1)                    14        ['concatenate[0][0]']         \n",
      "                                                                                                  \n",
      "==================================================================================================\n",
      "Total params: 171 (688.00 Byte)\n",
      "Trainable params: 164 (656.00 Byte)\n",
      "Non-trainable params: 7 (32.00 Byte)\n",
      "__________________________________________________________________________________________________\n"
     ]
    }
   ],
   "source": [
    "#Let's summarize all this:\n",
    "\n",
    "model_wd.summary()"
   ]
  },
  {
   "cell_type": "code",
   "execution_count": 15,
   "id": "9885bb49",
   "metadata": {},
   "outputs": [],
   "source": [
    "## And compile, adapt:\n",
    "optimizer = tf.keras.optimizers.Adam(learning_rate=1e-2)\n",
    "model_wd.compile(loss=\"mse\", optimizer=optimizer, metrics=[\"RootMeanSquaredError\"])\n",
    "\n",
    "#Adapt normalization layer:\n",
    "normalization_layer.adapt(X_train)\n"
   ]
  },
  {
   "cell_type": "code",
   "execution_count": 16,
   "id": "798e8c38",
   "metadata": {},
   "outputs": [
    {
     "data": {
      "text/plain": [
       "<Axes: >"
      ]
     },
     "execution_count": 16,
     "metadata": {},
     "output_type": "execute_result"
    },
    {
     "data": {
      "image/png": "[encoded data removed]",
      "text/plain": [
       "<Figure size 600x400 with 2 Axes>"
      ]
     },
     "metadata": {},
     "output_type": "display_data"
    }
   ],
   "source": [
    "##Finally, let's try fitting and predicting with this bad boy:\n",
    "history = model_wd.fit(X_train, y_train, epochs=100,\n",
    "                       validation_split=0.1, verbose=False)\n",
    "\n",
    "\n",
    "#See how we did:\n",
    "#Make DataFrame\n",
    "df = pd.DataFrame(history.history)\n",
    "\n",
    "## Plot\n",
    "fig, ax1 = plt.subplots(2,1, figsize=(6,4))\n",
    "\n",
    "df[['loss', 'val_loss']].plot(ax=ax1[0])\n",
    "df[['root_mean_squared_error', 'val_root_mean_squared_error']].plot(ax=ax1[1])\n"
   ]
  },
  {
   "cell_type": "code",
   "execution_count": 17,
   "id": "5ae32b3d",
   "metadata": {},
   "outputs": [
    {
     "name": "stdout",
     "output_type": "stream",
     "text": [
      "13/13 [==============================] - 0s 833us/step\n"
     ]
    }
   ],
   "source": [
    "#mse_test = model.evaluate(X_test, y_test)\n",
    "y_pred2 = model_wd.predict(X_test)\n"
   ]
  },
  {
   "cell_type": "code",
   "execution_count": 18,
   "id": "b025ecda",
   "metadata": {},
   "outputs": [
    {
     "data": {
      "text/plain": [
       "[<matplotlib.lines.Line2D at 0x2988e850f40>]"
      ]
     },
     "execution_count": 18,
     "metadata": {},
     "output_type": "execute_result"
    },
    {
     "data": {
      "image/png": "[encoded data removed]",
      "text/plain": [
       "<Figure size 640x480 with 1 Axes>"
      ]
     },
     "metadata": {},
     "output_type": "display_data"
    }
   ],
   "source": [
    "#Plot our data:\n",
    "plt.plot(X_test.x, y_test, 'o', markersize=2);\n",
    "plt.plot(X_test.x, y_pred1) #, 'o', markersize=2);\n",
    "plt.plot(X_test.x, y_pred2) #, 'o', markersize=2);"
   ]
  },
  {
   "cell_type": "code",
   "execution_count": 19,
   "id": "e7b3347e",
   "metadata": {},
   "outputs": [
    {
     "data": {
      "text/plain": [
       "[array([[-0.37199885],\n",
       "        [-0.3727118 ],\n",
       "        [-0.12609652],\n",
       "        [ 0.7043159 ],\n",
       "        [ 0.384124  ],\n",
       "        [ 1.3203369 ],\n",
       "        [ 0.38271174],\n",
       "        [ 0.5157549 ],\n",
       "        [-0.2527627 ],\n",
       "        [ 0.3515608 ],\n",
       "        [-0.50234634],\n",
       "        [-0.6788218 ],\n",
       "        [-1.5805025 ]], dtype=float32),\n",
       " array([-0.0827998], dtype=float32)]"
      ]
     },
     "execution_count": 19,
     "metadata": {},
     "output_type": "execute_result"
    }
   ],
   "source": [
    "#Check Weights:\n",
    "output_layer.get_weights()"
   ]
  },
  {
   "cell_type": "markdown",
   "id": "648c2cb5",
   "metadata": {},
   "source": [
    "### Different Inputs for Each Path?\n",
    "\n",
    "- We can use the functional API to send different (possibly overlapping) groups of inputs through deep and wide paths\n",
    "\n",
    "<img src=\"wide_and_deep2.png\" alt=\"Wide and Deep Architecture\" style=\"width:325px;\"/>\n",
    "\n",
    "<br>\n",
    "\n",
    "Let's send `x` and `sin_x` through the wide path; `x` and `x2` through the deep path"
   ]
  },
  {
   "cell_type": "code",
   "execution_count": 20,
   "id": "5247b16c",
   "metadata": {},
   "outputs": [],
   "source": [
    "#Create our two input layers:\n",
    "######\n",
    "input_wide = tf.keras.layers.Input(shape=[2,])  # features 0 and 2\n",
    "\n",
    "input_deep = tf.keras.layers.Input(shape=[2,])  # features 0 and 1\n",
    "\n",
    "#We'll need normalization layers for both paths:\n",
    "norm_layer_wide = tf.keras.layers.Normalization()\n",
    "norm_layer_deep = tf.keras.layers.Normalization()\n",
    "\n",
    "\n",
    "#And the normalized inputs from each normalization layer:\n",
    "norm_wide = norm_layer_wide(input_wide)\n",
    "norm_deep = norm_layer_deep(input_deep)\n",
    "\n",
    "\n",
    "#Set up the deep path again:\n",
    "#######\n",
    "hidden_layer1 = tf.keras.layers.Dense(10, activation=\"relu\")\n",
    "hidden_layer2 = tf.keras.layers.Dense(10, activation=\"relu\")\n",
    "\n",
    "hidden1 = hidden_layer1(norm_deep)\n",
    "hidden2 = hidden_layer2(hidden1)\n",
    "\n",
    "\n",
    "#Concatenation Layer for the two paths:\n",
    "#######\n",
    "concat = tf.keras.layers.concatenate([norm_wide, hidden2])\n",
    "\n",
    "\n",
    "#Our final output:\n",
    "output_layer = tf.keras.layers.Dense(1)\n",
    "\n",
    "output = output_layer(concat)\n",
    "\n",
    "#Create the model: We pass input_wide and input_deep as inputs:\n",
    "model = tf.keras.Model(inputs=[input_wide, input_deep], outputs=[output])"
   ]
  },
  {
   "cell_type": "code",
   "execution_count": 21,
   "id": "92e53914",
   "metadata": {},
   "outputs": [
    {
     "name": "stdout",
     "output_type": "stream",
     "text": [
      "Model: \"model_1\"\n",
      "__________________________________________________________________________________________________\n",
      " Layer (type)                Output Shape                 Param #   Connected to                  \n",
      "==================================================================================================\n",
      " input_3 (InputLayer)        [(None, 2)]                  0         []                            \n",
      "                                                                                                  \n",
      " normalization_3 (Normaliza  (None, 2)                    5         ['input_3[0][0]']             \n",
      " tion)                                                                                            \n",
      "                                                                                                  \n",
      " input_2 (InputLayer)        [(None, 2)]                  0         []                            \n",
      "                                                                                                  \n",
      " dense_6 (Dense)             (None, 10)                   30        ['normalization_3[0][0]']     \n",
      "                                                                                                  \n",
      " normalization_2 (Normaliza  (None, 2)                    5         ['input_2[0][0]']             \n",
      " tion)                                                                                            \n",
      "                                                                                                  \n",
      " dense_7 (Dense)             (None, 10)                   110       ['dense_6[0][0]']             \n",
      "                                                                                                  \n",
      " concatenate_1 (Concatenate  (None, 12)                   0         ['normalization_2[0][0]',     \n",
      " )                                                                   'dense_7[0][0]']             \n",
      "                                                                                                  \n",
      " dense_8 (Dense)             (None, 1)                    13        ['concatenate_1[0][0]']       \n",
      "                                                                                                  \n",
      "==================================================================================================\n",
      "Total params: 163 (660.00 Byte)\n",
      "Trainable params: 153 (612.00 Byte)\n",
      "Non-trainable params: 10 (48.00 Byte)\n",
      "__________________________________________________________________________________________________\n"
     ]
    }
   ],
   "source": [
    "model.summary()"
   ]
  },
  {
   "cell_type": "code",
   "execution_count": 22,
   "id": "ae80f909",
   "metadata": {},
   "outputs": [],
   "source": [
    "## Look at some of our tensors:"
   ]
  },
  {
   "cell_type": "code",
   "execution_count": 23,
   "id": "bb2812e6",
   "metadata": {},
   "outputs": [
    {
     "data": {
      "text/plain": [
       "<KerasTensor: shape=(None, 2) dtype=float32 (created by layer 'input_2')>"
      ]
     },
     "execution_count": 23,
     "metadata": {},
     "output_type": "execute_result"
    }
   ],
   "source": [
    "input_wide"
   ]
  },
  {
   "cell_type": "code",
   "execution_count": 24,
   "id": "f27abf3f",
   "metadata": {},
   "outputs": [
    {
     "data": {
      "text/plain": [
       "<KerasTensor: shape=(None, 10) dtype=float32 (created by layer 'dense_6')>"
      ]
     },
     "execution_count": 24,
     "metadata": {},
     "output_type": "execute_result"
    }
   ],
   "source": [
    "hidden1"
   ]
  },
  {
   "cell_type": "code",
   "execution_count": 25,
   "id": "d3b78180",
   "metadata": {},
   "outputs": [],
   "source": [
    "## Once again, compile:\n",
    "####\n",
    "\n",
    "optimizer = tf.keras.optimizers.Adam(learning_rate=1e-2)\n",
    "model.compile(loss=\"mse\", optimizer=optimizer, metrics=[\"RootMeanSquaredError\"])\n"
   ]
  },
  {
   "cell_type": "code",
   "execution_count": 26,
   "id": "90e89ee0",
   "metadata": {},
   "outputs": [],
   "source": [
    "#Create our wide and deep versions of the X_train, X_valid, and X_test:\n",
    "X_train_wide, X_train_deep = X_train.iloc[:,[0,2]], X_train.iloc[:,[0,1]]\n",
    "\n",
    "X_valid_wide, X_valid_deep = X_valid.iloc[:,[0,2]], X_valid.iloc[:,[0,1]]\n",
    "\n",
    "X_test_wide, X_test_deep = X_test.iloc[:,[0,2]], X_test.iloc[:,[0,1]]\n"
   ]
  },
  {
   "cell_type": "code",
   "execution_count": 27,
   "id": "1e8dfedb",
   "metadata": {},
   "outputs": [],
   "source": [
    "## And adapt the normalization layers:\n",
    "#####\n",
    "\n",
    "norm_layer_wide.adapt(X_train_wide)\n",
    "norm_layer_deep.adapt(X_train_deep)\n"
   ]
  },
  {
   "cell_type": "code",
   "execution_count": 28,
   "id": "0b92b7a4",
   "metadata": {
    "scrolled": false
   },
   "outputs": [
    {
     "data": {
      "text/plain": [
       "<tf.Tensor: shape=(1, 2), dtype=float32, numpy=array([[0.0556985, 0.3158628]], dtype=float32)>"
      ]
     },
     "metadata": {},
     "output_type": "display_data"
    },
    {
     "data": {
      "text/plain": [
       "<tf.Tensor: shape=(1, 2), dtype=float32, numpy=array([[0.31276053, 0.08218403]], dtype=float32)>"
      ]
     },
     "metadata": {},
     "output_type": "display_data"
    }
   ],
   "source": [
    "#Check the mean and variance from one adapt:\n",
    "display(norm_layer_deep.mean)\n",
    "\n",
    "display(norm_layer_deep.variance)"
   ]
  },
  {
   "cell_type": "code",
   "execution_count": 29,
   "id": "f7d53476",
   "metadata": {},
   "outputs": [
    {
     "data": {
      "text/plain": [
       "<Axes: >"
      ]
     },
     "execution_count": 29,
     "metadata": {},
     "output_type": "execute_result"
    },
    {
     "data": {
      "image/png": "[encoded data removed]",
      "text/plain": [
       "<Figure size 600x400 with 2 Axes>"
      ]
     },
     "metadata": {},
     "output_type": "display_data"
    }
   ],
   "source": [
    "##Fit once again:\n",
    "history = model.fit((X_train_wide, X_train_deep), y_train, epochs=100,\n",
    "                       validation_data=((X_valid_wide, X_valid_deep), y_valid), verbose=False)\n",
    "\n",
    "#See how we did:\n",
    "#Make DataFrame\n",
    "df = pd.DataFrame(history.history)\n",
    "\n",
    "## Plot\n",
    "fig, ax1 = plt.subplots(2,1, figsize=(6,4))\n",
    "\n",
    "df[['loss', 'val_loss']].plot(ax=ax1[0])\n",
    "df[['root_mean_squared_error', 'val_root_mean_squared_error']].plot(ax=ax1[1])\n"
   ]
  },
  {
   "cell_type": "code",
   "execution_count": 30,
   "id": "596374e9",
   "metadata": {},
   "outputs": [
    {
     "name": "stdout",
     "output_type": "stream",
     "text": [
      "13/13 [==============================] - 0s 667us/step\n"
     ]
    },
    {
     "data": {
      "text/plain": [
       "[<matplotlib.lines.Line2D at 0x2988fc69ff0>]"
      ]
     },
     "execution_count": 30,
     "metadata": {},
     "output_type": "execute_result"
    },
    {
     "data": {
      "image/png": "[encoded data removed]",
      "text/plain": [
       "<Figure size 640x480 with 1 Axes>"
      ]
     },
     "metadata": {},
     "output_type": "display_data"
    }
   ],
   "source": [
    "##Predictions?\n",
    "\n",
    "y_pred3 = model.predict((X_test_wide, X_test_deep))\n",
    "\n",
    "#Plot our data:\n",
    "plt.plot(X_test.x, y_test, 'o', markersize=2);\n",
    "plt.plot(X_test.x, y_pred1) #, 'o', markersize=2);\n",
    "plt.plot(X_test.x, y_pred2) #, 'o', markersize=2);\n",
    "plt.plot(X_test.x, y_pred3) #, 'o', markersize=2);"
   ]
  },
  {
   "cell_type": "markdown",
   "id": "30b66ecd",
   "metadata": {},
   "source": [
    "### Add Multiple Outputs\n",
    "\n",
    "- Can use a single network to predict multiple outputs from the same data\n",
    "- Can combine regression with classification task; e.g. locate and object (regression for coordinates) + classification for object type\n",
    "- Can also use an auxiliary output for regularization or to force training on a subset of model\n",
    "- Can also give different outputs different weights in determing overall loss\n",
    "\n",
    "<img src=\"wide_and_deep3.png\" alt=\"Wide and Deep Architecture\" style=\"width:300px;\"/>"
   ]
  },
  {
   "cell_type": "code",
   "execution_count": 31,
   "id": "c4441612",
   "metadata": {},
   "outputs": [],
   "source": [
    "##Let's build our architecture again:\n",
    "########\n",
    "\n",
    "#We'll reset here so our layers have consistent names:\n",
    "####\n",
    "tf.keras.backend.clear_session()\n",
    "\n",
    "\n",
    "#Again, input layers:\n",
    "input_wide = tf.keras.layers.Input(shape=[2])\n",
    "input_deep = tf.keras.layers.Input(shape=[2])\n",
    "\n",
    "#Normalization:\n",
    "norm_layer_wide = tf.keras.layers.Normalization()\n",
    "norm_layer_deep = tf.keras.layers.Normalization()\n",
    "\n",
    "#Get outputs of normalization\n",
    "norm_wide = norm_layer_wide(input_wide)\n",
    "norm_deep = norm_layer_deep(input_deep)\n",
    "\n",
    "\n",
    "#Feed norm_deep to deep path:\n",
    "#We'll just combine creating the layer and passing the tensor through:\n",
    "hidden1 = tf.keras.layers.Dense(10, activation=\"relu\")(norm_deep)\n",
    "\n",
    "hidden2 = tf.keras.layers.Dense(10, activation=\"relu\")(hidden1)\n",
    "\n",
    "\n",
    "#Concatenate again:\n",
    "concat = tf.keras.layers.concatenate([norm_wide, hidden2])\n",
    "\n",
    "#Main Output:\n",
    "output = tf.keras.layers.Dense(1)(concat)\n",
    "\n",
    "#Auxiliary Output:\n",
    "aux_output = tf.keras.layers.Dense(1)(hidden2)\n",
    "\n",
    "\n",
    "#Make the model:\n",
    "model = tf.keras.Model(inputs=[input_wide, input_deep],\n",
    "                       outputs=[output, aux_output])"
   ]
  },
  {
   "cell_type": "code",
   "execution_count": 32,
   "id": "7cfc6ded",
   "metadata": {},
   "outputs": [
    {
     "name": "stdout",
     "output_type": "stream",
     "text": [
      "Model: \"model\"\n",
      "__________________________________________________________________________________________________\n",
      " Layer (type)                Output Shape                 Param #   Connected to                  \n",
      "==================================================================================================\n",
      " input_2 (InputLayer)        [(None, 2)]                  0         []                            \n",
      "                                                                                                  \n",
      " normalization_1 (Normaliza  (None, 2)                    5         ['input_2[0][0]']             \n",
      " tion)                                                                                            \n",
      "                                                                                                  \n",
      " input_1 (InputLayer)        [(None, 2)]                  0         []                            \n",
      "                                                                                                  \n",
      " dense (Dense)               (None, 10)                   30        ['normalization_1[0][0]']     \n",
      "                                                                                                  \n",
      " normalization (Normalizati  (None, 2)                    5         ['input_1[0][0]']             \n",
      " on)                                                                                              \n",
      "                                                                                                  \n",
      " dense_1 (Dense)             (None, 10)                   110       ['dense[0][0]']               \n",
      "                                                                                                  \n",
      " concatenate (Concatenate)   (None, 12)                   0         ['normalization[0][0]',       \n",
      "                                                                     'dense_1[0][0]']             \n",
      "                                                                                                  \n",
      " dense_2 (Dense)             (None, 1)                    13        ['concatenate[0][0]']         \n",
      "                                                                                                  \n",
      " dense_3 (Dense)             (None, 1)                    11        ['dense_1[0][0]']             \n",
      "                                                                                                  \n",
      "==================================================================================================\n",
      "Total params: 174 (704.00 Byte)\n",
      "Trainable params: 164 (656.00 Byte)\n",
      "Non-trainable params: 10 (48.00 Byte)\n",
      "__________________________________________________________________________________________________\n"
     ]
    }
   ],
   "source": [
    "model.summary()"
   ]
  },
  {
   "cell_type": "code",
   "execution_count": 33,
   "id": "bc27f70b",
   "metadata": {},
   "outputs": [],
   "source": [
    "## Compile, adapt, train:\n",
    "########\n",
    "\n",
    "#Compile\n",
    "optimizer = tf.keras.optimizers.Adam(learning_rate=1e-2)\n",
    "model.compile(loss=\"mse\", optimizer=optimizer, metrics=[\"RootMeanSquaredError\"])\n",
    "\n",
    "#Adapt\n",
    "norm_layer_wide.adapt(X_train_wide)\n",
    "norm_layer_deep.adapt(X_train_deep)\n",
    "\n",
    "\n",
    "#Fit\n",
    "## We can just use y_train as the auxiliary output for training:\n",
    "history = model.fit((X_train_wide, X_train_deep), (y_train, y_train), epochs=100,\n",
    "                       validation_data=((X_valid_wide, X_valid_deep), (y_valid, y_valid)), verbose=False)"
   ]
  },
  {
   "cell_type": "code",
   "execution_count": 34,
   "id": "84163158",
   "metadata": {},
   "outputs": [
    {
     "data": {
      "text/html": [
       "<div>\n",
       "<style scoped>\n",
       "    .dataframe tbody tr th:only-of-type {\n",
       "        vertical-align: middle;\n",
       "    }\n",
       "\n",
       "    .dataframe tbody tr th {\n",
       "        vertical-align: top;\n",
       "    }\n",
       "\n",
       "    .dataframe thead th {\n",
       "        text-align: right;\n",
       "    }\n",
       "</style>\n",
       "<table border=\"1\" class=\"dataframe\">\n",
       "  <thead>\n",
       "    <tr style=\"text-align: right;\">\n",
       "      <th></th>\n",
       "      <th>loss</th>\n",
       "      <th>dense_2_loss</th>\n",
       "      <th>dense_3_loss</th>\n",
       "      <th>dense_2_root_mean_squared_error</th>\n",
       "      <th>dense_3_root_mean_squared_error</th>\n",
       "      <th>val_loss</th>\n",
       "      <th>val_dense_2_loss</th>\n",
       "      <th>val_dense_3_loss</th>\n",
       "      <th>val_dense_2_root_mean_squared_error</th>\n",
       "      <th>val_dense_3_root_mean_squared_error</th>\n",
       "    </tr>\n",
       "  </thead>\n",
       "  <tbody>\n",
       "    <tr>\n",
       "      <th>0</th>\n",
       "      <td>1.404625</td>\n",
       "      <td>0.428031</td>\n",
       "      <td>0.976594</td>\n",
       "      <td>0.654240</td>\n",
       "      <td>0.988228</td>\n",
       "      <td>0.907055</td>\n",
       "      <td>0.431244</td>\n",
       "      <td>0.475811</td>\n",
       "      <td>0.656692</td>\n",
       "      <td>0.689790</td>\n",
       "    </tr>\n",
       "    <tr>\n",
       "      <th>1</th>\n",
       "      <td>0.810899</td>\n",
       "      <td>0.396760</td>\n",
       "      <td>0.414139</td>\n",
       "      <td>0.629889</td>\n",
       "      <td>0.643536</td>\n",
       "      <td>0.763321</td>\n",
       "      <td>0.377915</td>\n",
       "      <td>0.385406</td>\n",
       "      <td>0.614748</td>\n",
       "      <td>0.620811</td>\n",
       "    </tr>\n",
       "    <tr>\n",
       "      <th>2</th>\n",
       "      <td>0.785427</td>\n",
       "      <td>0.392422</td>\n",
       "      <td>0.393004</td>\n",
       "      <td>0.626436</td>\n",
       "      <td>0.626901</td>\n",
       "      <td>0.750066</td>\n",
       "      <td>0.378957</td>\n",
       "      <td>0.371109</td>\n",
       "      <td>0.615595</td>\n",
       "      <td>0.609187</td>\n",
       "    </tr>\n",
       "    <tr>\n",
       "      <th>3</th>\n",
       "      <td>0.761447</td>\n",
       "      <td>0.382292</td>\n",
       "      <td>0.379155</td>\n",
       "      <td>0.618298</td>\n",
       "      <td>0.615755</td>\n",
       "      <td>0.739977</td>\n",
       "      <td>0.375166</td>\n",
       "      <td>0.364811</td>\n",
       "      <td>0.612508</td>\n",
       "      <td>0.603996</td>\n",
       "    </tr>\n",
       "    <tr>\n",
       "      <th>4</th>\n",
       "      <td>0.759811</td>\n",
       "      <td>0.381523</td>\n",
       "      <td>0.378288</td>\n",
       "      <td>0.617675</td>\n",
       "      <td>0.615051</td>\n",
       "      <td>0.712133</td>\n",
       "      <td>0.362926</td>\n",
       "      <td>0.349207</td>\n",
       "      <td>0.602434</td>\n",
       "      <td>0.590937</td>\n",
       "    </tr>\n",
       "    <tr>\n",
       "      <th>...</th>\n",
       "      <td>...</td>\n",
       "      <td>...</td>\n",
       "      <td>...</td>\n",
       "      <td>...</td>\n",
       "      <td>...</td>\n",
       "      <td>...</td>\n",
       "      <td>...</td>\n",
       "      <td>...</td>\n",
       "      <td>...</td>\n",
       "      <td>...</td>\n",
       "    </tr>\n",
       "    <tr>\n",
       "      <th>95</th>\n",
       "      <td>0.473461</td>\n",
       "      <td>0.236104</td>\n",
       "      <td>0.237357</td>\n",
       "      <td>0.485906</td>\n",
       "      <td>0.487193</td>\n",
       "      <td>0.357507</td>\n",
       "      <td>0.179720</td>\n",
       "      <td>0.177786</td>\n",
       "      <td>0.423934</td>\n",
       "      <td>0.421647</td>\n",
       "    </tr>\n",
       "    <tr>\n",
       "      <th>96</th>\n",
       "      <td>0.478336</td>\n",
       "      <td>0.237605</td>\n",
       "      <td>0.240731</td>\n",
       "      <td>0.487447</td>\n",
       "      <td>0.490644</td>\n",
       "      <td>0.354365</td>\n",
       "      <td>0.176847</td>\n",
       "      <td>0.177517</td>\n",
       "      <td>0.420532</td>\n",
       "      <td>0.421328</td>\n",
       "    </tr>\n",
       "    <tr>\n",
       "      <th>97</th>\n",
       "      <td>0.470630</td>\n",
       "      <td>0.234234</td>\n",
       "      <td>0.236396</td>\n",
       "      <td>0.483977</td>\n",
       "      <td>0.486206</td>\n",
       "      <td>0.348743</td>\n",
       "      <td>0.173463</td>\n",
       "      <td>0.175280</td>\n",
       "      <td>0.416488</td>\n",
       "      <td>0.418665</td>\n",
       "    </tr>\n",
       "    <tr>\n",
       "      <th>98</th>\n",
       "      <td>0.457510</td>\n",
       "      <td>0.227428</td>\n",
       "      <td>0.230082</td>\n",
       "      <td>0.476895</td>\n",
       "      <td>0.479668</td>\n",
       "      <td>0.385389</td>\n",
       "      <td>0.192689</td>\n",
       "      <td>0.192699</td>\n",
       "      <td>0.438964</td>\n",
       "      <td>0.438975</td>\n",
       "    </tr>\n",
       "    <tr>\n",
       "      <th>99</th>\n",
       "      <td>0.463544</td>\n",
       "      <td>0.231200</td>\n",
       "      <td>0.232344</td>\n",
       "      <td>0.480833</td>\n",
       "      <td>0.482020</td>\n",
       "      <td>0.347304</td>\n",
       "      <td>0.173951</td>\n",
       "      <td>0.173353</td>\n",
       "      <td>0.417075</td>\n",
       "      <td>0.416356</td>\n",
       "    </tr>\n",
       "  </tbody>\n",
       "</table>\n",
       "<p>100 rows × 10 columns</p>\n",
       "</div>"
      ],
      "text/plain": [
       "        loss  dense_2_loss  dense_3_loss  dense_2_root_mean_squared_error  \\\n",
       "0   1.404625      0.428031      0.976594                         0.654240   \n",
       "1   0.810899      0.396760      0.414139                         0.629889   \n",
       "2   0.785427      0.392422      0.393004                         0.626436   \n",
       "3   0.761447      0.382292      0.379155                         0.618298   \n",
       "4   0.759811      0.381523      0.378288                         0.617675   \n",
       "..       ...           ...           ...                              ...   \n",
       "95  0.473461      0.236104      0.237357                         0.485906   \n",
       "96  0.478336      0.237605      0.240731                         0.487447   \n",
       "97  0.470630      0.234234      0.236396                         0.483977   \n",
       "98  0.457510      0.227428      0.230082                         0.476895   \n",
       "99  0.463544      0.231200      0.232344                         0.480833   \n",
       "\n",
       "    dense_3_root_mean_squared_error  val_loss  val_dense_2_loss  \\\n",
       "0                          0.988228  0.907055          0.431244   \n",
       "1                          0.643536  0.763321          0.377915   \n",
       "2                          0.626901  0.750066          0.378957   \n",
       "3                          0.615755  0.739977          0.375166   \n",
       "4                          0.615051  0.712133          0.362926   \n",
       "..                              ...       ...               ...   \n",
       "95                         0.487193  0.357507          0.179720   \n",
       "96                         0.490644  0.354365          0.176847   \n",
       "97                         0.486206  0.348743          0.173463   \n",
       "98                         0.479668  0.385389          0.192689   \n",
       "99                         0.482020  0.347304          0.173951   \n",
       "\n",
       "    val_dense_3_loss  val_dense_2_root_mean_squared_error  \\\n",
       "0           0.475811                             0.656692   \n",
       "1           0.385406                             0.614748   \n",
       "2           0.371109                             0.615595   \n",
       "3           0.364811                             0.612508   \n",
       "4           0.349207                             0.602434   \n",
       "..               ...                                  ...   \n",
       "95          0.177786                             0.423934   \n",
       "96          0.177517                             0.420532   \n",
       "97          0.175280                             0.416488   \n",
       "98          0.192699                             0.438964   \n",
       "99          0.173353                             0.417075   \n",
       "\n",
       "    val_dense_3_root_mean_squared_error  \n",
       "0                              0.689790  \n",
       "1                              0.620811  \n",
       "2                              0.609187  \n",
       "3                              0.603996  \n",
       "4                              0.590937  \n",
       "..                                  ...  \n",
       "95                             0.421647  \n",
       "96                             0.421328  \n",
       "97                             0.418665  \n",
       "98                             0.438975  \n",
       "99                             0.416356  \n",
       "\n",
       "[100 rows x 10 columns]"
      ]
     },
     "execution_count": 34,
     "metadata": {},
     "output_type": "execute_result"
    }
   ],
   "source": [
    "## Now look at our history\n",
    "df = pd.DataFrame(history.history)\n",
    "df"
   ]
  },
  {
   "cell_type": "code",
   "execution_count": 35,
   "id": "6e376b45",
   "metadata": {},
   "outputs": [
    {
     "data": {
      "text/plain": [
       "<Axes: >"
      ]
     },
     "execution_count": 35,
     "metadata": {},
     "output_type": "execute_result"
    },
    {
     "data": {
      "image/png": "[encoded data removed]",
      "text/plain": [
       "<Figure size 600x400 with 1 Axes>"
      ]
     },
     "metadata": {},
     "output_type": "display_data"
    }
   ],
   "source": [
    "## Plot all three validation losses:\n",
    "fig, ax1 = plt.subplots(1,1, figsize=(6,4))\n",
    "\n",
    "df[['val_loss', 'val_dense_2_loss', 'val_dense_3_loss']].plot(ax=ax1)"
   ]
  },
  {
   "cell_type": "code",
   "execution_count": 36,
   "id": "63fe7c16",
   "metadata": {},
   "outputs": [
    {
     "name": "stdout",
     "output_type": "stream",
     "text": [
      "13/13 [==============================] - 0s 917us/step\n"
     ]
    }
   ],
   "source": [
    "## Note, we also have two outputs for our predictions now:\n",
    "## We get a list of numpy arrays:\n",
    "y_pred4 = model.predict((X_test_wide, X_test_deep))\n"
   ]
  },
  {
   "cell_type": "code",
   "execution_count": 37,
   "id": "31cfefcc",
   "metadata": {},
   "outputs": [
    {
     "data": {
      "text/plain": [
       "list"
      ]
     },
     "execution_count": 37,
     "metadata": {},
     "output_type": "execute_result"
    }
   ],
   "source": [
    "type(y_pred4)"
   ]
  },
  {
   "cell_type": "code",
   "execution_count": 38,
   "id": "563ae776",
   "metadata": {},
   "outputs": [
    {
     "data": {
      "text/plain": [
       "[<matplotlib.lines.Line2D at 0x29891146da0>]"
      ]
     },
     "execution_count": 38,
     "metadata": {},
     "output_type": "execute_result"
    },
    {
     "data": {
      "image/png": "[encoded data removed]",
      "text/plain": [
       "<Figure size 640x480 with 1 Axes>"
      ]
     },
     "metadata": {},
     "output_type": "display_data"
    }
   ],
   "source": [
    "#Predictions? Yet Again\n",
    "\n",
    "\n",
    "\n",
    "#Plot our data:\n",
    "plt.plot(X_test.x, y_test, 'o', markersize=2);\n",
    "plt.plot(X_test.x, y_pred3) #, 'o', markersize=2);\n",
    "plt.plot(X_test.x, y_pred4[0]) #, 'o', markersize=2);\n"
   ]
  },
  {
   "cell_type": "code",
   "execution_count": 39,
   "id": "00646c16",
   "metadata": {},
   "outputs": [
    {
     "name": "stdout",
     "output_type": "stream",
     "text": [
      "13/13 [==============================] - 0s 1ms/step - loss: 0.4215 - dense_2_loss: 0.2096 - dense_3_loss: 0.2119 - dense_2_root_mean_squared_error: 0.4578 - dense_3_root_mean_squared_error: 0.4603\n"
     ]
    }
   ],
   "source": [
    "## Let's Also Evaluate:\n",
    "###\n",
    "\n",
    "eval_results = model.evaluate((X_test_wide, X_test_deep), (y_test, y_test))\n",
    "\n",
    "#Unpack our tuple\n",
    "weighted_sum_of_losses, main_loss, aux_loss, main_rmse, aux_rmse = eval_results\n"
   ]
  },
  {
   "cell_type": "markdown",
   "id": "586d6dd2",
   "metadata": {},
   "source": [
    "## Subclassing API\n",
    "\n",
    "- Sequential and Functional APIs: Declare layers and how they are connected.\n",
    "- Model = Static graph of layers\n",
    "- Can use subclassing API to add more dynamic layers\n",
    "\n",
    "Let's clone a simple sequential model. For reference, our base model will be:"
   ]
  },
  {
   "cell_type": "code",
   "execution_count": 40,
   "id": "f3a901d6",
   "metadata": {},
   "outputs": [],
   "source": [
    "#Reference model, adapted from above:\n",
    "\n",
    "#Normalization layer\n",
    "normalization_layer = tf.keras.layers.Normalization(input_shape=X.shape[1:])\n",
    "\n",
    "model_base = tf.keras.Sequential([\n",
    "    normalization_layer,\n",
    "    tf.keras.layers.Dense(30, activation=\"relu\"),\n",
    "    tf.keras.layers.Dense(20, activation=\"relu\"),\n",
    "    tf.keras.layers.Dense(10, activation=\"relu\"),\n",
    "    tf.keras.layers.Dense(1)\n",
    "])\n",
    "\n",
    "#Optimizer\n",
    "optimizer = tf.keras.optimizers.Adam(learning_rate=1e-2)\n",
    "#Compile\n",
    "model_base.compile(loss=\"mse\", optimizer=optimizer, metrics=[\"RootMeanSquaredError\"])\n",
    "#Normalization\n",
    "normalization_layer.adapt(X_train)"
   ]
  },
  {
   "cell_type": "code",
   "execution_count": 41,
   "id": "87054895",
   "metadata": {},
   "outputs": [],
   "source": [
    "#Inherit from tf.keras.Model:\n",
    "\n",
    "class SeqModel(tf.keras.Model):\n",
    "    \n",
    "    def __init__(self, units=[30,20,10], activation=\"relu\", **kwargs):\n",
    "        super().__init__(**kwargs)  # Needed to support naming the model\n",
    "        \n",
    "        #Create normalization layer:\n",
    "        self.normalization_layer = tf.keras.layers.Normalization()\n",
    "        \n",
    "        self.hidden1 = tf.keras.layers.Dense(units[0], activation=activation)\n",
    "        self.hidden2 = tf.keras.layers.Dense(units[1], activation=activation)\n",
    "        self.hidden3 = tf.keras.layers.Dense(units[2], activation=activation)\n",
    "        \n",
    "        self.my_output = tf.keras.layers.Dense(1)\n",
    "        \n",
    "        \n",
    "    #Single input, single output\n",
    "    def call(self, inputs):\n",
    "        \n",
    "        my_input = inputs\n",
    "        norm = self.normalization_layer(my_input)\n",
    "        \n",
    "        hidden1 = self.hidden1(norm)\n",
    "        hidden2 = self.hidden2(hidden1)\n",
    "        hidden3 = self.hidden3(hidden2)\n",
    "        \n",
    "        output = self.my_output(hidden3)\n",
    "        \n",
    "        return output"
   ]
  },
  {
   "cell_type": "code",
   "execution_count": 42,
   "id": "b3e7b11f",
   "metadata": {},
   "outputs": [],
   "source": [
    "#Make the Model:\n",
    "model_seq = SeqModel([30,20,10], activation=\"relu\", name=\"A_good_day_to_model\")\n",
    "\n",
    "\n",
    "#Compile as usual\n",
    "optimizer = tf.keras.optimizers.Adam(learning_rate=1e-3)\n",
    "model_seq.compile(loss=\"mse\", optimizer=optimizer,\n",
    "              metrics=[\"RootMeanSquaredError\"])\n",
    "\n",
    "#And adapt:\n",
    "model_seq.normalization_layer.adapt(X_train)\n"
   ]
  },
  {
   "cell_type": "code",
   "execution_count": 43,
   "id": "a805565e",
   "metadata": {},
   "outputs": [
    {
     "name": "stdout",
     "output_type": "stream",
     "text": [
      "Epoch 1/10\n",
      "17/17 [==============================] - 1s 938us/step - loss: 1.5803 - root_mean_squared_error: 1.2571\n",
      "Epoch 2/10\n",
      "17/17 [==============================] - 0s 1ms/step - loss: 1.2699 - root_mean_squared_error: 1.1269\n",
      "Epoch 3/10\n",
      "17/17 [==============================] - 0s 1ms/step - loss: 0.9541 - root_mean_squared_error: 0.9768\n",
      "Epoch 4/10\n",
      "17/17 [==============================] - 0s 938us/step - loss: 0.6475 - root_mean_squared_error: 0.8047\n",
      "Epoch 5/10\n",
      "17/17 [==============================] - 0s 938us/step - loss: 0.4453 - root_mean_squared_error: 0.6673\n",
      "Epoch 6/10\n",
      "17/17 [==============================] - 0s 938us/step - loss: 0.3992 - root_mean_squared_error: 0.6319\n",
      "Epoch 7/10\n",
      "17/17 [==============================] - 0s 938us/step - loss: 0.3935 - root_mean_squared_error: 0.6273\n",
      "Epoch 8/10\n",
      "17/17 [==============================] - 0s 938us/step - loss: 0.3862 - root_mean_squared_error: 0.6215\n",
      "Epoch 9/10\n",
      "17/17 [==============================] - 0s 938us/step - loss: 0.3823 - root_mean_squared_error: 0.6183\n",
      "Epoch 10/10\n",
      "17/17 [==============================] - 0s 1ms/step - loss: 0.3793 - root_mean_squared_error: 0.6159\n"
     ]
    }
   ],
   "source": [
    "## And now fit on data:\n",
    "history = model_seq.fit(X_train, y_train, epochs=10)"
   ]
  },
  {
   "cell_type": "code",
   "execution_count": 44,
   "id": "50a63985",
   "metadata": {
    "scrolled": false
   },
   "outputs": [
    {
     "name": "stdout",
     "output_type": "stream",
     "text": [
      "Model: \"A_good_day_to_model\"\n",
      "_________________________________________________________________\n",
      " Layer (type)                Output Shape              Param #   \n",
      "=================================================================\n",
      " normalization_3 (Normaliza  multiple                  7         \n",
      " tion)                                                           \n",
      "                                                                 \n",
      " dense_8 (Dense)             multiple                  120       \n",
      "                                                                 \n",
      " dense_9 (Dense)             multiple                  620       \n",
      "                                                                 \n",
      " dense_10 (Dense)            multiple                  210       \n",
      "                                                                 \n",
      " dense_11 (Dense)            multiple                  11        \n",
      "                                                                 \n",
      "=================================================================\n",
      "Total params: 968 (3.79 KB)\n",
      "Trainable params: 961 (3.75 KB)\n",
      "Non-trainable params: 7 (32.00 Byte)\n",
      "_________________________________________________________________\n"
     ]
    }
   ],
   "source": [
    "model_seq.summary()"
   ]
  },
  {
   "cell_type": "markdown",
   "id": "d7f34ef0",
   "metadata": {},
   "source": [
    "#### Can add conditionals, loops, etc. in `call()` method.\n"
   ]
  },
  {
   "cell_type": "markdown",
   "id": "e19cefcd",
   "metadata": {},
   "source": [
    "### Layers using the Subclassing API\n",
    "\n",
    "- We can also construct custom layers. The following creates a dense layer:"
   ]
  },
  {
   "cell_type": "code",
   "execution_count": 45,
   "id": "652386ec",
   "metadata": {},
   "outputs": [],
   "source": [
    "#Note tf.keras.layers.Layer:\n",
    "#tf.keras.layers.Layer(\n",
    "#    trainable=True, name=None, dtype=None, dynamic=False, **kwargs\n",
    "#)\n",
    "\n",
    "\n",
    "class MyDense(tf.keras.layers.Layer):\n",
    "    \n",
    "    def __init__(self, units=32, activation=\"relu\", **kwargs):\n",
    "        super().__init__(**kwargs)  # Takes care of trainable, name, etc.\n",
    "        \n",
    "        #Some number of units with an activation function\n",
    "        self.units = units\n",
    "        self.activation = tf.keras.activations.get(activation)\n",
    "        \n",
    "    #Called the first time the layer is used\n",
    "    #Need to figure out how many weights and biases are needed from shape of inputs to this layer\n",
    "    #Will add weights and biases:\n",
    "    def build(self, input_shape):\n",
    "        \n",
    "        #Weights:\n",
    "        self.w = self.add_weight(shape=(input_shape[-1], self.units),\n",
    "                                 initializer='glorot_normal',\n",
    "                                 trainable=True)\n",
    "        \n",
    "        #Biases:\n",
    "        self.b = self.add_weight(shape=(self.units,),\n",
    "                               initializer='zeros',\n",
    "                               trainable=True)\n",
    "        \n",
    "        \n",
    "    #Now for the call: gives output from this layer as weights x inputs + biases:\n",
    "    def call(self, inputs):\n",
    "        return self.activation(tf.matmul(inputs, self.w) + self.b)\n",
    "    \n",
    "    \n",
    "    #And get_config; return dictionary of configuration parameters for this layer\n",
    "    def get_config(self):\n",
    "        base_config = super().get_config()\n",
    "\n",
    "        return {**base_config,\n",
    "                'units': self.units,\n",
    "                'activation': self.activation}\n",
    "    \n",
    "    "
   ]
  },
  {
   "cell_type": "code",
   "execution_count": 46,
   "id": "f743b465",
   "metadata": {},
   "outputs": [],
   "source": [
    "##Can use this layer with a Model:\n",
    "\n",
    "#Create a model using Sequential API, but with custom layer\n",
    "\n",
    "normalization_layer = tf.keras.layers.Normalization(input_shape=X.shape[1:])\n",
    "\n",
    "model_base = tf.keras.Sequential([\n",
    "    normalization_layer,\n",
    "    MyDense(units=30, activation=\"relu\"),\n",
    "    MyDense(units=20, activation=\"relu\"),\n",
    "    MyDense(units=10, activation=\"relu\"),\n",
    "    MyDense(units=1, activation=None)\n",
    "])\n",
    "\n",
    "#Optimizer\n",
    "optimizer = tf.keras.optimizers.Adam(learning_rate=1e-2)\n",
    "#Compile\n",
    "model_base.compile(loss=\"mse\", optimizer=optimizer, metrics=[\"RootMeanSquaredError\"])\n",
    "#Normalization\n",
    "normalization_layer.adapt(X_train)"
   ]
  },
  {
   "cell_type": "code",
   "execution_count": 47,
   "id": "b9f50396",
   "metadata": {},
   "outputs": [
    {
     "data": {
      "text/plain": [
       "<keras.src.callbacks.History at 0x2988e9b8130>"
      ]
     },
     "execution_count": 47,
     "metadata": {},
     "output_type": "execute_result"
    }
   ],
   "source": [
    "#Make sure it works:\n",
    "model_base.fit(X_train, y_train, epochs=100, verbose=False)\n"
   ]
  },
  {
   "cell_type": "code",
   "execution_count": 48,
   "id": "97ebf119",
   "metadata": {},
   "outputs": [
    {
     "name": "stdout",
     "output_type": "stream",
     "text": [
      "13/13 [==============================] - 0s 750us/step\n"
     ]
    },
    {
     "data": {
      "text/plain": [
       "[<matplotlib.lines.Line2D at 0x2988d4326e0>]"
      ]
     },
     "execution_count": 48,
     "metadata": {},
     "output_type": "execute_result"
    },
    {
     "data": {
      "image/png": "[encoded data removed]",
      "text/plain": [
       "<Figure size 640x480 with 1 Axes>"
      ]
     },
     "metadata": {},
     "output_type": "display_data"
    }
   ],
   "source": [
    "#Plot predictions\n",
    "y_pred_again = model_base.predict(X_test)\n",
    "\n",
    "#Plot predictions\n",
    "plt.plot(X_test.x, y_test, 'o', markersize=2);\n",
    "plt.plot(X_test.x, y_pred_again)\n"
   ]
  },
  {
   "cell_type": "markdown",
   "id": "7557364d",
   "metadata": {},
   "source": [
    "### A Custom Model with Custom Layers\n",
    "\n",
    "Consider the following example, from Hands-On Machine Learning by Geron:\n",
    "\n",
    "The residual blocks contain a skip connection, for *residual learning*\n",
    "\n",
    "<img src=\"residual_model.png\" alt=\"Residual Model\" style=\"width:400px;\"/>\n",
    "\n",
    "<br>\n",
    "\n",
    "Let's implement using the subclassing API.  First the `ResidualBlock` custom layer:"
   ]
  },
  {
   "cell_type": "code",
   "execution_count": 49,
   "id": "8eea6e00",
   "metadata": {},
   "outputs": [],
   "source": [
    "#Layer first:\n",
    "\n",
    "class ResidualBlock(tf.keras.layers.Layer):\n",
    "    \n",
    "    def __init__(self, n_layers, n_neurons, **kwargs):\n",
    "        super().__init__(**kwargs)\n",
    "        \n",
    "        #Create a list of hidden layers, each with n_neurons:\n",
    "        self.hidden = [tf.keras.layers.Dense(n_neurons, activation='relu', kernel_initializer='glorot_normal')\n",
    "                       for i in range(n_layers)]\n",
    "        \n",
    "    #Call gives output from inputs:\n",
    "    def call(self, inputs):\n",
    "        \n",
    "        Z = inputs\n",
    "        \n",
    "        #Iteratively apply layers:\n",
    "        for layer in self.hidden:\n",
    "            Z = layer(Z)\n",
    "            \n",
    "        #Skip connection means we add input to Z for total output:\n",
    "        return inputs + Z\n",
    "    "
   ]
  },
  {
   "cell_type": "code",
   "execution_count": 50,
   "id": "53319c6b",
   "metadata": {},
   "outputs": [],
   "source": [
    "## And the model:\n",
    "#######\n",
    "\n",
    "class ResidualRegressor(tf.keras.Model):\n",
    "    \n",
    "    def __init__(self, n_neurons=10, **kwargs):\n",
    "        \n",
    "        super().__init__(**kwargs)\n",
    "        \n",
    "        #Create normalization layer:\n",
    "        self.normalization_layer = tf.keras.layers.Normalization()\n",
    "        \n",
    "        #And the meat:\n",
    "        self.hidden1 = tf.keras.layers.Dense(n_neurons, activation='relu',\n",
    "                                             kernel_initializer='glorot_normal')\n",
    "        \n",
    "        #Residual Blocks:\n",
    "        self.block1 = ResidualBlock(2,n_neurons)\n",
    "        self.block2 = ResidualBlock(2,n_neurons)\n",
    "        \n",
    "        #Second dense hidden\n",
    "        self.hidden2 = tf.keras.layers.Dense(n_neurons, activation='relu',\n",
    "                                             kernel_initializer='glorot_normal')\n",
    "        \n",
    "        #Final output\n",
    "        self.my_output = tf.keras.layers.Dense(1)\n",
    "        \n",
    "        \n",
    "        \n",
    "    def call(self, inputs):\n",
    "        Z = self.hidden1(inputs)\n",
    "        \n",
    "        for i in range(1 + 3):\n",
    "            Z = self.block1(Z)\n",
    "            \n",
    "        Z = self.block2(Z)\n",
    "        \n",
    "        Z = self.hidden2(Z)\n",
    "        \n",
    "        return self.my_output(Z)"
   ]
  },
  {
   "cell_type": "code",
   "execution_count": 51,
   "id": "ad42bdd3",
   "metadata": {},
   "outputs": [],
   "source": [
    "### Make the model and run:\n",
    "model_residual = ResidualRegressor(name='sweet_model')\n",
    "\n",
    "\n",
    "#Compile as usual\n",
    "optimizer = tf.keras.optimizers.Adam(learning_rate=1e-3)\n",
    "model_residual.compile(loss=\"mse\", optimizer=optimizer,\n",
    "              metrics=[\"RootMeanSquaredError\"])\n",
    "\n",
    "#And adapt:\n",
    "model_residual.normalization_layer.adapt(X_train)\n",
    "\n",
    "\n",
    "## And now fit on data:\n",
    "history = model_residual.fit(X_train, y_train, epochs=1000, verbose=False)\n",
    "\n",
    "#model_residual.summary()\n"
   ]
  },
  {
   "cell_type": "code",
   "execution_count": 52,
   "id": "f1699baa",
   "metadata": {},
   "outputs": [
    {
     "name": "stdout",
     "output_type": "stream",
     "text": [
      "13/13 [==============================] - 0s 750us/step\n"
     ]
    },
    {
     "data": {
      "text/plain": [
       "[<matplotlib.lines.Line2D at 0x29894260f10>]"
      ]
     },
     "execution_count": 52,
     "metadata": {},
     "output_type": "execute_result"
    },
    {
     "data": {
      "image/png": "[encoded data removed]",
      "text/plain": [
       "<Figure size 640x480 with 1 Axes>"
      ]
     },
     "metadata": {},
     "output_type": "display_data"
    }
   ],
   "source": [
    "#Plot predictions\n",
    "y_pred_again = model_residual.predict(X_test)\n",
    "\n",
    "#Plot predictions\n",
    "plt.plot(X_test.x, y_test, 'o', markersize=2);\n",
    "plt.plot(X_test.x, y_pred_again)\n"
   ]
  },
  {
   "cell_type": "markdown",
   "id": "546f7369",
   "metadata": {},
   "source": [
    "### Saving Models\n",
    "\n",
    "- It's easy to save and retrieve models\n",
    "- Can save in either TensorFlow's *Saved-Model* format\n",
    "- Or in HDF5 (Hierarchical Data Format)"
   ]
  },
  {
   "cell_type": "code",
   "execution_count": 53,
   "id": "499fb846",
   "metadata": {},
   "outputs": [
    {
     "name": "stdout",
     "output_type": "stream",
     "text": [
      "INFO:tensorflow:Assets written to: my_keras_model\\assets\n"
     ]
    },
    {
     "name": "stderr",
     "output_type": "stream",
     "text": [
      "INFO:tensorflow:Assets written to: my_keras_model\\assets\n"
     ]
    }
   ],
   "source": [
    "##Let's save our model from above:\n",
    "##Creates a folder:\n",
    "model.save(\"my_keras_model\", save_format=\"tf\")"
   ]
  },
  {
   "cell_type": "code",
   "execution_count": 54,
   "id": "e4b903e3",
   "metadata": {},
   "outputs": [
    {
     "name": "stdout",
     "output_type": "stream",
     "text": [
      "Model: \"model\"\n",
      "__________________________________________________________________________________________________\n",
      " Layer (type)                Output Shape                 Param #   Connected to                  \n",
      "==================================================================================================\n",
      " input_2 (InputLayer)        [(None, 2)]                  0         []                            \n",
      "                                                                                                  \n",
      " normalization_1 (Normaliza  (None, 2)                    5         ['input_2[0][0]']             \n",
      " tion)                                                                                            \n",
      "                                                                                                  \n",
      " input_1 (InputLayer)        [(None, 2)]                  0         []                            \n",
      "                                                                                                  \n",
      " dense (Dense)               (None, 10)                   30        ['normalization_1[0][0]']     \n",
      "                                                                                                  \n",
      " normalization (Normalizati  (None, 2)                    5         ['input_1[0][0]']             \n",
      " on)                                                                                              \n",
      "                                                                                                  \n",
      " dense_1 (Dense)             (None, 10)                   110       ['dense[0][0]']               \n",
      "                                                                                                  \n",
      " concatenate (Concatenate)   (None, 12)                   0         ['normalization[0][0]',       \n",
      "                                                                     'dense_1[0][0]']             \n",
      "                                                                                                  \n",
      " dense_2 (Dense)             (None, 1)                    13        ['concatenate[0][0]']         \n",
      "                                                                                                  \n",
      " dense_3 (Dense)             (None, 1)                    11        ['dense_1[0][0]']             \n",
      "                                                                                                  \n",
      "==================================================================================================\n",
      "Total params: 174 (704.00 Byte)\n",
      "Trainable params: 164 (656.00 Byte)\n",
      "Non-trainable params: 10 (48.00 Byte)\n",
      "__________________________________________________________________________________________________\n"
     ]
    }
   ],
   "source": [
    "##Can load back in:\n",
    "\n",
    "model_load = tf.keras.models.load_model(\"my_keras_model\")\n",
    "\n",
    "model_load.summary()"
   ]
  },
  {
   "cell_type": "code",
   "execution_count": 55,
   "id": "7d028864",
   "metadata": {},
   "outputs": [
    {
     "data": {
      "image/png": "[encoded data removed]",
      "text/plain": [
       "<Figure size 640x480 with 1 Axes>"
      ]
     },
     "metadata": {},
     "output_type": "display_data"
    }
   ],
   "source": [
    "#Can crudely check that we have the trained weights:\n",
    "plt.hist(model_load.get_layer('dense_1').get_weights()[0].flatten(), bins=30);"
   ]
  },
  {
   "cell_type": "markdown",
   "id": "225b0d30",
   "metadata": {},
   "source": [
    "## Callbacks\n",
    "\n",
    "- `fit()` methods takes `callbacks` argument = list of object to call before/after training, before/after each epoch\n",
    "\n",
    "- Useful for saving checkpoints of model during long training\n",
    "\n",
    "- Can also use to save only best run based on validation set"
   ]
  },
  {
   "cell_type": "code",
   "execution_count": 90,
   "id": "346f1e6b",
   "metadata": {},
   "outputs": [],
   "source": [
    "## ModelCheckpoint:\n",
    "\n",
    "#fp = 'checkpoints/weights.{epoch:02d}-{val_loss:.2f}.hdf5'\n",
    "fp = 'checkpoints/weights.{epoch:02d}.hdf5'\n",
    "\n",
    "checkpoint_cb = tf.keras.callbacks.ModelCheckpoint(fp,\n",
    "                                                   save_weights_only=True,\n",
    "                                                   save_freq=\"epoch\",\n",
    "                                                   save_best_only=False)"
   ]
  },
  {
   "cell_type": "code",
   "execution_count": 91,
   "id": "71e75e21",
   "metadata": {
    "scrolled": true
   },
   "outputs": [
    {
     "name": "stdout",
     "output_type": "stream",
     "text": [
      "Epoch 1/10\n",
      "17/17 [==============================] - 0s 6ms/step - loss: 0.1765 - dense_2_loss: 0.0885 - dense_3_loss: 0.0879 - dense_2_root_mean_squared_error: 0.2975 - dense_3_root_mean_squared_error: 0.2965 - val_loss: 0.2165 - val_dense_2_loss: 0.1083 - val_dense_3_loss: 0.1082 - val_dense_2_root_mean_squared_error: 0.3291 - val_dense_3_root_mean_squared_error: 0.3290\n",
      "Epoch 2/10\n",
      "17/17 [==============================] - 0s 3ms/step - loss: 0.1757 - dense_2_loss: 0.0888 - dense_3_loss: 0.0869 - dense_2_root_mean_squared_error: 0.2981 - dense_3_root_mean_squared_error: 0.2948 - val_loss: 0.2170 - val_dense_2_loss: 0.1085 - val_dense_3_loss: 0.1085 - val_dense_2_root_mean_squared_error: 0.3294 - val_dense_3_root_mean_squared_error: 0.3294\n",
      "Epoch 3/10\n",
      "17/17 [==============================] - 0s 3ms/step - loss: 0.1700 - dense_2_loss: 0.0857 - dense_3_loss: 0.0844 - dense_2_root_mean_squared_error: 0.2927 - dense_3_root_mean_squared_error: 0.2904 - val_loss: 0.2002 - val_dense_2_loss: 0.1002 - val_dense_3_loss: 0.1000 - val_dense_2_root_mean_squared_error: 0.3166 - val_dense_3_root_mean_squared_error: 0.3162\n",
      "Epoch 4/10\n",
      "17/17 [==============================] - 0s 3ms/step - loss: 0.1688 - dense_2_loss: 0.0847 - dense_3_loss: 0.0841 - dense_2_root_mean_squared_error: 0.2910 - dense_3_root_mean_squared_error: 0.2900 - val_loss: 0.2065 - val_dense_2_loss: 0.1037 - val_dense_3_loss: 0.1028 - val_dense_2_root_mean_squared_error: 0.3220 - val_dense_3_root_mean_squared_error: 0.3207\n",
      "Epoch 5/10\n",
      "17/17 [==============================] - 0s 3ms/step - loss: 0.1656 - dense_2_loss: 0.0833 - dense_3_loss: 0.0823 - dense_2_root_mean_squared_error: 0.2886 - dense_3_root_mean_squared_error: 0.2869 - val_loss: 0.1953 - val_dense_2_loss: 0.0984 - val_dense_3_loss: 0.0969 - val_dense_2_root_mean_squared_error: 0.3137 - val_dense_3_root_mean_squared_error: 0.3113\n",
      "Epoch 6/10\n",
      "17/17 [==============================] - 0s 3ms/step - loss: 0.1634 - dense_2_loss: 0.0816 - dense_3_loss: 0.0818 - dense_2_root_mean_squared_error: 0.2857 - dense_3_root_mean_squared_error: 0.2860 - val_loss: 0.2285 - val_dense_2_loss: 0.1151 - val_dense_3_loss: 0.1135 - val_dense_2_root_mean_squared_error: 0.3392 - val_dense_3_root_mean_squared_error: 0.3369\n",
      "Epoch 7/10\n",
      "17/17 [==============================] - 0s 3ms/step - loss: 0.1814 - dense_2_loss: 0.0911 - dense_3_loss: 0.0902 - dense_2_root_mean_squared_error: 0.3019 - dense_3_root_mean_squared_error: 0.3004 - val_loss: 0.2079 - val_dense_2_loss: 0.1048 - val_dense_3_loss: 0.1031 - val_dense_2_root_mean_squared_error: 0.3237 - val_dense_3_root_mean_squared_error: 0.3211\n",
      "Epoch 8/10\n",
      "17/17 [==============================] - 0s 3ms/step - loss: 0.1806 - dense_2_loss: 0.0907 - dense_3_loss: 0.0899 - dense_2_root_mean_squared_error: 0.3012 - dense_3_root_mean_squared_error: 0.2998 - val_loss: 0.2523 - val_dense_2_loss: 0.1225 - val_dense_3_loss: 0.1298 - val_dense_2_root_mean_squared_error: 0.3500 - val_dense_3_root_mean_squared_error: 0.3603\n",
      "Epoch 9/10\n",
      "17/17 [==============================] - 0s 3ms/step - loss: 0.1740 - dense_2_loss: 0.0881 - dense_3_loss: 0.0859 - dense_2_root_mean_squared_error: 0.2967 - dense_3_root_mean_squared_error: 0.2931 - val_loss: 0.2059 - val_dense_2_loss: 0.1038 - val_dense_3_loss: 0.1021 - val_dense_2_root_mean_squared_error: 0.3222 - val_dense_3_root_mean_squared_error: 0.3195\n",
      "Epoch 10/10\n",
      "17/17 [==============================] - 0s 3ms/step - loss: 0.1767 - dense_2_loss: 0.0888 - dense_3_loss: 0.0880 - dense_2_root_mean_squared_error: 0.2979 - dense_3_root_mean_squared_error: 0.2966 - val_loss: 0.1932 - val_dense_2_loss: 0.0975 - val_dense_3_loss: 0.0957 - val_dense_2_root_mean_squared_error: 0.3122 - val_dense_3_root_mean_squared_error: 0.3094\n"
     ]
    }
   ],
   "source": [
    "history = model.fit((X_train_wide, X_train_deep), (y_train, y_train), epochs=10,\n",
    "                    validation_data=((X_valid_wide, X_valid_deep), (y_valid, y_valid)),\n",
    "                    callbacks=[checkpoint_cb])"
   ]
  },
  {
   "cell_type": "code",
   "execution_count": 92,
   "id": "b8b5e28a",
   "metadata": {},
   "outputs": [],
   "source": [
    "#Load the weights back in:\n",
    "######\n",
    "\n",
    "#fp = f'checkpoints/weights.{10:02d}-{0.21:.2f}.hdf5'\n",
    "fp = f'checkpoints/weights.{10:02d}.hdf5'\n",
    "\n",
    "model.load_weights(fp)"
   ]
  },
  {
   "cell_type": "code",
   "execution_count": 93,
   "id": "3cb4d9f1",
   "metadata": {},
   "outputs": [],
   "source": [
    "## Early Stopping Callback?\n",
    "############\n",
    "\n",
    "early_stopping_cb = tf.keras.callbacks.EarlyStopping(patience=10,\n",
    "                                                     restore_best_weights=True)"
   ]
  },
  {
   "cell_type": "code",
   "execution_count": 96,
   "id": "04ed25d9",
   "metadata": {},
   "outputs": [],
   "source": [
    "history = model.fit((X_train_wide, X_train_deep), (y_train, y_train), epochs=100,\n",
    "                    validation_data=((X_valid_wide, X_valid_deep), (y_valid, y_valid)),\n",
    "                    callbacks=[checkpoint_cb, early_stopping_cb], verbose=False)"
   ]
  },
  {
   "cell_type": "code",
   "execution_count": 98,
   "id": "d3094f22",
   "metadata": {},
   "outputs": [
    {
     "data": {
      "text/html": [
       "<div>\n",
       "<style scoped>\n",
       "    .dataframe tbody tr th:only-of-type {\n",
       "        vertical-align: middle;\n",
       "    }\n",
       "\n",
       "    .dataframe tbody tr th {\n",
       "        vertical-align: top;\n",
       "    }\n",
       "\n",
       "    .dataframe thead th {\n",
       "        text-align: right;\n",
       "    }\n",
       "</style>\n",
       "<table border=\"1\" class=\"dataframe\">\n",
       "  <thead>\n",
       "    <tr style=\"text-align: right;\">\n",
       "      <th></th>\n",
       "      <th>loss</th>\n",
       "      <th>dense_2_loss</th>\n",
       "      <th>dense_3_loss</th>\n",
       "      <th>dense_2_root_mean_squared_error</th>\n",
       "      <th>dense_3_root_mean_squared_error</th>\n",
       "      <th>val_loss</th>\n",
       "      <th>val_dense_2_loss</th>\n",
       "      <th>val_dense_3_loss</th>\n",
       "      <th>val_dense_2_root_mean_squared_error</th>\n",
       "      <th>val_dense_3_root_mean_squared_error</th>\n",
       "    </tr>\n",
       "  </thead>\n",
       "  <tbody>\n",
       "    <tr>\n",
       "      <th>0</th>\n",
       "      <td>0.178344</td>\n",
       "      <td>0.089321</td>\n",
       "      <td>0.089023</td>\n",
       "      <td>0.298867</td>\n",
       "      <td>0.298367</td>\n",
       "      <td>0.250940</td>\n",
       "      <td>0.127312</td>\n",
       "      <td>0.123628</td>\n",
       "      <td>0.356809</td>\n",
       "      <td>0.351607</td>\n",
       "    </tr>\n",
       "    <tr>\n",
       "      <th>1</th>\n",
       "      <td>0.179449</td>\n",
       "      <td>0.089999</td>\n",
       "      <td>0.089450</td>\n",
       "      <td>0.299998</td>\n",
       "      <td>0.299083</td>\n",
       "      <td>0.214209</td>\n",
       "      <td>0.105913</td>\n",
       "      <td>0.108296</td>\n",
       "      <td>0.325443</td>\n",
       "      <td>0.329083</td>\n",
       "    </tr>\n",
       "    <tr>\n",
       "      <th>2</th>\n",
       "      <td>0.169979</td>\n",
       "      <td>0.085063</td>\n",
       "      <td>0.084915</td>\n",
       "      <td>0.291656</td>\n",
       "      <td>0.291402</td>\n",
       "      <td>0.237165</td>\n",
       "      <td>0.119068</td>\n",
       "      <td>0.118097</td>\n",
       "      <td>0.345063</td>\n",
       "      <td>0.343652</td>\n",
       "    </tr>\n",
       "    <tr>\n",
       "      <th>3</th>\n",
       "      <td>0.176982</td>\n",
       "      <td>0.089138</td>\n",
       "      <td>0.087844</td>\n",
       "      <td>0.298560</td>\n",
       "      <td>0.296385</td>\n",
       "      <td>0.200660</td>\n",
       "      <td>0.100569</td>\n",
       "      <td>0.100091</td>\n",
       "      <td>0.317126</td>\n",
       "      <td>0.316372</td>\n",
       "    </tr>\n",
       "    <tr>\n",
       "      <th>4</th>\n",
       "      <td>0.191966</td>\n",
       "      <td>0.096132</td>\n",
       "      <td>0.095834</td>\n",
       "      <td>0.310052</td>\n",
       "      <td>0.309571</td>\n",
       "      <td>0.209624</td>\n",
       "      <td>0.107212</td>\n",
       "      <td>0.102411</td>\n",
       "      <td>0.327433</td>\n",
       "      <td>0.320018</td>\n",
       "    </tr>\n",
       "    <tr>\n",
       "      <th>5</th>\n",
       "      <td>0.173307</td>\n",
       "      <td>0.087168</td>\n",
       "      <td>0.086139</td>\n",
       "      <td>0.295242</td>\n",
       "      <td>0.293495</td>\n",
       "      <td>0.204863</td>\n",
       "      <td>0.101606</td>\n",
       "      <td>0.103257</td>\n",
       "      <td>0.318757</td>\n",
       "      <td>0.321337</td>\n",
       "    </tr>\n",
       "    <tr>\n",
       "      <th>6</th>\n",
       "      <td>0.167607</td>\n",
       "      <td>0.083478</td>\n",
       "      <td>0.084129</td>\n",
       "      <td>0.288926</td>\n",
       "      <td>0.290049</td>\n",
       "      <td>0.199886</td>\n",
       "      <td>0.100384</td>\n",
       "      <td>0.099502</td>\n",
       "      <td>0.316835</td>\n",
       "      <td>0.315439</td>\n",
       "    </tr>\n",
       "    <tr>\n",
       "      <th>7</th>\n",
       "      <td>0.168194</td>\n",
       "      <td>0.084537</td>\n",
       "      <td>0.083657</td>\n",
       "      <td>0.290752</td>\n",
       "      <td>0.289236</td>\n",
       "      <td>0.204326</td>\n",
       "      <td>0.100213</td>\n",
       "      <td>0.104114</td>\n",
       "      <td>0.316564</td>\n",
       "      <td>0.322666</td>\n",
       "    </tr>\n",
       "    <tr>\n",
       "      <th>8</th>\n",
       "      <td>0.176128</td>\n",
       "      <td>0.088441</td>\n",
       "      <td>0.087687</td>\n",
       "      <td>0.297389</td>\n",
       "      <td>0.296120</td>\n",
       "      <td>0.196033</td>\n",
       "      <td>0.098742</td>\n",
       "      <td>0.097291</td>\n",
       "      <td>0.314232</td>\n",
       "      <td>0.311915</td>\n",
       "    </tr>\n",
       "    <tr>\n",
       "      <th>9</th>\n",
       "      <td>0.173421</td>\n",
       "      <td>0.086974</td>\n",
       "      <td>0.086447</td>\n",
       "      <td>0.294913</td>\n",
       "      <td>0.294019</td>\n",
       "      <td>0.205081</td>\n",
       "      <td>0.103177</td>\n",
       "      <td>0.101904</td>\n",
       "      <td>0.321211</td>\n",
       "      <td>0.319224</td>\n",
       "    </tr>\n",
       "    <tr>\n",
       "      <th>10</th>\n",
       "      <td>0.168703</td>\n",
       "      <td>0.084691</td>\n",
       "      <td>0.084012</td>\n",
       "      <td>0.291017</td>\n",
       "      <td>0.289849</td>\n",
       "      <td>0.194753</td>\n",
       "      <td>0.097632</td>\n",
       "      <td>0.097122</td>\n",
       "      <td>0.312460</td>\n",
       "      <td>0.311644</td>\n",
       "    </tr>\n",
       "    <tr>\n",
       "      <th>11</th>\n",
       "      <td>0.172932</td>\n",
       "      <td>0.086836</td>\n",
       "      <td>0.086096</td>\n",
       "      <td>0.294679</td>\n",
       "      <td>0.293422</td>\n",
       "      <td>0.207273</td>\n",
       "      <td>0.102450</td>\n",
       "      <td>0.104824</td>\n",
       "      <td>0.320077</td>\n",
       "      <td>0.323765</td>\n",
       "    </tr>\n",
       "    <tr>\n",
       "      <th>12</th>\n",
       "      <td>0.171113</td>\n",
       "      <td>0.085959</td>\n",
       "      <td>0.085154</td>\n",
       "      <td>0.293188</td>\n",
       "      <td>0.291812</td>\n",
       "      <td>0.219405</td>\n",
       "      <td>0.110081</td>\n",
       "      <td>0.109324</td>\n",
       "      <td>0.331784</td>\n",
       "      <td>0.330642</td>\n",
       "    </tr>\n",
       "    <tr>\n",
       "      <th>13</th>\n",
       "      <td>0.175554</td>\n",
       "      <td>0.087955</td>\n",
       "      <td>0.087600</td>\n",
       "      <td>0.296572</td>\n",
       "      <td>0.295972</td>\n",
       "      <td>0.194209</td>\n",
       "      <td>0.098186</td>\n",
       "      <td>0.096023</td>\n",
       "      <td>0.313346</td>\n",
       "      <td>0.309876</td>\n",
       "    </tr>\n",
       "    <tr>\n",
       "      <th>14</th>\n",
       "      <td>0.194596</td>\n",
       "      <td>0.097845</td>\n",
       "      <td>0.096752</td>\n",
       "      <td>0.312802</td>\n",
       "      <td>0.311049</td>\n",
       "      <td>0.212537</td>\n",
       "      <td>0.106106</td>\n",
       "      <td>0.106431</td>\n",
       "      <td>0.325739</td>\n",
       "      <td>0.326238</td>\n",
       "    </tr>\n",
       "    <tr>\n",
       "      <th>15</th>\n",
       "      <td>0.180786</td>\n",
       "      <td>0.090450</td>\n",
       "      <td>0.090336</td>\n",
       "      <td>0.300749</td>\n",
       "      <td>0.300560</td>\n",
       "      <td>0.206413</td>\n",
       "      <td>0.103602</td>\n",
       "      <td>0.102811</td>\n",
       "      <td>0.321873</td>\n",
       "      <td>0.320641</td>\n",
       "    </tr>\n",
       "    <tr>\n",
       "      <th>16</th>\n",
       "      <td>0.180048</td>\n",
       "      <td>0.090689</td>\n",
       "      <td>0.089359</td>\n",
       "      <td>0.301146</td>\n",
       "      <td>0.298929</td>\n",
       "      <td>0.206068</td>\n",
       "      <td>0.105865</td>\n",
       "      <td>0.100203</td>\n",
       "      <td>0.325369</td>\n",
       "      <td>0.316549</td>\n",
       "    </tr>\n",
       "    <tr>\n",
       "      <th>17</th>\n",
       "      <td>0.167746</td>\n",
       "      <td>0.084707</td>\n",
       "      <td>0.083039</td>\n",
       "      <td>0.291044</td>\n",
       "      <td>0.288165</td>\n",
       "      <td>0.192938</td>\n",
       "      <td>0.095887</td>\n",
       "      <td>0.097051</td>\n",
       "      <td>0.309656</td>\n",
       "      <td>0.311530</td>\n",
       "    </tr>\n",
       "    <tr>\n",
       "      <th>18</th>\n",
       "      <td>0.172444</td>\n",
       "      <td>0.086358</td>\n",
       "      <td>0.086086</td>\n",
       "      <td>0.293867</td>\n",
       "      <td>0.293405</td>\n",
       "      <td>0.191251</td>\n",
       "      <td>0.096762</td>\n",
       "      <td>0.094489</td>\n",
       "      <td>0.311065</td>\n",
       "      <td>0.307391</td>\n",
       "    </tr>\n",
       "    <tr>\n",
       "      <th>19</th>\n",
       "      <td>0.175605</td>\n",
       "      <td>0.087721</td>\n",
       "      <td>0.087884</td>\n",
       "      <td>0.296178</td>\n",
       "      <td>0.296452</td>\n",
       "      <td>0.222712</td>\n",
       "      <td>0.111913</td>\n",
       "      <td>0.110799</td>\n",
       "      <td>0.334534</td>\n",
       "      <td>0.332864</td>\n",
       "    </tr>\n",
       "    <tr>\n",
       "      <th>20</th>\n",
       "      <td>0.180843</td>\n",
       "      <td>0.091205</td>\n",
       "      <td>0.089637</td>\n",
       "      <td>0.302002</td>\n",
       "      <td>0.299395</td>\n",
       "      <td>0.217118</td>\n",
       "      <td>0.107706</td>\n",
       "      <td>0.109412</td>\n",
       "      <td>0.328186</td>\n",
       "      <td>0.330774</td>\n",
       "    </tr>\n",
       "    <tr>\n",
       "      <th>21</th>\n",
       "      <td>0.183455</td>\n",
       "      <td>0.091863</td>\n",
       "      <td>0.091592</td>\n",
       "      <td>0.303089</td>\n",
       "      <td>0.302642</td>\n",
       "      <td>0.192783</td>\n",
       "      <td>0.097064</td>\n",
       "      <td>0.095719</td>\n",
       "      <td>0.311551</td>\n",
       "      <td>0.309384</td>\n",
       "    </tr>\n",
       "    <tr>\n",
       "      <th>22</th>\n",
       "      <td>0.200942</td>\n",
       "      <td>0.100594</td>\n",
       "      <td>0.100348</td>\n",
       "      <td>0.317166</td>\n",
       "      <td>0.316777</td>\n",
       "      <td>0.221152</td>\n",
       "      <td>0.111775</td>\n",
       "      <td>0.109377</td>\n",
       "      <td>0.334327</td>\n",
       "      <td>0.330723</td>\n",
       "    </tr>\n",
       "    <tr>\n",
       "      <th>23</th>\n",
       "      <td>0.188809</td>\n",
       "      <td>0.094272</td>\n",
       "      <td>0.094537</td>\n",
       "      <td>0.307038</td>\n",
       "      <td>0.307469</td>\n",
       "      <td>0.222079</td>\n",
       "      <td>0.110193</td>\n",
       "      <td>0.111886</td>\n",
       "      <td>0.331954</td>\n",
       "      <td>0.334494</td>\n",
       "    </tr>\n",
       "    <tr>\n",
       "      <th>24</th>\n",
       "      <td>0.187191</td>\n",
       "      <td>0.094439</td>\n",
       "      <td>0.092752</td>\n",
       "      <td>0.307310</td>\n",
       "      <td>0.304552</td>\n",
       "      <td>0.195432</td>\n",
       "      <td>0.097726</td>\n",
       "      <td>0.097705</td>\n",
       "      <td>0.312612</td>\n",
       "      <td>0.312578</td>\n",
       "    </tr>\n",
       "    <tr>\n",
       "      <th>25</th>\n",
       "      <td>0.191428</td>\n",
       "      <td>0.096553</td>\n",
       "      <td>0.094874</td>\n",
       "      <td>0.310730</td>\n",
       "      <td>0.308017</td>\n",
       "      <td>0.206228</td>\n",
       "      <td>0.103172</td>\n",
       "      <td>0.103057</td>\n",
       "      <td>0.321203</td>\n",
       "      <td>0.321024</td>\n",
       "    </tr>\n",
       "    <tr>\n",
       "      <th>26</th>\n",
       "      <td>0.180804</td>\n",
       "      <td>0.090755</td>\n",
       "      <td>0.090049</td>\n",
       "      <td>0.301256</td>\n",
       "      <td>0.300081</td>\n",
       "      <td>0.210790</td>\n",
       "      <td>0.106578</td>\n",
       "      <td>0.104212</td>\n",
       "      <td>0.326463</td>\n",
       "      <td>0.322819</td>\n",
       "    </tr>\n",
       "    <tr>\n",
       "      <th>27</th>\n",
       "      <td>0.189543</td>\n",
       "      <td>0.095656</td>\n",
       "      <td>0.093887</td>\n",
       "      <td>0.309283</td>\n",
       "      <td>0.306410</td>\n",
       "      <td>0.216147</td>\n",
       "      <td>0.108765</td>\n",
       "      <td>0.107382</td>\n",
       "      <td>0.329795</td>\n",
       "      <td>0.327692</td>\n",
       "    </tr>\n",
       "    <tr>\n",
       "      <th>28</th>\n",
       "      <td>0.178436</td>\n",
       "      <td>0.089798</td>\n",
       "      <td>0.088638</td>\n",
       "      <td>0.299664</td>\n",
       "      <td>0.297721</td>\n",
       "      <td>0.202766</td>\n",
       "      <td>0.100486</td>\n",
       "      <td>0.102280</td>\n",
       "      <td>0.316996</td>\n",
       "      <td>0.319812</td>\n",
       "    </tr>\n",
       "  </tbody>\n",
       "</table>\n",
       "</div>"
      ],
      "text/plain": [
       "        loss  dense_2_loss  dense_3_loss  dense_2_root_mean_squared_error  \\\n",
       "0   0.178344      0.089321      0.089023                         0.298867   \n",
       "1   0.179449      0.089999      0.089450                         0.299998   \n",
       "2   0.169979      0.085063      0.084915                         0.291656   \n",
       "3   0.176982      0.089138      0.087844                         0.298560   \n",
       "4   0.191966      0.096132      0.095834                         0.310052   \n",
       "5   0.173307      0.087168      0.086139                         0.295242   \n",
       "6   0.167607      0.083478      0.084129                         0.288926   \n",
       "7   0.168194      0.084537      0.083657                         0.290752   \n",
       "8   0.176128      0.088441      0.087687                         0.297389   \n",
       "9   0.173421      0.086974      0.086447                         0.294913   \n",
       "10  0.168703      0.084691      0.084012                         0.291017   \n",
       "11  0.172932      0.086836      0.086096                         0.294679   \n",
       "12  0.171113      0.085959      0.085154                         0.293188   \n",
       "13  0.175554      0.087955      0.087600                         0.296572   \n",
       "14  0.194596      0.097845      0.096752                         0.312802   \n",
       "15  0.180786      0.090450      0.090336                         0.300749   \n",
       "16  0.180048      0.090689      0.089359                         0.301146   \n",
       "17  0.167746      0.084707      0.083039                         0.291044   \n",
       "18  0.172444      0.086358      0.086086                         0.293867   \n",
       "19  0.175605      0.087721      0.087884                         0.296178   \n",
       "20  0.180843      0.091205      0.089637                         0.302002   \n",
       "21  0.183455      0.091863      0.091592                         0.303089   \n",
       "22  0.200942      0.100594      0.100348                         0.317166   \n",
       "23  0.188809      0.094272      0.094537                         0.307038   \n",
       "24  0.187191      0.094439      0.092752                         0.307310   \n",
       "25  0.191428      0.096553      0.094874                         0.310730   \n",
       "26  0.180804      0.090755      0.090049                         0.301256   \n",
       "27  0.189543      0.095656      0.093887                         0.309283   \n",
       "28  0.178436      0.089798      0.088638                         0.299664   \n",
       "\n",
       "    dense_3_root_mean_squared_error  val_loss  val_dense_2_loss  \\\n",
       "0                          0.298367  0.250940          0.127312   \n",
       "1                          0.299083  0.214209          0.105913   \n",
       "2                          0.291402  0.237165          0.119068   \n",
       "3                          0.296385  0.200660          0.100569   \n",
       "4                          0.309571  0.209624          0.107212   \n",
       "5                          0.293495  0.204863          0.101606   \n",
       "6                          0.290049  0.199886          0.100384   \n",
       "7                          0.289236  0.204326          0.100213   \n",
       "8                          0.296120  0.196033          0.098742   \n",
       "9                          0.294019  0.205081          0.103177   \n",
       "10                         0.289849  0.194753          0.097632   \n",
       "11                         0.293422  0.207273          0.102450   \n",
       "12                         0.291812  0.219405          0.110081   \n",
       "13                         0.295972  0.194209          0.098186   \n",
       "14                         0.311049  0.212537          0.106106   \n",
       "15                         0.300560  0.206413          0.103602   \n",
       "16                         0.298929  0.206068          0.105865   \n",
       "17                         0.288165  0.192938          0.095887   \n",
       "18                         0.293405  0.191251          0.096762   \n",
       "19                         0.296452  0.222712          0.111913   \n",
       "20                         0.299395  0.217118          0.107706   \n",
       "21                         0.302642  0.192783          0.097064   \n",
       "22                         0.316777  0.221152          0.111775   \n",
       "23                         0.307469  0.222079          0.110193   \n",
       "24                         0.304552  0.195432          0.097726   \n",
       "25                         0.308017  0.206228          0.103172   \n",
       "26                         0.300081  0.210790          0.106578   \n",
       "27                         0.306410  0.216147          0.108765   \n",
       "28                         0.297721  0.202766          0.100486   \n",
       "\n",
       "    val_dense_3_loss  val_dense_2_root_mean_squared_error  \\\n",
       "0           0.123628                             0.356809   \n",
       "1           0.108296                             0.325443   \n",
       "2           0.118097                             0.345063   \n",
       "3           0.100091                             0.317126   \n",
       "4           0.102411                             0.327433   \n",
       "5           0.103257                             0.318757   \n",
       "6           0.099502                             0.316835   \n",
       "7           0.104114                             0.316564   \n",
       "8           0.097291                             0.314232   \n",
       "9           0.101904                             0.321211   \n",
       "10          0.097122                             0.312460   \n",
       "11          0.104824                             0.320077   \n",
       "12          0.109324                             0.331784   \n",
       "13          0.096023                             0.313346   \n",
       "14          0.106431                             0.325739   \n",
       "15          0.102811                             0.321873   \n",
       "16          0.100203                             0.325369   \n",
       "17          0.097051                             0.309656   \n",
       "18          0.094489                             0.311065   \n",
       "19          0.110799                             0.334534   \n",
       "20          0.109412                             0.328186   \n",
       "21          0.095719                             0.311551   \n",
       "22          0.109377                             0.334327   \n",
       "23          0.111886                             0.331954   \n",
       "24          0.097705                             0.312612   \n",
       "25          0.103057                             0.321203   \n",
       "26          0.104212                             0.326463   \n",
       "27          0.107382                             0.329795   \n",
       "28          0.102280                             0.316996   \n",
       "\n",
       "    val_dense_3_root_mean_squared_error  \n",
       "0                              0.351607  \n",
       "1                              0.329083  \n",
       "2                              0.343652  \n",
       "3                              0.316372  \n",
       "4                              0.320018  \n",
       "5                              0.321337  \n",
       "6                              0.315439  \n",
       "7                              0.322666  \n",
       "8                              0.311915  \n",
       "9                              0.319224  \n",
       "10                             0.311644  \n",
       "11                             0.323765  \n",
       "12                             0.330642  \n",
       "13                             0.309876  \n",
       "14                             0.326238  \n",
       "15                             0.320641  \n",
       "16                             0.316549  \n",
       "17                             0.311530  \n",
       "18                             0.307391  \n",
       "19                             0.332864  \n",
       "20                             0.330774  \n",
       "21                             0.309384  \n",
       "22                             0.330723  \n",
       "23                             0.334494  \n",
       "24                             0.312578  \n",
       "25                             0.321024  \n",
       "26                             0.322819  \n",
       "27                             0.327692  \n",
       "28                             0.319812  "
      ]
     },
     "execution_count": 98,
     "metadata": {},
     "output_type": "execute_result"
    }
   ],
   "source": [
    "pd.DataFrame(history.history)"
   ]
  },
  {
   "cell_type": "markdown",
   "id": "e8eaf31d",
   "metadata": {},
   "source": [
    "## TensorBoard"
   ]
  },
  {
   "cell_type": "code",
   "execution_count": 56,
   "id": "efc3428f",
   "metadata": {},
   "outputs": [
    {
     "data": {
      "text/plain": [
       "WindowsPath('my_logs/run_2023_10_25_14_53_33')"
      ]
     },
     "execution_count": 56,
     "metadata": {},
     "output_type": "execute_result"
    }
   ],
   "source": [
    "from pathlib import Path\n",
    "from time import strftime\n",
    "\n",
    "#Get a path for a log directory\n",
    "def get_logdir(root_logdir='my_logs'):\n",
    "    return Path(root_logdir) / strftime('run_%Y_%m_%d_%H_%M_%S')\n",
    "\n",
    "#Get\n",
    "logdir = get_logdir()\n",
    "logdir"
   ]
  },
  {
   "cell_type": "code",
   "execution_count": 99,
   "id": "a9745d92",
   "metadata": {},
   "outputs": [],
   "source": [
    "#From: https://www.tensorflow.org/tensorboard/get_started\n",
    "\n",
    "mnist = tf.keras.datasets.mnist\n",
    "\n",
    "(x_train, y_train),(x_test, y_test) = mnist.load_data()\n",
    "x_train, x_test = x_train / 255.0, x_test / 255.0\n",
    "\n",
    "def create_model():\n",
    "    return tf.keras.models.Sequential([\n",
    "    tf.keras.layers.Flatten(input_shape=(28, 28), name='layers_flatten'),\n",
    "    tf.keras.layers.Dense(512, activation='relu', name='layers_dense'),\n",
    "    tf.keras.layers.Dropout(0.2, name='layers_dropout'),\n",
    "    tf.keras.layers.Dense(10, activation='softmax', name='layers_dense_2')\n",
    "  ])\n"
   ]
  },
  {
   "cell_type": "code",
   "execution_count": 100,
   "id": "bddd777e",
   "metadata": {},
   "outputs": [
    {
     "name": "stdout",
     "output_type": "stream",
     "text": [
      "Epoch 1/5\n",
      "1875/1875 [==============================] - 8s 4ms/step - loss: 0.2201 - accuracy: 0.9348 - val_loss: 0.1279 - val_accuracy: 0.9624\n",
      "Epoch 2/5\n",
      "1875/1875 [==============================] - 7s 4ms/step - loss: 0.0985 - accuracy: 0.9697 - val_loss: 0.0750 - val_accuracy: 0.9762\n",
      "Epoch 3/5\n",
      "1875/1875 [==============================] - 8s 4ms/step - loss: 0.0683 - accuracy: 0.9787 - val_loss: 0.0701 - val_accuracy: 0.9790\n",
      "Epoch 4/5\n",
      "1875/1875 [==============================] - 7s 4ms/step - loss: 0.0544 - accuracy: 0.9826 - val_loss: 0.0659 - val_accuracy: 0.9811\n",
      "Epoch 5/5\n",
      "1875/1875 [==============================] - 7s 4ms/step - loss: 0.0432 - accuracy: 0.9862 - val_loss: 0.0637 - val_accuracy: 0.9807\n"
     ]
    },
    {
     "data": {
      "text/plain": [
       "<keras.src.callbacks.History at 0x2989917dc60>"
      ]
     },
     "execution_count": 100,
     "metadata": {},
     "output_type": "execute_result"
    }
   ],
   "source": [
    "model = create_model()\n",
    "model.compile(optimizer='adam',\n",
    "              loss='sparse_categorical_crossentropy',\n",
    "              metrics=['accuracy'])\n",
    "\n",
    "log_dir = get_logdir()\n",
    "tensorboard_callback = tf.keras.callbacks.TensorBoard(log_dir=log_dir, histogram_freq=1)\n",
    "\n",
    "model.fit(x=x_train, \n",
    "          y=y_train, \n",
    "          epochs=5, \n",
    "          validation_data=(x_test, y_test), \n",
    "          callbacks=[tensorboard_callback])\n"
   ]
  },
  {
   "cell_type": "code",
   "execution_count": 106,
   "id": "65d5fe78",
   "metadata": {
    "scrolled": false
   },
   "outputs": [
    {
     "data": {
      "text/html": [
       "\n",
       "      <iframe id=\"tensorboard-frame-d4a1315ae49489ae\" width=\"100%\" height=\"800\" frameborder=\"0\">\n",
       "      </iframe>\n",
       "      <script>\n",
       "        (function() {\n",
       "          const frame = document.getElementById(\"tensorboard-frame-d4a1315ae49489ae\");\n",
       "          const url = new URL(\"/\", window.location);\n",
       "          const port = 6006;\n",
       "          if (port) {\n",
       "            url.port = port;\n",
       "          }\n",
       "          frame.src = url;\n",
       "        })();\n",
       "      </script>\n",
       "    "
      ],
      "text/plain": [
       "<IPython.core.display.HTML object>"
      ]
     },
     "metadata": {},
     "output_type": "display_data"
    }
   ],
   "source": [
    "%reload_ext tensorboard\n",
    "%tensorboard --logdir 'my_logs/run_2023_10_25_15_28_16' --host localhost"
   ]
  },
  {
   "cell_type": "markdown",
   "id": "8eddf713",
   "metadata": {},
   "source": [
    "## Tuning HyperParameters, Number of Layers, etc.\n",
    "\n",
    "- Next time!"
   ]
  }
 ],
 "metadata": {
  "kernelspec": {
   "display_name": "Python 3 (ipykernel)",
   "language": "python",
   "name": "python3"
  },
  "language_info": {
   "codemirror_mode": {
    "name": "ipython",
    "version": 3
   },
   "file_extension": ".py",
   "mimetype": "text/x-python",
   "name": "python",
   "nbconvert_exporter": "python",
   "pygments_lexer": "ipython3",
   "version": "3.10.12"
  }
 },
 "nbformat": 4,
 "nbformat_minor": 5
}
