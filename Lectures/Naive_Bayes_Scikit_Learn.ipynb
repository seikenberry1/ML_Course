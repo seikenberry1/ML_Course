{
 "cells": [
  {
   "cell_type": "markdown",
   "id": "13f067fd",
   "metadata": {},
   "source": [
    "# More Naive Bayes in Scikit-Learn: Categorical vs. Continuous Features\n",
    "\n",
    "- We have `CategoricalNB` for categorical features\n",
    "- We have `GaussianNG` for continuous features\n",
    "- But no estimator that naturally applies to mixed features!\n",
    "\n",
    "We'll demonstrate two methods to combine categorical and continuous features\n",
    "\n",
    "1. Estimate two separate models, multipliply probabilites + normalize\n",
    "2. Bin/bucketize continuous variables to categorical, estimate single categorical model "
   ]
  },
  {
   "cell_type": "code",
   "execution_count": 1,
   "id": "e5fd102f-aa40-4cc0-b8de-0056137f53ea",
   "metadata": {},
   "outputs": [],
   "source": [
    "#Some libraries\n",
    "#####\n",
    "\n",
    "import pandas as pd\n",
    "import geopandas as gpd\n",
    "import numpy as np\n",
    "import matplotlib.pyplot as plt\n",
    "\n",
    "from sklearn import metrics"
   ]
  },
  {
   "cell_type": "code",
   "execution_count": 2,
   "id": "d4e99792-d23e-4ada-8ee6-89f361c51163",
   "metadata": {},
   "outputs": [
    {
     "data": {
      "text/html": [
       "<div>\n",
       "<style scoped>\n",
       "    .dataframe tbody tr th:only-of-type {\n",
       "        vertical-align: middle;\n",
       "    }\n",
       "\n",
       "    .dataframe tbody tr th {\n",
       "        vertical-align: top;\n",
       "    }\n",
       "\n",
       "    .dataframe thead th {\n",
       "        text-align: right;\n",
       "    }\n",
       "</style>\n",
       "<table border=\"1\" class=\"dataframe\">\n",
       "  <thead>\n",
       "    <tr style=\"text-align: right;\">\n",
       "      <th></th>\n",
       "      <th>gender</th>\n",
       "      <th>age</th>\n",
       "      <th>hypertension</th>\n",
       "      <th>heart_disease</th>\n",
       "      <th>smoking_history</th>\n",
       "      <th>bmi</th>\n",
       "      <th>HbA1c_level</th>\n",
       "      <th>blood_glucose_level</th>\n",
       "      <th>diabetes</th>\n",
       "    </tr>\n",
       "  </thead>\n",
       "  <tbody>\n",
       "    <tr>\n",
       "      <th>0</th>\n",
       "      <td>Female</td>\n",
       "      <td>80.0</td>\n",
       "      <td>0</td>\n",
       "      <td>1</td>\n",
       "      <td>never</td>\n",
       "      <td>25.19</td>\n",
       "      <td>6.6</td>\n",
       "      <td>140</td>\n",
       "      <td>0</td>\n",
       "    </tr>\n",
       "    <tr>\n",
       "      <th>1</th>\n",
       "      <td>Female</td>\n",
       "      <td>54.0</td>\n",
       "      <td>0</td>\n",
       "      <td>0</td>\n",
       "      <td>No Info</td>\n",
       "      <td>27.32</td>\n",
       "      <td>6.6</td>\n",
       "      <td>80</td>\n",
       "      <td>0</td>\n",
       "    </tr>\n",
       "    <tr>\n",
       "      <th>2</th>\n",
       "      <td>Male</td>\n",
       "      <td>28.0</td>\n",
       "      <td>0</td>\n",
       "      <td>0</td>\n",
       "      <td>never</td>\n",
       "      <td>27.32</td>\n",
       "      <td>5.7</td>\n",
       "      <td>158</td>\n",
       "      <td>0</td>\n",
       "    </tr>\n",
       "    <tr>\n",
       "      <th>3</th>\n",
       "      <td>Female</td>\n",
       "      <td>36.0</td>\n",
       "      <td>0</td>\n",
       "      <td>0</td>\n",
       "      <td>current</td>\n",
       "      <td>23.45</td>\n",
       "      <td>5.0</td>\n",
       "      <td>155</td>\n",
       "      <td>0</td>\n",
       "    </tr>\n",
       "    <tr>\n",
       "      <th>4</th>\n",
       "      <td>Male</td>\n",
       "      <td>76.0</td>\n",
       "      <td>1</td>\n",
       "      <td>1</td>\n",
       "      <td>current</td>\n",
       "      <td>20.14</td>\n",
       "      <td>4.8</td>\n",
       "      <td>155</td>\n",
       "      <td>0</td>\n",
       "    </tr>\n",
       "  </tbody>\n",
       "</table>\n",
       "</div>"
      ],
      "text/plain": [
       "   gender   age  hypertension  heart_disease smoking_history    bmi  \\\n",
       "0  Female  80.0             0              1           never  25.19   \n",
       "1  Female  54.0             0              0         No Info  27.32   \n",
       "2    Male  28.0             0              0           never  27.32   \n",
       "3  Female  36.0             0              0         current  23.45   \n",
       "4    Male  76.0             1              1         current  20.14   \n",
       "\n",
       "   HbA1c_level  blood_glucose_level  diabetes  \n",
       "0          6.6                  140         0  \n",
       "1          6.6                   80         0  \n",
       "2          5.7                  158         0  \n",
       "3          5.0                  155         0  \n",
       "4          4.8                  155         0  "
      ]
     },
     "execution_count": 2,
     "metadata": {},
     "output_type": "execute_result"
    }
   ],
   "source": [
    "#We'll use the following dataset, it's actually not the greatest for this, but that's okay!\n",
    "#Predict presence of diabetes...\n",
    "##########\n",
    "\n",
    "df = pd.read_csv('Data/diabetes_prediction_dataset.csv')\n",
    "\n",
    "df.head()"
   ]
  },
  {
   "cell_type": "code",
   "execution_count": 3,
   "id": "dcc813c8-3455-4392-8f98-57b58b36ef82",
   "metadata": {},
   "outputs": [
    {
     "data": {
      "text/plain": [
       "gender                 0\n",
       "age                    0\n",
       "hypertension           0\n",
       "heart_disease          0\n",
       "smoking_history        0\n",
       "bmi                    0\n",
       "HbA1c_level            0\n",
       "blood_glucose_level    0\n",
       "diabetes               0\n",
       "dtype: int64"
      ]
     },
     "execution_count": 3,
     "metadata": {},
     "output_type": "execute_result"
    }
   ],
   "source": [
    "#Confirm we have no NaNs:\n",
    "df.isna().sum()"
   ]
  },
  {
   "cell_type": "markdown",
   "id": "c799171d",
   "metadata": {},
   "source": [
    "### Define a couple functions that we'll use repeatedly"
   ]
  },
  {
   "cell_type": "code",
   "execution_count": 4,
   "id": "719cfc41",
   "metadata": {},
   "outputs": [],
   "source": [
    "#Just a simple ROC Curve\n",
    "####\n",
    "def plot_roc(y_truth, y_prob):\n",
    "\n",
    "    from sklearn.metrics import roc_curve\n",
    "\n",
    "    FPR, TPR, thresholds = roc_curve(y_truth, y_prob)\n",
    "\n",
    "\n",
    "    fig1, ax1 = plt.subplots(1, 1, figsize=(7,6))\n",
    "\n",
    "    ax1.step(FPR, TPR, linewidth=2)\n",
    "    ax1.plot([0,1], [0,1], '--', color = 'black')\n",
    "\n",
    "    fs = 12\n",
    "    ax1.set_xlabel('1 - Specifity = 1 - TNR = FPR', fontsize=fs)\n",
    "    ax1.set_ylabel('Sensitivity = TPR', fontsize=fs)\n",
    "    ax1.tick_params(axis='both', labelsize=fs)\n",
    "\n",
    "    AUC = np.trapz(TPR, FPR)\n",
    "    ax1.set_title('ROC Curve, AUC = ' + str(round(AUC,4)))\n",
    "    \n",
    "    print('AUC = ' + str(round(AUC,4)))"
   ]
  },
  {
   "cell_type": "code",
   "execution_count": 5,
   "id": "957270ce",
   "metadata": {},
   "outputs": [],
   "source": [
    "#And precision-recall:\n",
    "######\n",
    "def plot_pr(y_truth, y_prob):\n",
    "    from sklearn.metrics import precision_recall_curve\n",
    "\n",
    "    precisions, recalls, thresholds = precision_recall_curve(y_truth, y_prob)\n",
    "\n",
    "    fig1, ax1 = plt.subplots(1, 1, figsize=(7,6))\n",
    "\n",
    "    ax1.step(recalls, precisions, linewidth=2)\n",
    "    ax1.grid()\n",
    "\n",
    "    #Axis labels, etc.\n",
    "    fs = 12\n",
    "    ax1.set_xlabel('Recall (Sensitivity)', fontsize=fs)\n",
    "    ax1.set_ylabel('Precision (PPV)', fontsize=fs)\n",
    "    ax1.tick_params(axis='both', labelsize=fs)\n",
    "\n",
    "    ax1.set_title('Precision-Recall Curve')\n",
    "    ax1.set_ylim([0, 1])\n",
    "    ax1.set_xlim([0, 1])\n"
   ]
  },
  {
   "cell_type": "code",
   "execution_count": 6,
   "id": "78fc2e21",
   "metadata": {},
   "outputs": [],
   "source": [
    "def report_metrics(y_truth, y_pred):\n",
    "\n",
    "    from sklearn import metrics\n",
    "\n",
    "    cm = metrics.confusion_matrix(y_truth, y_pred)\n",
    "\n",
    "    print(metrics.classification_report(y_truth, y_pred))\n",
    "\n",
    "    #Sensitivity = TPR = TP / (TP + FN)\n",
    "    sensitivity = cm[1,1] / (cm[1,1] + cm[1,0])\n",
    "    print('Sensitivity = ', sensitivity)\n",
    "\n",
    "    #Specifity = TNR = TN / (TN + FP)\n",
    "    specifity = cm[0,0] / (cm[0,0] + cm[0,1])\n",
    "    print('Specifity = ', specifity)\n"
   ]
  },
  {
   "cell_type": "markdown",
   "id": "aa520366",
   "metadata": {},
   "source": [
    "### Just the Continuous Variables:\n",
    "\n",
    "- Since `HbA1c_level` and `blood_glucose_level` are basically diabetes-defining, let's just use `bmi` as our single continuous predictor:"
   ]
  },
  {
   "cell_type": "code",
   "execution_count": 7,
   "id": "44e2f836",
   "metadata": {},
   "outputs": [],
   "source": [
    "df = pd.read_csv('Data/diabetes_prediction_dataset.csv')\n",
    "#df = df.drop(columns = ['gender', 'hypertension', 'smoking_history', 'heart_disease',\n",
    "#                        'HbA1c_level', 'blood_glucose_level', 'age'])\n",
    "\n",
    "df = df[['bmi', 'diabetes']]"
   ]
  },
  {
   "cell_type": "code",
   "execution_count": 14,
   "id": "abf8c1b7",
   "metadata": {},
   "outputs": [
    {
     "data": {
      "text/html": [
       "<div>\n",
       "<style scoped>\n",
       "    .dataframe tbody tr th:only-of-type {\n",
       "        vertical-align: middle;\n",
       "    }\n",
       "\n",
       "    .dataframe tbody tr th {\n",
       "        vertical-align: top;\n",
       "    }\n",
       "\n",
       "    .dataframe thead th {\n",
       "        text-align: right;\n",
       "    }\n",
       "</style>\n",
       "<table border=\"1\" class=\"dataframe\">\n",
       "  <thead>\n",
       "    <tr style=\"text-align: right;\">\n",
       "      <th></th>\n",
       "      <th>bmi</th>\n",
       "    </tr>\n",
       "  </thead>\n",
       "  <tbody>\n",
       "    <tr>\n",
       "      <th>76513</th>\n",
       "      <td>27.32</td>\n",
       "    </tr>\n",
       "    <tr>\n",
       "      <th>60406</th>\n",
       "      <td>27.32</td>\n",
       "    </tr>\n",
       "    <tr>\n",
       "      <th>27322</th>\n",
       "      <td>27.32</td>\n",
       "    </tr>\n",
       "    <tr>\n",
       "      <th>53699</th>\n",
       "      <td>27.32</td>\n",
       "    </tr>\n",
       "    <tr>\n",
       "      <th>65412</th>\n",
       "      <td>20.98</td>\n",
       "    </tr>\n",
       "    <tr>\n",
       "      <th>...</th>\n",
       "      <td>...</td>\n",
       "    </tr>\n",
       "    <tr>\n",
       "      <th>6265</th>\n",
       "      <td>32.98</td>\n",
       "    </tr>\n",
       "    <tr>\n",
       "      <th>54886</th>\n",
       "      <td>28.10</td>\n",
       "    </tr>\n",
       "    <tr>\n",
       "      <th>76820</th>\n",
       "      <td>26.14</td>\n",
       "    </tr>\n",
       "    <tr>\n",
       "      <th>860</th>\n",
       "      <td>24.96</td>\n",
       "    </tr>\n",
       "    <tr>\n",
       "      <th>15795</th>\n",
       "      <td>27.99</td>\n",
       "    </tr>\n",
       "  </tbody>\n",
       "</table>\n",
       "<p>70000 rows × 1 columns</p>\n",
       "</div>"
      ],
      "text/plain": [
       "         bmi\n",
       "76513  27.32\n",
       "60406  27.32\n",
       "27322  27.32\n",
       "53699  27.32\n",
       "65412  20.98\n",
       "...      ...\n",
       "6265   32.98\n",
       "54886  28.10\n",
       "76820  26.14\n",
       "860    24.96\n",
       "15795  27.99\n",
       "\n",
       "[70000 rows x 1 columns]"
      ]
     },
     "execution_count": 14,
     "metadata": {},
     "output_type": "execute_result"
    }
   ],
   "source": [
    "#Test/train split:\n",
    "######\n",
    "\n",
    "from sklearn.model_selection import train_test_split\n",
    "\n",
    "X_train_continuous, X_test_continuous, y_train, y_test = train_test_split(df[df.columns.difference(['diabetes'])],\n",
    "                                                                           df[['diabetes']], test_size=.3, random_state=42)\n",
    "X_train_continuous"
   ]
  },
  {
   "cell_type": "code",
   "execution_count": 15,
   "id": "8b0c10e3",
   "metadata": {},
   "outputs": [
    {
     "name": "stderr",
     "output_type": "stream",
     "text": [
      "C:\\Users\\steff\\Anaconda3\\envs\\ML_environment\\lib\\site-packages\\sklearn\\utils\\validation.py:1184: DataConversionWarning: A column-vector y was passed when a 1d array was expected. Please change the shape of y to (n_samples, ), for example using ravel().\n",
      "  y = column_or_1d(y, warn=True)\n"
     ]
    },
    {
     "data": {
      "text/html": [
       "<style>#sk-container-id-3 {color: black;}#sk-container-id-3 pre{padding: 0;}#sk-container-id-3 div.sk-toggleable {background-color: white;}#sk-container-id-3 label.sk-toggleable__label {cursor: pointer;display: block;width: 100%;margin-bottom: 0;padding: 0.3em;box-sizing: border-box;text-align: center;}#sk-container-id-3 label.sk-toggleable__label-arrow:before {content: \"▸\";float: left;margin-right: 0.25em;color: #696969;}#sk-container-id-3 label.sk-toggleable__label-arrow:hover:before {color: black;}#sk-container-id-3 div.sk-estimator:hover label.sk-toggleable__label-arrow:before {color: black;}#sk-container-id-3 div.sk-toggleable__content {max-height: 0;max-width: 0;overflow: hidden;text-align: left;background-color: #f0f8ff;}#sk-container-id-3 div.sk-toggleable__content pre {margin: 0.2em;color: black;border-radius: 0.25em;background-color: #f0f8ff;}#sk-container-id-3 input.sk-toggleable__control:checked~div.sk-toggleable__content {max-height: 200px;max-width: 100%;overflow: auto;}#sk-container-id-3 input.sk-toggleable__control:checked~label.sk-toggleable__label-arrow:before {content: \"▾\";}#sk-container-id-3 div.sk-estimator input.sk-toggleable__control:checked~label.sk-toggleable__label {background-color: #d4ebff;}#sk-container-id-3 div.sk-label input.sk-toggleable__control:checked~label.sk-toggleable__label {background-color: #d4ebff;}#sk-container-id-3 input.sk-hidden--visually {border: 0;clip: rect(1px 1px 1px 1px);clip: rect(1px, 1px, 1px, 1px);height: 1px;margin: -1px;overflow: hidden;padding: 0;position: absolute;width: 1px;}#sk-container-id-3 div.sk-estimator {font-family: monospace;background-color: #f0f8ff;border: 1px dotted black;border-radius: 0.25em;box-sizing: border-box;margin-bottom: 0.5em;}#sk-container-id-3 div.sk-estimator:hover {background-color: #d4ebff;}#sk-container-id-3 div.sk-parallel-item::after {content: \"\";width: 100%;border-bottom: 1px solid gray;flex-grow: 1;}#sk-container-id-3 div.sk-label:hover label.sk-toggleable__label {background-color: #d4ebff;}#sk-container-id-3 div.sk-serial::before {content: \"\";position: absolute;border-left: 1px solid gray;box-sizing: border-box;top: 0;bottom: 0;left: 50%;z-index: 0;}#sk-container-id-3 div.sk-serial {display: flex;flex-direction: column;align-items: center;background-color: white;padding-right: 0.2em;padding-left: 0.2em;position: relative;}#sk-container-id-3 div.sk-item {position: relative;z-index: 1;}#sk-container-id-3 div.sk-parallel {display: flex;align-items: stretch;justify-content: center;background-color: white;position: relative;}#sk-container-id-3 div.sk-item::before, #sk-container-id-3 div.sk-parallel-item::before {content: \"\";position: absolute;border-left: 1px solid gray;box-sizing: border-box;top: 0;bottom: 0;left: 50%;z-index: -1;}#sk-container-id-3 div.sk-parallel-item {display: flex;flex-direction: column;z-index: 1;position: relative;background-color: white;}#sk-container-id-3 div.sk-parallel-item:first-child::after {align-self: flex-end;width: 50%;}#sk-container-id-3 div.sk-parallel-item:last-child::after {align-self: flex-start;width: 50%;}#sk-container-id-3 div.sk-parallel-item:only-child::after {width: 0;}#sk-container-id-3 div.sk-dashed-wrapped {border: 1px dashed gray;margin: 0 0.4em 0.5em 0.4em;box-sizing: border-box;padding-bottom: 0.4em;background-color: white;}#sk-container-id-3 div.sk-label label {font-family: monospace;font-weight: bold;display: inline-block;line-height: 1.2em;}#sk-container-id-3 div.sk-label-container {text-align: center;}#sk-container-id-3 div.sk-container {/* jupyter's `normalize.less` sets `[hidden] { display: none; }` but bootstrap.min.css set `[hidden] { display: none !important; }` so we also need the `!important` here to be able to override the default hidden behavior on the sphinx rendered scikit-learn.org. See: https://github.com/scikit-learn/scikit-learn/issues/21755 */display: inline-block !important;position: relative;}#sk-container-id-3 div.sk-text-repr-fallback {display: none;}</style><div id=\"sk-container-id-3\" class=\"sk-top-container\"><div class=\"sk-text-repr-fallback\"><pre>GaussianNB()</pre><b>In a Jupyter environment, please rerun this cell to show the HTML representation or trust the notebook. <br />On GitHub, the HTML representation is unable to render, please try loading this page with nbviewer.org.</b></div><div class=\"sk-container\" hidden><div class=\"sk-item\"><div class=\"sk-estimator sk-toggleable\"><input class=\"sk-toggleable__control sk-hidden--visually\" id=\"sk-estimator-id-3\" type=\"checkbox\" checked><label for=\"sk-estimator-id-3\" class=\"sk-toggleable__label sk-toggleable__label-arrow\">GaussianNB</label><div class=\"sk-toggleable__content\"><pre>GaussianNB()</pre></div></div></div></div></div>"
      ],
      "text/plain": [
       "GaussianNB()"
      ]
     },
     "execution_count": 15,
     "metadata": {},
     "output_type": "execute_result"
    }
   ],
   "source": [
    "#Make the GaussianNB estimator:\n",
    "######\n",
    "\n",
    "from sklearn.naive_bayes import GaussianNB\n",
    "\n",
    "#Create\n",
    "gnb = GaussianNB()\n",
    "\n",
    "#And fit:\n",
    "gnb.fit(X_train_continuous, y_train)"
   ]
  },
  {
   "cell_type": "code",
   "execution_count": 16,
   "id": "55389c13",
   "metadata": {},
   "outputs": [],
   "source": [
    "#Predictions using Gaussian NB\n",
    "########\n",
    "\n",
    "y_pred_continuous = gnb.predict(X_test_continuous)"
   ]
  },
  {
   "cell_type": "code",
   "execution_count": 17,
   "id": "f1eee310",
   "metadata": {},
   "outputs": [
    {
     "name": "stdout",
     "output_type": "stream",
     "text": [
      "              precision    recall  f1-score   support\n",
      "\n",
      "           0       0.92      0.98      0.95     27453\n",
      "           1       0.29      0.07      0.11      2547\n",
      "\n",
      "    accuracy                           0.91     30000\n",
      "   macro avg       0.60      0.53      0.53     30000\n",
      "weighted avg       0.87      0.91      0.88     30000\n",
      "\n",
      "Sensitivity =  0.0691009030231645\n",
      "Specifity =  0.9843368666448111\n"
     ]
    }
   ],
   "source": [
    "#Our metrics for performance?\n",
    "#######\n",
    "\n",
    "report_metrics(y_test['diabetes'], y_pred_continuous)"
   ]
  },
  {
   "cell_type": "code",
   "execution_count": 18,
   "id": "a1b388e7",
   "metadata": {},
   "outputs": [
    {
     "name": "stdout",
     "output_type": "stream",
     "text": [
      "AUC = 0.7123\n"
     ]
    },
    {
     "data": {
      "image/png": "[encoded data removed]",
      "text/plain": [
       "<Figure size 700x600 with 1 Axes>"
      ]
     },
     "metadata": {},
     "output_type": "display_data"
    }
   ],
   "source": [
    "## ROC Curve:\n",
    "#########\n",
    "\n",
    "y_probas_continuous = gnb.predict_proba(X_test_continuous)\n",
    "\n",
    "plot_roc(y_test, y_probas_continuous[:,1])"
   ]
  },
  {
   "cell_type": "code",
   "execution_count": 19,
   "id": "4036309d",
   "metadata": {},
   "outputs": [
    {
     "data": {
      "image/png": "[encoded data removed]",
      "text/plain": [
       "<Figure size 700x600 with 1 Axes>"
      ]
     },
     "metadata": {},
     "output_type": "display_data"
    }
   ],
   "source": [
    "## And Precision-Recall\n",
    "\n",
    "plot_pr(y_test, y_probas_continuous[:,1])"
   ]
  },
  {
   "cell_type": "markdown",
   "id": "ec3513ba",
   "metadata": {},
   "source": [
    "## Just the Categorical\n",
    "\n",
    "- Use `CategoricalNB`"
   ]
  },
  {
   "cell_type": "code",
   "execution_count": 20,
   "id": "6631af59",
   "metadata": {},
   "outputs": [],
   "source": [
    "#Grab our data again\n",
    "df = pd.read_csv('Data/diabetes_prediction_dataset.csv')\n",
    "df = df[['gender', 'hypertension', 'smoking_history', 'diabetes', 'heart_disease']]\n",
    "\n",
    "#And split:\n",
    "X_train_cat, X_test_cat, y_train, y_test = train_test_split(df[df.columns.difference(['diabetes'])],\n",
    "                                                            df[['diabetes']], test_size=.3, random_state=42)\n"
   ]
  },
  {
   "cell_type": "code",
   "execution_count": 21,
   "id": "1a58e1eb",
   "metadata": {},
   "outputs": [
    {
     "data": {
      "text/html": [
       "<div>\n",
       "<style scoped>\n",
       "    .dataframe tbody tr th:only-of-type {\n",
       "        vertical-align: middle;\n",
       "    }\n",
       "\n",
       "    .dataframe tbody tr th {\n",
       "        vertical-align: top;\n",
       "    }\n",
       "\n",
       "    .dataframe thead th {\n",
       "        text-align: right;\n",
       "    }\n",
       "</style>\n",
       "<table border=\"1\" class=\"dataframe\">\n",
       "  <thead>\n",
       "    <tr style=\"text-align: right;\">\n",
       "      <th></th>\n",
       "      <th>gender_Female</th>\n",
       "      <th>gender_Male</th>\n",
       "      <th>gender_Other</th>\n",
       "      <th>heart_disease_0</th>\n",
       "      <th>heart_disease_1</th>\n",
       "      <th>hypertension_0</th>\n",
       "      <th>hypertension_1</th>\n",
       "      <th>smoking_history_No Info</th>\n",
       "      <th>smoking_history_current</th>\n",
       "      <th>smoking_history_ever</th>\n",
       "      <th>smoking_history_former</th>\n",
       "      <th>smoking_history_never</th>\n",
       "      <th>smoking_history_not current</th>\n",
       "    </tr>\n",
       "  </thead>\n",
       "  <tbody>\n",
       "    <tr>\n",
       "      <th>76513</th>\n",
       "      <td>0.0</td>\n",
       "      <td>1.0</td>\n",
       "      <td>0.0</td>\n",
       "      <td>1.0</td>\n",
       "      <td>0.0</td>\n",
       "      <td>1.0</td>\n",
       "      <td>0.0</td>\n",
       "      <td>0.0</td>\n",
       "      <td>0.0</td>\n",
       "      <td>1.0</td>\n",
       "      <td>0.0</td>\n",
       "      <td>0.0</td>\n",
       "      <td>0.0</td>\n",
       "    </tr>\n",
       "    <tr>\n",
       "      <th>60406</th>\n",
       "      <td>0.0</td>\n",
       "      <td>1.0</td>\n",
       "      <td>0.0</td>\n",
       "      <td>1.0</td>\n",
       "      <td>0.0</td>\n",
       "      <td>1.0</td>\n",
       "      <td>0.0</td>\n",
       "      <td>0.0</td>\n",
       "      <td>0.0</td>\n",
       "      <td>0.0</td>\n",
       "      <td>0.0</td>\n",
       "      <td>1.0</td>\n",
       "      <td>0.0</td>\n",
       "    </tr>\n",
       "    <tr>\n",
       "      <th>27322</th>\n",
       "      <td>1.0</td>\n",
       "      <td>0.0</td>\n",
       "      <td>0.0</td>\n",
       "      <td>1.0</td>\n",
       "      <td>0.0</td>\n",
       "      <td>1.0</td>\n",
       "      <td>0.0</td>\n",
       "      <td>0.0</td>\n",
       "      <td>1.0</td>\n",
       "      <td>0.0</td>\n",
       "      <td>0.0</td>\n",
       "      <td>0.0</td>\n",
       "      <td>0.0</td>\n",
       "    </tr>\n",
       "    <tr>\n",
       "      <th>53699</th>\n",
       "      <td>1.0</td>\n",
       "      <td>0.0</td>\n",
       "      <td>0.0</td>\n",
       "      <td>1.0</td>\n",
       "      <td>0.0</td>\n",
       "      <td>1.0</td>\n",
       "      <td>0.0</td>\n",
       "      <td>0.0</td>\n",
       "      <td>1.0</td>\n",
       "      <td>0.0</td>\n",
       "      <td>0.0</td>\n",
       "      <td>0.0</td>\n",
       "      <td>0.0</td>\n",
       "    </tr>\n",
       "    <tr>\n",
       "      <th>65412</th>\n",
       "      <td>0.0</td>\n",
       "      <td>1.0</td>\n",
       "      <td>0.0</td>\n",
       "      <td>1.0</td>\n",
       "      <td>0.0</td>\n",
       "      <td>1.0</td>\n",
       "      <td>0.0</td>\n",
       "      <td>1.0</td>\n",
       "      <td>0.0</td>\n",
       "      <td>0.0</td>\n",
       "      <td>0.0</td>\n",
       "      <td>0.0</td>\n",
       "      <td>0.0</td>\n",
       "    </tr>\n",
       "    <tr>\n",
       "      <th>...</th>\n",
       "      <td>...</td>\n",
       "      <td>...</td>\n",
       "      <td>...</td>\n",
       "      <td>...</td>\n",
       "      <td>...</td>\n",
       "      <td>...</td>\n",
       "      <td>...</td>\n",
       "      <td>...</td>\n",
       "      <td>...</td>\n",
       "      <td>...</td>\n",
       "      <td>...</td>\n",
       "      <td>...</td>\n",
       "      <td>...</td>\n",
       "    </tr>\n",
       "    <tr>\n",
       "      <th>6265</th>\n",
       "      <td>0.0</td>\n",
       "      <td>1.0</td>\n",
       "      <td>0.0</td>\n",
       "      <td>1.0</td>\n",
       "      <td>0.0</td>\n",
       "      <td>1.0</td>\n",
       "      <td>0.0</td>\n",
       "      <td>0.0</td>\n",
       "      <td>0.0</td>\n",
       "      <td>0.0</td>\n",
       "      <td>0.0</td>\n",
       "      <td>1.0</td>\n",
       "      <td>0.0</td>\n",
       "    </tr>\n",
       "    <tr>\n",
       "      <th>54886</th>\n",
       "      <td>1.0</td>\n",
       "      <td>0.0</td>\n",
       "      <td>0.0</td>\n",
       "      <td>1.0</td>\n",
       "      <td>0.0</td>\n",
       "      <td>1.0</td>\n",
       "      <td>0.0</td>\n",
       "      <td>0.0</td>\n",
       "      <td>0.0</td>\n",
       "      <td>0.0</td>\n",
       "      <td>0.0</td>\n",
       "      <td>1.0</td>\n",
       "      <td>0.0</td>\n",
       "    </tr>\n",
       "    <tr>\n",
       "      <th>76820</th>\n",
       "      <td>0.0</td>\n",
       "      <td>1.0</td>\n",
       "      <td>0.0</td>\n",
       "      <td>1.0</td>\n",
       "      <td>0.0</td>\n",
       "      <td>1.0</td>\n",
       "      <td>0.0</td>\n",
       "      <td>0.0</td>\n",
       "      <td>0.0</td>\n",
       "      <td>0.0</td>\n",
       "      <td>0.0</td>\n",
       "      <td>1.0</td>\n",
       "      <td>0.0</td>\n",
       "    </tr>\n",
       "    <tr>\n",
       "      <th>860</th>\n",
       "      <td>1.0</td>\n",
       "      <td>0.0</td>\n",
       "      <td>0.0</td>\n",
       "      <td>1.0</td>\n",
       "      <td>0.0</td>\n",
       "      <td>1.0</td>\n",
       "      <td>0.0</td>\n",
       "      <td>0.0</td>\n",
       "      <td>0.0</td>\n",
       "      <td>0.0</td>\n",
       "      <td>0.0</td>\n",
       "      <td>1.0</td>\n",
       "      <td>0.0</td>\n",
       "    </tr>\n",
       "    <tr>\n",
       "      <th>15795</th>\n",
       "      <td>1.0</td>\n",
       "      <td>0.0</td>\n",
       "      <td>0.0</td>\n",
       "      <td>1.0</td>\n",
       "      <td>0.0</td>\n",
       "      <td>1.0</td>\n",
       "      <td>0.0</td>\n",
       "      <td>0.0</td>\n",
       "      <td>0.0</td>\n",
       "      <td>0.0</td>\n",
       "      <td>0.0</td>\n",
       "      <td>1.0</td>\n",
       "      <td>0.0</td>\n",
       "    </tr>\n",
       "  </tbody>\n",
       "</table>\n",
       "<p>70000 rows × 13 columns</p>\n",
       "</div>"
      ],
      "text/plain": [
       "       gender_Female  gender_Male  gender_Other  heart_disease_0  \\\n",
       "76513            0.0          1.0           0.0              1.0   \n",
       "60406            0.0          1.0           0.0              1.0   \n",
       "27322            1.0          0.0           0.0              1.0   \n",
       "53699            1.0          0.0           0.0              1.0   \n",
       "65412            0.0          1.0           0.0              1.0   \n",
       "...              ...          ...           ...              ...   \n",
       "6265             0.0          1.0           0.0              1.0   \n",
       "54886            1.0          0.0           0.0              1.0   \n",
       "76820            0.0          1.0           0.0              1.0   \n",
       "860              1.0          0.0           0.0              1.0   \n",
       "15795            1.0          0.0           0.0              1.0   \n",
       "\n",
       "       heart_disease_1  hypertension_0  hypertension_1  \\\n",
       "76513              0.0             1.0             0.0   \n",
       "60406              0.0             1.0             0.0   \n",
       "27322              0.0             1.0             0.0   \n",
       "53699              0.0             1.0             0.0   \n",
       "65412              0.0             1.0             0.0   \n",
       "...                ...             ...             ...   \n",
       "6265               0.0             1.0             0.0   \n",
       "54886              0.0             1.0             0.0   \n",
       "76820              0.0             1.0             0.0   \n",
       "860                0.0             1.0             0.0   \n",
       "15795              0.0             1.0             0.0   \n",
       "\n",
       "       smoking_history_No Info  smoking_history_current  smoking_history_ever  \\\n",
       "76513                      0.0                      0.0                   1.0   \n",
       "60406                      0.0                      0.0                   0.0   \n",
       "27322                      0.0                      1.0                   0.0   \n",
       "53699                      0.0                      1.0                   0.0   \n",
       "65412                      1.0                      0.0                   0.0   \n",
       "...                        ...                      ...                   ...   \n",
       "6265                       0.0                      0.0                   0.0   \n",
       "54886                      0.0                      0.0                   0.0   \n",
       "76820                      0.0                      0.0                   0.0   \n",
       "860                        0.0                      0.0                   0.0   \n",
       "15795                      0.0                      0.0                   0.0   \n",
       "\n",
       "       smoking_history_former  smoking_history_never  \\\n",
       "76513                     0.0                    0.0   \n",
       "60406                     0.0                    1.0   \n",
       "27322                     0.0                    0.0   \n",
       "53699                     0.0                    0.0   \n",
       "65412                     0.0                    0.0   \n",
       "...                       ...                    ...   \n",
       "6265                      0.0                    1.0   \n",
       "54886                     0.0                    1.0   \n",
       "76820                     0.0                    1.0   \n",
       "860                       0.0                    1.0   \n",
       "15795                     0.0                    1.0   \n",
       "\n",
       "       smoking_history_not current  \n",
       "76513                          0.0  \n",
       "60406                          0.0  \n",
       "27322                          0.0  \n",
       "53699                          0.0  \n",
       "65412                          0.0  \n",
       "...                            ...  \n",
       "6265                           0.0  \n",
       "54886                          0.0  \n",
       "76820                          0.0  \n",
       "860                            0.0  \n",
       "15795                          0.0  \n",
       "\n",
       "[70000 rows x 13 columns]"
      ]
     },
     "execution_count": 21,
     "metadata": {},
     "output_type": "execute_result"
    }
   ],
   "source": [
    "#Let's just do a quick one-hot encoding:\n",
    "########\n",
    "\n",
    "from sklearn.preprocessing import OneHotEncoder\n",
    "\n",
    "cat_encoder = OneHotEncoder(handle_unknown=\"ignore\", sparse_output=False)\n",
    "\n",
    "#Fit:\n",
    "cat_encoder.fit(X_train_cat)\n",
    "\n",
    "\n",
    "#And transform training data:\n",
    "#####\n",
    "prepared_data = cat_encoder.transform(X_train_cat)\n",
    "\n",
    "#And put into DataFrame:\n",
    "#######\n",
    "\n",
    "X_train_prepared_cat = pd.DataFrame(prepared_data,\n",
    "                         columns = cat_encoder.get_feature_names_out(),\n",
    "                         index = X_train_cat.index)\n",
    "\n",
    "X_train_prepared_cat"
   ]
  },
  {
   "cell_type": "code",
   "execution_count": 22,
   "id": "0d762aee",
   "metadata": {},
   "outputs": [],
   "source": [
    "##Also, testing data:\n",
    "#######\n",
    "\n",
    "#Use transform, NOT fit_transform!\n",
    "prepared_data = cat_encoder.transform(X_test_cat)\n",
    "\n",
    "X_test_prepared_cat = pd.DataFrame(prepared_data,\n",
    "                         columns = cat_encoder.get_feature_names_out(),\n",
    "                         index = X_test_cat.index)\n",
    "\n"
   ]
  },
  {
   "cell_type": "code",
   "execution_count": 25,
   "id": "d738d034",
   "metadata": {},
   "outputs": [],
   "source": [
    "## Now, for the CategoricalNB:\n",
    "################3\n",
    "\n",
    "from sklearn.naive_bayes import CategoricalNB\n",
    "\n",
    "clf = CategoricalNB()\n",
    "\n",
    "#Fit\n",
    "clf.fit(X_train_prepared_cat, y_train['diabetes'])\n",
    "\n",
    "#Predict on *testing* data\n",
    "y_pred_cat = clf.predict(X_test_prepared_cat)"
   ]
  },
  {
   "cell_type": "code",
   "execution_count": 26,
   "id": "13875ba2",
   "metadata": {},
   "outputs": [
    {
     "name": "stdout",
     "output_type": "stream",
     "text": [
      "              precision    recall  f1-score   support\n",
      "\n",
      "           0       0.94      0.94      0.94     27453\n",
      "           1       0.31      0.31      0.31      2547\n",
      "\n",
      "    accuracy                           0.88     30000\n",
      "   macro avg       0.62      0.62      0.62     30000\n",
      "weighted avg       0.88      0.88      0.88     30000\n",
      "\n",
      "Sensitivity =  0.30624263839811544\n",
      "Specifity =  0.9362911157250574\n"
     ]
    }
   ],
   "source": [
    "## Metrics?\n",
    "\n",
    "report_metrics(y_test['diabetes'], y_pred_cat)"
   ]
  },
  {
   "cell_type": "code",
   "execution_count": 27,
   "id": "69d62bde",
   "metadata": {},
   "outputs": [
    {
     "name": "stdout",
     "output_type": "stream",
     "text": [
      "AUC = 0.7235\n"
     ]
    },
    {
     "data": {
      "image/png": "[encoded data removed]",
      "text/plain": [
       "<Figure size 700x600 with 1 Axes>"
      ]
     },
     "metadata": {},
     "output_type": "display_data"
    }
   ],
   "source": [
    "## ROC Curve\n",
    "\n",
    "y_probas_cat = clf.predict_proba(X_test_prepared_cat)\n",
    "\n",
    "plot_roc(y_test, y_probas_cat[:,1])"
   ]
  },
  {
   "cell_type": "code",
   "execution_count": 28,
   "id": "0ef649cd",
   "metadata": {},
   "outputs": [
    {
     "data": {
      "image/png": "[encoded data removed]",
      "text/plain": [
       "<Figure size 700x600 with 1 Axes>"
      ]
     },
     "metadata": {},
     "output_type": "display_data"
    }
   ],
   "source": [
    "## And Precision-Recall\n",
    "plot_pr(y_test, y_probas_cat[:,1])"
   ]
  },
  {
   "cell_type": "markdown",
   "id": "aa0051bf",
   "metadata": {},
   "source": [
    "# Combine Both: Option 1\n",
    "\n",
    "- We can just combine the probabilities from the continuous and categorical models, since we assume conditional independence for our features.\n",
    "\n",
    "- Normalize our probabilities."
   ]
  },
  {
   "cell_type": "code",
   "execution_count": 29,
   "id": "5c018db2",
   "metadata": {},
   "outputs": [
    {
     "data": {
      "text/plain": [
       "array([0.91495714, 0.08504286])"
      ]
     },
     "execution_count": 29,
     "metadata": {},
     "output_type": "execute_result"
    }
   ],
   "source": [
    "#Get the prior probability of each category, in the training data:\n",
    "values, counts = np.unique(y_train['diabetes'], return_counts=True)\n",
    "\n",
    "#Store as Pc\n",
    "Pc = counts / counts.sum()\n",
    "Pc"
   ]
  },
  {
   "cell_type": "code",
   "execution_count": 30,
   "id": "fd19377a",
   "metadata": {},
   "outputs": [],
   "source": [
    "#Combine the two probability vectors from above\n",
    "#Also divide out the redundant \n",
    "y_probas_both = y_probas_cat * y_probas_continuous / Pc"
   ]
  },
  {
   "cell_type": "code",
   "execution_count": 31,
   "id": "b91d6470",
   "metadata": {},
   "outputs": [
    {
     "data": {
      "text/plain": [
       "array([1.04144379, 1.04114051, 0.97991895, 1.02608705, 0.91929926,\n",
       "       1.01991017, 1.01152982, 1.02169193, 1.02169193, 0.99929303])"
      ]
     },
     "execution_count": 31,
     "metadata": {},
     "output_type": "execute_result"
    }
   ],
   "source": [
    "#Basically sum to 1\n",
    "np.sum(y_probas_both, axis=1)[:10]"
   ]
  },
  {
   "cell_type": "code",
   "execution_count": 32,
   "id": "f6ece8e5",
   "metadata": {},
   "outputs": [],
   "source": [
    "#Ensure normalized:\n",
    "#######\n",
    "\n",
    "y_probas_both = np.divide(y_probas_both, np.sum(y_probas_both, axis=1).reshape(-1,1))"
   ]
  },
  {
   "cell_type": "code",
   "execution_count": 33,
   "id": "d6c5d224",
   "metadata": {},
   "outputs": [
    {
     "data": {
      "text/plain": [
       "array([1., 1., 1., 1., 1., 1., 1., 1., 1., 1.])"
      ]
     },
     "execution_count": 33,
     "metadata": {},
     "output_type": "execute_result"
    }
   ],
   "source": [
    "#Now:\n",
    "np.sum(y_probas_both, axis=1)[:10]"
   ]
  },
  {
   "cell_type": "code",
   "execution_count": 34,
   "id": "44510f57",
   "metadata": {},
   "outputs": [
    {
     "name": "stdout",
     "output_type": "stream",
     "text": [
      "AUC = 0.7801\n"
     ]
    },
    {
     "data": {
      "image/png": "[encoded data removed]",
      "text/plain": [
       "<Figure size 700x600 with 1 Axes>"
      ]
     },
     "metadata": {},
     "output_type": "display_data"
    }
   ],
   "source": [
    "#ROC Curve:\n",
    "#####\n",
    "\n",
    "plot_roc(y_test, y_probas_both[:,1])"
   ]
  },
  {
   "cell_type": "code",
   "execution_count": 35,
   "id": "3e693252",
   "metadata": {},
   "outputs": [
    {
     "data": {
      "image/png": "[encoded data removed]",
      "text/plain": [
       "<Figure size 700x600 with 1 Axes>"
      ]
     },
     "metadata": {},
     "output_type": "display_data"
    }
   ],
   "source": [
    "## And Precision-Recall\n",
    "plot_pr(y_test, y_probas_both[:,1])"
   ]
  },
  {
   "cell_type": "code",
   "execution_count": 36,
   "id": "205c0113",
   "metadata": {},
   "outputs": [
    {
     "data": {
      "text/plain": [
       "array([0, 0, 0, ..., 1, 0, 0])"
      ]
     },
     "execution_count": 36,
     "metadata": {},
     "output_type": "execute_result"
    }
   ],
   "source": [
    "#Convert to binary prediction:\n",
    "#####\n",
    "\n",
    "y_pred_both = (y_probas_both[:,1] > 0.5).astype(int)\n",
    "y_pred_both"
   ]
  },
  {
   "cell_type": "code",
   "execution_count": 37,
   "id": "a0627a79",
   "metadata": {},
   "outputs": [
    {
     "name": "stdout",
     "output_type": "stream",
     "text": [
      "              precision    recall  f1-score   support\n",
      "\n",
      "           0       0.94      0.94      0.94     27453\n",
      "           1       0.33      0.31      0.32      2547\n",
      "\n",
      "    accuracy                           0.89     30000\n",
      "   macro avg       0.63      0.63      0.63     30000\n",
      "weighted avg       0.88      0.89      0.89     30000\n",
      "\n",
      "Sensitivity =  0.31252453867294855\n",
      "Specifity =  0.9404072414672349\n"
     ]
    }
   ],
   "source": [
    "report_metrics(y_test['diabetes'], y_pred_both)"
   ]
  },
  {
   "cell_type": "code",
   "execution_count": 38,
   "id": "7cd5619b",
   "metadata": {},
   "outputs": [
    {
     "name": "stdout",
     "output_type": "stream",
     "text": [
      "              precision    recall  f1-score   support\n",
      "\n",
      "           0       0.92      0.98      0.95     27453\n",
      "           1       0.29      0.07      0.11      2547\n",
      "\n",
      "    accuracy                           0.91     30000\n",
      "   macro avg       0.60      0.53      0.53     30000\n",
      "weighted avg       0.87      0.91      0.88     30000\n",
      "\n",
      "Sensitivity =  0.0691009030231645\n",
      "Specifity =  0.9843368666448111\n"
     ]
    }
   ],
   "source": [
    "##Recall, compare to:\n",
    "report_metrics(y_test['diabetes'], y_pred_continuous)"
   ]
  },
  {
   "cell_type": "code",
   "execution_count": 39,
   "id": "31329e89",
   "metadata": {},
   "outputs": [
    {
     "name": "stdout",
     "output_type": "stream",
     "text": [
      "              precision    recall  f1-score   support\n",
      "\n",
      "           0       0.94      0.94      0.94     27453\n",
      "           1       0.31      0.31      0.31      2547\n",
      "\n",
      "    accuracy                           0.88     30000\n",
      "   macro avg       0.62      0.62      0.62     30000\n",
      "weighted avg       0.88      0.88      0.88     30000\n",
      "\n",
      "Sensitivity =  0.30624263839811544\n",
      "Specifity =  0.9362911157250574\n"
     ]
    }
   ],
   "source": [
    "##Recall, compare to:\n",
    "report_metrics(y_test['diabetes'], y_pred_cat)"
   ]
  },
  {
   "cell_type": "markdown",
   "id": "ef07f0d6",
   "metadata": {},
   "source": [
    "# Combine Both: Option 2\n",
    "\n",
    "- Bin our continuous data\n",
    "- Convert to categorical"
   ]
  },
  {
   "cell_type": "code",
   "execution_count": 40,
   "id": "d9f563fb",
   "metadata": {},
   "outputs": [],
   "source": [
    "## Reload the data:\n",
    "df = pd.read_csv('Data/diabetes_prediction_dataset.csv')\n",
    "df = df.drop(columns = ['HbA1c_level', 'blood_glucose_level', 'age'])"
   ]
  },
  {
   "cell_type": "code",
   "execution_count": 41,
   "id": "6f93affd-768d-4234-988c-244feb07b3f5",
   "metadata": {},
   "outputs": [
    {
     "data": {
      "text/html": [
       "<div>\n",
       "<style scoped>\n",
       "    .dataframe tbody tr th:only-of-type {\n",
       "        vertical-align: middle;\n",
       "    }\n",
       "\n",
       "    .dataframe tbody tr th {\n",
       "        vertical-align: top;\n",
       "    }\n",
       "\n",
       "    .dataframe thead th {\n",
       "        text-align: right;\n",
       "    }\n",
       "</style>\n",
       "<table border=\"1\" class=\"dataframe\">\n",
       "  <thead>\n",
       "    <tr style=\"text-align: right;\">\n",
       "      <th></th>\n",
       "      <th>bmi</th>\n",
       "      <th>gender</th>\n",
       "      <th>heart_disease</th>\n",
       "      <th>hypertension</th>\n",
       "      <th>smoking_history</th>\n",
       "    </tr>\n",
       "  </thead>\n",
       "  <tbody>\n",
       "    <tr>\n",
       "      <th>76513</th>\n",
       "      <td>27.32</td>\n",
       "      <td>Male</td>\n",
       "      <td>0</td>\n",
       "      <td>0</td>\n",
       "      <td>ever</td>\n",
       "    </tr>\n",
       "    <tr>\n",
       "      <th>60406</th>\n",
       "      <td>27.32</td>\n",
       "      <td>Male</td>\n",
       "      <td>0</td>\n",
       "      <td>0</td>\n",
       "      <td>never</td>\n",
       "    </tr>\n",
       "    <tr>\n",
       "      <th>27322</th>\n",
       "      <td>27.32</td>\n",
       "      <td>Female</td>\n",
       "      <td>0</td>\n",
       "      <td>0</td>\n",
       "      <td>current</td>\n",
       "    </tr>\n",
       "    <tr>\n",
       "      <th>53699</th>\n",
       "      <td>27.32</td>\n",
       "      <td>Female</td>\n",
       "      <td>0</td>\n",
       "      <td>0</td>\n",
       "      <td>current</td>\n",
       "    </tr>\n",
       "    <tr>\n",
       "      <th>65412</th>\n",
       "      <td>20.98</td>\n",
       "      <td>Male</td>\n",
       "      <td>0</td>\n",
       "      <td>0</td>\n",
       "      <td>No Info</td>\n",
       "    </tr>\n",
       "    <tr>\n",
       "      <th>...</th>\n",
       "      <td>...</td>\n",
       "      <td>...</td>\n",
       "      <td>...</td>\n",
       "      <td>...</td>\n",
       "      <td>...</td>\n",
       "    </tr>\n",
       "    <tr>\n",
       "      <th>6265</th>\n",
       "      <td>32.98</td>\n",
       "      <td>Male</td>\n",
       "      <td>0</td>\n",
       "      <td>0</td>\n",
       "      <td>never</td>\n",
       "    </tr>\n",
       "    <tr>\n",
       "      <th>54886</th>\n",
       "      <td>28.10</td>\n",
       "      <td>Female</td>\n",
       "      <td>0</td>\n",
       "      <td>0</td>\n",
       "      <td>never</td>\n",
       "    </tr>\n",
       "    <tr>\n",
       "      <th>76820</th>\n",
       "      <td>26.14</td>\n",
       "      <td>Male</td>\n",
       "      <td>0</td>\n",
       "      <td>0</td>\n",
       "      <td>never</td>\n",
       "    </tr>\n",
       "    <tr>\n",
       "      <th>860</th>\n",
       "      <td>24.96</td>\n",
       "      <td>Female</td>\n",
       "      <td>0</td>\n",
       "      <td>0</td>\n",
       "      <td>never</td>\n",
       "    </tr>\n",
       "    <tr>\n",
       "      <th>15795</th>\n",
       "      <td>27.99</td>\n",
       "      <td>Female</td>\n",
       "      <td>0</td>\n",
       "      <td>0</td>\n",
       "      <td>never</td>\n",
       "    </tr>\n",
       "  </tbody>\n",
       "</table>\n",
       "<p>70000 rows × 5 columns</p>\n",
       "</div>"
      ],
      "text/plain": [
       "         bmi  gender  heart_disease  hypertension smoking_history\n",
       "76513  27.32    Male              0             0            ever\n",
       "60406  27.32    Male              0             0           never\n",
       "27322  27.32  Female              0             0         current\n",
       "53699  27.32  Female              0             0         current\n",
       "65412  20.98    Male              0             0         No Info\n",
       "...      ...     ...            ...           ...             ...\n",
       "6265   32.98    Male              0             0           never\n",
       "54886  28.10  Female              0             0           never\n",
       "76820  26.14    Male              0             0           never\n",
       "860    24.96  Female              0             0           never\n",
       "15795  27.99  Female              0             0           never\n",
       "\n",
       "[70000 rows x 5 columns]"
      ]
     },
     "execution_count": 41,
     "metadata": {},
     "output_type": "execute_result"
    }
   ],
   "source": [
    "#Make a train-test split:\n",
    "###\n",
    "\n",
    "from sklearn.model_selection import train_test_split\n",
    "\n",
    "X_train, X_test, y_train, y_test = train_test_split(df[df.columns.difference(['diabetes'])], df[['diabetes']], test_size=.3, random_state=42)\n",
    "X_train"
   ]
  },
  {
   "cell_type": "code",
   "execution_count": 42,
   "id": "1cf22d22-e970-4da1-9260-b7238def1a20",
   "metadata": {},
   "outputs": [],
   "source": [
    "##Let's make a custom transformer:\n",
    "#########\n",
    "\n",
    "from sklearn.base import BaseEstimator, TransformerMixin\n",
    "from sklearn.utils.validation import check_array\n",
    "\n",
    "class QuantileBucketer(BaseEstimator, TransformerMixin):\n",
    "    def __init__(self, num_quantiles=10, random_state=42):\n",
    "        self.num_quantiles = num_quantiles\n",
    "        self.random_state = random_state\n",
    "\n",
    "    def fit(self, X, y=None):\n",
    "        #Extract feature names from columns:\n",
    "        if (isinstance(X, pd.DataFrame)):\n",
    "            self.feature_names = np.array(X.columns)\n",
    "        #If no columns, just 0 through n\n",
    "        else:\n",
    "            self.feature_names = np.array(range(0, X.shape[1])).astype(str)\n",
    "\n",
    "        \n",
    "        #Bucketize the data\n",
    "        \n",
    "        X = check_array(X)\n",
    "        \n",
    "        #Go through each column:\n",
    "        #Will have list of lists for the bins:\n",
    "        self.bins_ = [] #np.zeros([np.shape(X)[0], self.num_quantiles_\n",
    "        \n",
    "        for i in range(np.shape(X)[1]):\n",
    "            X_bucket, bins = pd.qcut(X[:,i],\n",
    "                                 q=self.num_quantiles, labels=False, retbins=True, duplicates='drop')\n",
    "\n",
    "            #Need to ensure that every bin gets at least one member\n",
    "            #We could do this, but we might get errors with the testing data\n",
    "            #bins = [-np.inf] + list(bins) + [np.inf]\n",
    "            \n",
    "            #So let's do this instead:\n",
    "            bins[0] = -np.inf\n",
    "            bins[len(bins)-1] = np.inf\n",
    "            \n",
    "            self.bins_.append(bins)\n",
    "        \n",
    "        return self #Always return self\n",
    "\n",
    "    #Transform\n",
    "    def transform(self, X):\n",
    "\n",
    "        X = check_array(X)\n",
    "        \n",
    "        for i in range(np.shape(X)[1]):\n",
    "            X[:, i] = pd.cut(X[:,i], bins=self.bins_[i], labels=False)\n",
    "            \n",
    "        #Return bucketized X:\n",
    "        return X\n",
    "\n",
    "\n",
    "    def get_feature_names_out(self, names=None):\n",
    "        #Just return the feature names used to create:\n",
    "        return self.feature_names\n",
    "            "
   ]
  },
  {
   "cell_type": "code",
   "execution_count": 43,
   "id": "7bd11778-7691-4e42-be0d-c81978ee9a67",
   "metadata": {},
   "outputs": [],
   "source": [
    "#Make our binner:\n",
    "bucket = QuantileBucketer(num_quantiles=10)\n",
    "\n",
    "#No 'HbA1c_level', #blood_glucose_level #'age', just bmi:\n",
    "pred_cols = ['bmi']\n",
    "\n",
    "#Fit\n",
    "bucket.fit(X_train[pred_cols])\n",
    "\n",
    "\n",
    "#Try it out:\n",
    "X_train_bucket = X_train.copy()\n",
    "X_train_bucket[pred_cols] = bucket.transform(X_train[pred_cols])"
   ]
  },
  {
   "cell_type": "code",
   "execution_count": 44,
   "id": "16865438",
   "metadata": {},
   "outputs": [
    {
     "data": {
      "text/plain": [
       "[array([ -inf, 19.18, 22.4 , 24.88, 27.17, 27.32, 28.28, 31.1 , 35.42,\n",
       "          inf])]"
      ]
     },
     "execution_count": 44,
     "metadata": {},
     "output_type": "execute_result"
    }
   ],
   "source": [
    "#Our bins?\n",
    "bucket.bins_"
   ]
  },
  {
   "cell_type": "code",
   "execution_count": 45,
   "id": "4c2bf9db",
   "metadata": {},
   "outputs": [
    {
     "data": {
      "text/plain": [
       "76513    4.0\n",
       "60406    4.0\n",
       "27322    4.0\n",
       "53699    4.0\n",
       "65412    1.0\n",
       "        ... \n",
       "6265     7.0\n",
       "54886    5.0\n",
       "76820    3.0\n",
       "860      3.0\n",
       "15795    5.0\n",
       "Name: bmi, Length: 70000, dtype: float64"
      ]
     },
     "execution_count": 45,
     "metadata": {},
     "output_type": "execute_result"
    }
   ],
   "source": [
    "#Our new bmi column?\n",
    "X_train_bucket.bmi"
   ]
  },
  {
   "cell_type": "code",
   "execution_count": 46,
   "id": "ce868a15",
   "metadata": {},
   "outputs": [
    {
     "name": "stdout",
     "output_type": "stream",
     "text": [
      "27.32\n",
      "17801\n"
     ]
    }
   ],
   "source": [
    "#Most common BMI?\n",
    "values, counts = np.unique(X_train['bmi'], return_counts=True)\n",
    "\n",
    "#Max value?\n",
    "print(values[np.argmax(counts)])\n",
    "\n",
    "#How many?\n",
    "#Whoa! Must have been some imputation\n",
    "print(counts[np.argmax(counts)])"
   ]
  },
  {
   "cell_type": "code",
   "execution_count": 47,
   "id": "7f29d630",
   "metadata": {},
   "outputs": [
    {
     "data": {
      "text/plain": [
       "27.32"
      ]
     },
     "execution_count": 47,
     "metadata": {},
     "output_type": "execute_result"
    }
   ],
   "source": [
    "#Check the median?\n",
    "#Yep...\n",
    "np.median(X_train['bmi'])"
   ]
  },
  {
   "cell_type": "code",
   "execution_count": 48,
   "id": "9d948032",
   "metadata": {},
   "outputs": [
    {
     "data": {
      "image/png": "[encoded data removed]",
      "text/plain": [
       "<Figure size 640x480 with 1 Axes>"
      ]
     },
     "metadata": {},
     "output_type": "display_data"
    }
   ],
   "source": [
    "##Histogram\n",
    "X_train.bmi.hist(bins=100);\n"
   ]
  },
  {
   "cell_type": "code",
   "execution_count": 49,
   "id": "314046ce",
   "metadata": {},
   "outputs": [
    {
     "data": {
      "text/plain": [
       "(array([0., 1., 2., 3., 4., 5., 6., 7., 8.]),\n",
       " array([ 7012,  7017,  6991,  6992, 18215,  2776,  7004,  7000,  6993],\n",
       "       dtype=int64))"
      ]
     },
     "execution_count": 49,
     "metadata": {},
     "output_type": "execute_result"
    }
   ],
   "source": [
    "#Look at our bucketed population\n",
    "##\n",
    "np.unique(X_train_bucket.bmi, return_counts=True)"
   ]
  },
  {
   "cell_type": "code",
   "execution_count": 50,
   "id": "5a45db7c",
   "metadata": {},
   "outputs": [
    {
     "data": {
      "text/plain": [
       "Text(0, 0.5, 'Number of observations')"
      ]
     },
     "execution_count": 50,
     "metadata": {},
     "output_type": "execute_result"
    },
    {
     "data": {
      "image/png": "[encoded data removed]",
      "text/plain": [
       "<Figure size 1000x500 with 2 Axes>"
      ]
     },
     "metadata": {},
     "output_type": "display_data"
    }
   ],
   "source": [
    "#Plot:\n",
    "########\n",
    "\n",
    "fig, ax1 = plt.subplots(1,2, figsize=(10,5))\n",
    "\n",
    "#Plot the quantiles:\n",
    "ax1[0].plot(range(1,len(bucket.bins_[0])+1), bucket.bins_[0])\n",
    "ax1[0].set_xlabel(\"Quantile\")\n",
    "ax1[0].set_ylabel(\"BMI Value\")\n",
    "\n",
    "#And the bucketized/flattened population:\n",
    "X_train_bucket.bmi.hist(bins=range(0,len(bucket.bins_[0])), ax=ax1[1], linewidth=2, edgecolor='black', grid=False)\n",
    "ax1[1].set_xlabel(\"Quantile\")\n",
    "ax1[1].set_ylabel(\"Number of observations\")"
   ]
  },
  {
   "cell_type": "markdown",
   "id": "bbdf3e5f",
   "metadata": {},
   "source": [
    "### Transform with some pipelines + ColumnTransformer"
   ]
  },
  {
   "cell_type": "code",
   "execution_count": 51,
   "id": "ca0b0e80-bf7f-4d2d-a3f9-daef481828f4",
   "metadata": {},
   "outputs": [
    {
     "data": {
      "text/html": [
       "<style>#sk-container-id-4 {color: black;}#sk-container-id-4 pre{padding: 0;}#sk-container-id-4 div.sk-toggleable {background-color: white;}#sk-container-id-4 label.sk-toggleable__label {cursor: pointer;display: block;width: 100%;margin-bottom: 0;padding: 0.3em;box-sizing: border-box;text-align: center;}#sk-container-id-4 label.sk-toggleable__label-arrow:before {content: \"▸\";float: left;margin-right: 0.25em;color: #696969;}#sk-container-id-4 label.sk-toggleable__label-arrow:hover:before {color: black;}#sk-container-id-4 div.sk-estimator:hover label.sk-toggleable__label-arrow:before {color: black;}#sk-container-id-4 div.sk-toggleable__content {max-height: 0;max-width: 0;overflow: hidden;text-align: left;background-color: #f0f8ff;}#sk-container-id-4 div.sk-toggleable__content pre {margin: 0.2em;color: black;border-radius: 0.25em;background-color: #f0f8ff;}#sk-container-id-4 input.sk-toggleable__control:checked~div.sk-toggleable__content {max-height: 200px;max-width: 100%;overflow: auto;}#sk-container-id-4 input.sk-toggleable__control:checked~label.sk-toggleable__label-arrow:before {content: \"▾\";}#sk-container-id-4 div.sk-estimator input.sk-toggleable__control:checked~label.sk-toggleable__label {background-color: #d4ebff;}#sk-container-id-4 div.sk-label input.sk-toggleable__control:checked~label.sk-toggleable__label {background-color: #d4ebff;}#sk-container-id-4 input.sk-hidden--visually {border: 0;clip: rect(1px 1px 1px 1px);clip: rect(1px, 1px, 1px, 1px);height: 1px;margin: -1px;overflow: hidden;padding: 0;position: absolute;width: 1px;}#sk-container-id-4 div.sk-estimator {font-family: monospace;background-color: #f0f8ff;border: 1px dotted black;border-radius: 0.25em;box-sizing: border-box;margin-bottom: 0.5em;}#sk-container-id-4 div.sk-estimator:hover {background-color: #d4ebff;}#sk-container-id-4 div.sk-parallel-item::after {content: \"\";width: 100%;border-bottom: 1px solid gray;flex-grow: 1;}#sk-container-id-4 div.sk-label:hover label.sk-toggleable__label {background-color: #d4ebff;}#sk-container-id-4 div.sk-serial::before {content: \"\";position: absolute;border-left: 1px solid gray;box-sizing: border-box;top: 0;bottom: 0;left: 50%;z-index: 0;}#sk-container-id-4 div.sk-serial {display: flex;flex-direction: column;align-items: center;background-color: white;padding-right: 0.2em;padding-left: 0.2em;position: relative;}#sk-container-id-4 div.sk-item {position: relative;z-index: 1;}#sk-container-id-4 div.sk-parallel {display: flex;align-items: stretch;justify-content: center;background-color: white;position: relative;}#sk-container-id-4 div.sk-item::before, #sk-container-id-4 div.sk-parallel-item::before {content: \"\";position: absolute;border-left: 1px solid gray;box-sizing: border-box;top: 0;bottom: 0;left: 50%;z-index: -1;}#sk-container-id-4 div.sk-parallel-item {display: flex;flex-direction: column;z-index: 1;position: relative;background-color: white;}#sk-container-id-4 div.sk-parallel-item:first-child::after {align-self: flex-end;width: 50%;}#sk-container-id-4 div.sk-parallel-item:last-child::after {align-self: flex-start;width: 50%;}#sk-container-id-4 div.sk-parallel-item:only-child::after {width: 0;}#sk-container-id-4 div.sk-dashed-wrapped {border: 1px dashed gray;margin: 0 0.4em 0.5em 0.4em;box-sizing: border-box;padding-bottom: 0.4em;background-color: white;}#sk-container-id-4 div.sk-label label {font-family: monospace;font-weight: bold;display: inline-block;line-height: 1.2em;}#sk-container-id-4 div.sk-label-container {text-align: center;}#sk-container-id-4 div.sk-container {/* jupyter's `normalize.less` sets `[hidden] { display: none; }` but bootstrap.min.css set `[hidden] { display: none !important; }` so we also need the `!important` here to be able to override the default hidden behavior on the sphinx rendered scikit-learn.org. See: https://github.com/scikit-learn/scikit-learn/issues/21755 */display: inline-block !important;position: relative;}#sk-container-id-4 div.sk-text-repr-fallback {display: none;}</style><div id=\"sk-container-id-4\" class=\"sk-top-container\"><div class=\"sk-text-repr-fallback\"><pre>ColumnTransformer(transformers=[(&#x27;num&#x27;,\n",
       "                                 Pipeline(steps=[(&#x27;quantilebucketer&#x27;,\n",
       "                                                  QuantileBucketer())]),\n",
       "                                 [&#x27;bmi&#x27;, &#x27;heart_disease&#x27;, &#x27;hypertension&#x27;]),\n",
       "                                (&#x27;cat&#x27;,\n",
       "                                 Pipeline(steps=[(&#x27;onehotencoder&#x27;,\n",
       "                                                  OneHotEncoder(handle_unknown=&#x27;ignore&#x27;,\n",
       "                                                                sparse_output=False))]),\n",
       "                                 [&#x27;gender&#x27;, &#x27;hypertension&#x27;, &#x27;smoking_history&#x27;,\n",
       "                                  &#x27;heart_disease&#x27;])])</pre><b>In a Jupyter environment, please rerun this cell to show the HTML representation or trust the notebook. <br />On GitHub, the HTML representation is unable to render, please try loading this page with nbviewer.org.</b></div><div class=\"sk-container\" hidden><div class=\"sk-item sk-dashed-wrapped\"><div class=\"sk-label-container\"><div class=\"sk-label sk-toggleable\"><input class=\"sk-toggleable__control sk-hidden--visually\" id=\"sk-estimator-id-4\" type=\"checkbox\" ><label for=\"sk-estimator-id-4\" class=\"sk-toggleable__label sk-toggleable__label-arrow\">ColumnTransformer</label><div class=\"sk-toggleable__content\"><pre>ColumnTransformer(transformers=[(&#x27;num&#x27;,\n",
       "                                 Pipeline(steps=[(&#x27;quantilebucketer&#x27;,\n",
       "                                                  QuantileBucketer())]),\n",
       "                                 [&#x27;bmi&#x27;, &#x27;heart_disease&#x27;, &#x27;hypertension&#x27;]),\n",
       "                                (&#x27;cat&#x27;,\n",
       "                                 Pipeline(steps=[(&#x27;onehotencoder&#x27;,\n",
       "                                                  OneHotEncoder(handle_unknown=&#x27;ignore&#x27;,\n",
       "                                                                sparse_output=False))]),\n",
       "                                 [&#x27;gender&#x27;, &#x27;hypertension&#x27;, &#x27;smoking_history&#x27;,\n",
       "                                  &#x27;heart_disease&#x27;])])</pre></div></div></div><div class=\"sk-parallel\"><div class=\"sk-parallel-item\"><div class=\"sk-item\"><div class=\"sk-label-container\"><div class=\"sk-label sk-toggleable\"><input class=\"sk-toggleable__control sk-hidden--visually\" id=\"sk-estimator-id-5\" type=\"checkbox\" ><label for=\"sk-estimator-id-5\" class=\"sk-toggleable__label sk-toggleable__label-arrow\">num</label><div class=\"sk-toggleable__content\"><pre>[&#x27;bmi&#x27;, &#x27;heart_disease&#x27;, &#x27;hypertension&#x27;]</pre></div></div></div><div class=\"sk-serial\"><div class=\"sk-item\"><div class=\"sk-serial\"><div class=\"sk-item\"><div class=\"sk-estimator sk-toggleable\"><input class=\"sk-toggleable__control sk-hidden--visually\" id=\"sk-estimator-id-6\" type=\"checkbox\" ><label for=\"sk-estimator-id-6\" class=\"sk-toggleable__label sk-toggleable__label-arrow\">QuantileBucketer</label><div class=\"sk-toggleable__content\"><pre>QuantileBucketer()</pre></div></div></div></div></div></div></div></div><div class=\"sk-parallel-item\"><div class=\"sk-item\"><div class=\"sk-label-container\"><div class=\"sk-label sk-toggleable\"><input class=\"sk-toggleable__control sk-hidden--visually\" id=\"sk-estimator-id-7\" type=\"checkbox\" ><label for=\"sk-estimator-id-7\" class=\"sk-toggleable__label sk-toggleable__label-arrow\">cat</label><div class=\"sk-toggleable__content\"><pre>[&#x27;gender&#x27;, &#x27;hypertension&#x27;, &#x27;smoking_history&#x27;, &#x27;heart_disease&#x27;]</pre></div></div></div><div class=\"sk-serial\"><div class=\"sk-item\"><div class=\"sk-serial\"><div class=\"sk-item\"><div class=\"sk-estimator sk-toggleable\"><input class=\"sk-toggleable__control sk-hidden--visually\" id=\"sk-estimator-id-8\" type=\"checkbox\" ><label for=\"sk-estimator-id-8\" class=\"sk-toggleable__label sk-toggleable__label-arrow\">OneHotEncoder</label><div class=\"sk-toggleable__content\"><pre>OneHotEncoder(handle_unknown=&#x27;ignore&#x27;, sparse_output=False)</pre></div></div></div></div></div></div></div></div></div></div></div></div>"
      ],
      "text/plain": [
       "ColumnTransformer(transformers=[('num',\n",
       "                                 Pipeline(steps=[('quantilebucketer',\n",
       "                                                  QuantileBucketer())]),\n",
       "                                 ['bmi', 'heart_disease', 'hypertension']),\n",
       "                                ('cat',\n",
       "                                 Pipeline(steps=[('onehotencoder',\n",
       "                                                  OneHotEncoder(handle_unknown='ignore',\n",
       "                                                                sparse_output=False))]),\n",
       "                                 ['gender', 'hypertension', 'smoking_history',\n",
       "                                  'heart_disease'])])"
      ]
     },
     "execution_count": 51,
     "metadata": {},
     "output_type": "execute_result"
    }
   ],
   "source": [
    "from sklearn.compose import ColumnTransformer\n",
    "from sklearn.pipeline import make_pipeline\n",
    "from sklearn.preprocessing import OneHotEncoder\n",
    "\n",
    "#Make a list of the numeric attributes\n",
    "#Could also list out manually\n",
    "num_attribs = list(X_train.select_dtypes(include=[np.number]).columns)\n",
    "\n",
    "#And categorical:\n",
    "cat_attribs = [\"gender\", \"hypertension\", \"smoking_history\", \"heart_disease\"]\n",
    "\n",
    "\n",
    "#The pipeline for numeric:\n",
    "num_pipeline = make_pipeline(\n",
    "    QuantileBucketer(num_quantiles=10))\n",
    "\n",
    "#And categorical:\n",
    "cat_pipeline = make_pipeline(\n",
    "    OneHotEncoder(handle_unknown=\"ignore\", sparse_output=False))\n",
    "\n",
    "#Our preprocessing transformer:\n",
    "########\n",
    "preprocessing = ColumnTransformer([\n",
    "    (\"num\", num_pipeline, num_attribs),\n",
    "    (\"cat\", cat_pipeline, cat_attribs),\n",
    "])\n",
    "\n",
    "preprocessing"
   ]
  },
  {
   "cell_type": "code",
   "execution_count": 52,
   "id": "b7e05eee-7ac8-43dd-9f7d-e1c305bffc36",
   "metadata": {},
   "outputs": [
    {
     "data": {
      "text/html": [
       "<div>\n",
       "<style scoped>\n",
       "    .dataframe tbody tr th:only-of-type {\n",
       "        vertical-align: middle;\n",
       "    }\n",
       "\n",
       "    .dataframe tbody tr th {\n",
       "        vertical-align: top;\n",
       "    }\n",
       "\n",
       "    .dataframe thead th {\n",
       "        text-align: right;\n",
       "    }\n",
       "</style>\n",
       "<table border=\"1\" class=\"dataframe\">\n",
       "  <thead>\n",
       "    <tr style=\"text-align: right;\">\n",
       "      <th></th>\n",
       "      <th>num__bmi</th>\n",
       "      <th>num__heart_disease</th>\n",
       "      <th>num__hypertension</th>\n",
       "      <th>cat__gender_Female</th>\n",
       "      <th>cat__gender_Male</th>\n",
       "      <th>cat__gender_Other</th>\n",
       "      <th>cat__hypertension_0</th>\n",
       "      <th>cat__hypertension_1</th>\n",
       "      <th>cat__smoking_history_No Info</th>\n",
       "      <th>cat__smoking_history_current</th>\n",
       "      <th>cat__smoking_history_ever</th>\n",
       "      <th>cat__smoking_history_former</th>\n",
       "      <th>cat__smoking_history_never</th>\n",
       "      <th>cat__smoking_history_not current</th>\n",
       "      <th>cat__heart_disease_0</th>\n",
       "      <th>cat__heart_disease_1</th>\n",
       "    </tr>\n",
       "  </thead>\n",
       "  <tbody>\n",
       "    <tr>\n",
       "      <th>76513</th>\n",
       "      <td>4.0</td>\n",
       "      <td>0.0</td>\n",
       "      <td>0.0</td>\n",
       "      <td>0.0</td>\n",
       "      <td>1.0</td>\n",
       "      <td>0.0</td>\n",
       "      <td>1.0</td>\n",
       "      <td>0.0</td>\n",
       "      <td>0.0</td>\n",
       "      <td>0.0</td>\n",
       "      <td>1.0</td>\n",
       "      <td>0.0</td>\n",
       "      <td>0.0</td>\n",
       "      <td>0.0</td>\n",
       "      <td>1.0</td>\n",
       "      <td>0.0</td>\n",
       "    </tr>\n",
       "    <tr>\n",
       "      <th>60406</th>\n",
       "      <td>4.0</td>\n",
       "      <td>0.0</td>\n",
       "      <td>0.0</td>\n",
       "      <td>0.0</td>\n",
       "      <td>1.0</td>\n",
       "      <td>0.0</td>\n",
       "      <td>1.0</td>\n",
       "      <td>0.0</td>\n",
       "      <td>0.0</td>\n",
       "      <td>0.0</td>\n",
       "      <td>0.0</td>\n",
       "      <td>0.0</td>\n",
       "      <td>1.0</td>\n",
       "      <td>0.0</td>\n",
       "      <td>1.0</td>\n",
       "      <td>0.0</td>\n",
       "    </tr>\n",
       "    <tr>\n",
       "      <th>27322</th>\n",
       "      <td>4.0</td>\n",
       "      <td>0.0</td>\n",
       "      <td>0.0</td>\n",
       "      <td>1.0</td>\n",
       "      <td>0.0</td>\n",
       "      <td>0.0</td>\n",
       "      <td>1.0</td>\n",
       "      <td>0.0</td>\n",
       "      <td>0.0</td>\n",
       "      <td>1.0</td>\n",
       "      <td>0.0</td>\n",
       "      <td>0.0</td>\n",
       "      <td>0.0</td>\n",
       "      <td>0.0</td>\n",
       "      <td>1.0</td>\n",
       "      <td>0.0</td>\n",
       "    </tr>\n",
       "    <tr>\n",
       "      <th>53699</th>\n",
       "      <td>4.0</td>\n",
       "      <td>0.0</td>\n",
       "      <td>0.0</td>\n",
       "      <td>1.0</td>\n",
       "      <td>0.0</td>\n",
       "      <td>0.0</td>\n",
       "      <td>1.0</td>\n",
       "      <td>0.0</td>\n",
       "      <td>0.0</td>\n",
       "      <td>1.0</td>\n",
       "      <td>0.0</td>\n",
       "      <td>0.0</td>\n",
       "      <td>0.0</td>\n",
       "      <td>0.0</td>\n",
       "      <td>1.0</td>\n",
       "      <td>0.0</td>\n",
       "    </tr>\n",
       "    <tr>\n",
       "      <th>65412</th>\n",
       "      <td>1.0</td>\n",
       "      <td>0.0</td>\n",
       "      <td>0.0</td>\n",
       "      <td>0.0</td>\n",
       "      <td>1.0</td>\n",
       "      <td>0.0</td>\n",
       "      <td>1.0</td>\n",
       "      <td>0.0</td>\n",
       "      <td>1.0</td>\n",
       "      <td>0.0</td>\n",
       "      <td>0.0</td>\n",
       "      <td>0.0</td>\n",
       "      <td>0.0</td>\n",
       "      <td>0.0</td>\n",
       "      <td>1.0</td>\n",
       "      <td>0.0</td>\n",
       "    </tr>\n",
       "  </tbody>\n",
       "</table>\n",
       "</div>"
      ],
      "text/plain": [
       "       num__bmi  num__heart_disease  num__hypertension  cat__gender_Female  \\\n",
       "76513       4.0                 0.0                0.0                 0.0   \n",
       "60406       4.0                 0.0                0.0                 0.0   \n",
       "27322       4.0                 0.0                0.0                 1.0   \n",
       "53699       4.0                 0.0                0.0                 1.0   \n",
       "65412       1.0                 0.0                0.0                 0.0   \n",
       "\n",
       "       cat__gender_Male  cat__gender_Other  cat__hypertension_0  \\\n",
       "76513               1.0                0.0                  1.0   \n",
       "60406               1.0                0.0                  1.0   \n",
       "27322               0.0                0.0                  1.0   \n",
       "53699               0.0                0.0                  1.0   \n",
       "65412               1.0                0.0                  1.0   \n",
       "\n",
       "       cat__hypertension_1  cat__smoking_history_No Info  \\\n",
       "76513                  0.0                           0.0   \n",
       "60406                  0.0                           0.0   \n",
       "27322                  0.0                           0.0   \n",
       "53699                  0.0                           0.0   \n",
       "65412                  0.0                           1.0   \n",
       "\n",
       "       cat__smoking_history_current  cat__smoking_history_ever  \\\n",
       "76513                           0.0                        1.0   \n",
       "60406                           0.0                        0.0   \n",
       "27322                           1.0                        0.0   \n",
       "53699                           1.0                        0.0   \n",
       "65412                           0.0                        0.0   \n",
       "\n",
       "       cat__smoking_history_former  cat__smoking_history_never  \\\n",
       "76513                          0.0                         0.0   \n",
       "60406                          0.0                         1.0   \n",
       "27322                          0.0                         0.0   \n",
       "53699                          0.0                         0.0   \n",
       "65412                          0.0                         0.0   \n",
       "\n",
       "       cat__smoking_history_not current  cat__heart_disease_0  \\\n",
       "76513                               0.0                   1.0   \n",
       "60406                               0.0                   1.0   \n",
       "27322                               0.0                   1.0   \n",
       "53699                               0.0                   1.0   \n",
       "65412                               0.0                   1.0   \n",
       "\n",
       "       cat__heart_disease_1  \n",
       "76513                   0.0  \n",
       "60406                   0.0  \n",
       "27322                   0.0  \n",
       "53699                   0.0  \n",
       "65412                   0.0  "
      ]
     },
     "execution_count": 52,
     "metadata": {},
     "output_type": "execute_result"
    }
   ],
   "source": [
    "#Run fit_transform on the training data\n",
    "####\n",
    "prepared_data = preprocessing.fit_transform(X_train)\n",
    "\n",
    "\n",
    "#And put into DataFrame:\n",
    "#######\n",
    "\n",
    "X_train_prepared = pd.DataFrame(prepared_data,\n",
    "                         columns = preprocessing.get_feature_names_out(),\n",
    "                         index = X_train.index)\n",
    "\n",
    "X_train_prepared.head()"
   ]
  },
  {
   "cell_type": "code",
   "execution_count": 53,
   "id": "4cb42791-d4ff-4ee2-a633-5617a98e9d61",
   "metadata": {},
   "outputs": [
    {
     "data": {
      "text/html": [
       "<div>\n",
       "<style scoped>\n",
       "    .dataframe tbody tr th:only-of-type {\n",
       "        vertical-align: middle;\n",
       "    }\n",
       "\n",
       "    .dataframe tbody tr th {\n",
       "        vertical-align: top;\n",
       "    }\n",
       "\n",
       "    .dataframe thead th {\n",
       "        text-align: right;\n",
       "    }\n",
       "</style>\n",
       "<table border=\"1\" class=\"dataframe\">\n",
       "  <thead>\n",
       "    <tr style=\"text-align: right;\">\n",
       "      <th></th>\n",
       "      <th>num__bmi</th>\n",
       "      <th>num__heart_disease</th>\n",
       "      <th>num__hypertension</th>\n",
       "      <th>cat__gender_Female</th>\n",
       "      <th>cat__gender_Male</th>\n",
       "      <th>cat__gender_Other</th>\n",
       "      <th>cat__hypertension_0</th>\n",
       "      <th>cat__hypertension_1</th>\n",
       "      <th>cat__smoking_history_No Info</th>\n",
       "      <th>cat__smoking_history_current</th>\n",
       "      <th>cat__smoking_history_ever</th>\n",
       "      <th>cat__smoking_history_former</th>\n",
       "      <th>cat__smoking_history_never</th>\n",
       "      <th>cat__smoking_history_not current</th>\n",
       "      <th>cat__heart_disease_0</th>\n",
       "      <th>cat__heart_disease_1</th>\n",
       "    </tr>\n",
       "  </thead>\n",
       "  <tbody>\n",
       "    <tr>\n",
       "      <th>75721</th>\n",
       "      <td>1.0</td>\n",
       "      <td>0.0</td>\n",
       "      <td>0.0</td>\n",
       "      <td>1.0</td>\n",
       "      <td>0.0</td>\n",
       "      <td>0.0</td>\n",
       "      <td>1.0</td>\n",
       "      <td>0.0</td>\n",
       "      <td>1.0</td>\n",
       "      <td>0.0</td>\n",
       "      <td>0.0</td>\n",
       "      <td>0.0</td>\n",
       "      <td>0.0</td>\n",
       "      <td>0.0</td>\n",
       "      <td>1.0</td>\n",
       "      <td>0.0</td>\n",
       "    </tr>\n",
       "    <tr>\n",
       "      <th>80184</th>\n",
       "      <td>1.0</td>\n",
       "      <td>0.0</td>\n",
       "      <td>0.0</td>\n",
       "      <td>1.0</td>\n",
       "      <td>0.0</td>\n",
       "      <td>0.0</td>\n",
       "      <td>1.0</td>\n",
       "      <td>0.0</td>\n",
       "      <td>1.0</td>\n",
       "      <td>0.0</td>\n",
       "      <td>0.0</td>\n",
       "      <td>0.0</td>\n",
       "      <td>0.0</td>\n",
       "      <td>0.0</td>\n",
       "      <td>1.0</td>\n",
       "      <td>0.0</td>\n",
       "    </tr>\n",
       "    <tr>\n",
       "      <th>19864</th>\n",
       "      <td>3.0</td>\n",
       "      <td>0.0</td>\n",
       "      <td>0.0</td>\n",
       "      <td>0.0</td>\n",
       "      <td>1.0</td>\n",
       "      <td>0.0</td>\n",
       "      <td>1.0</td>\n",
       "      <td>0.0</td>\n",
       "      <td>0.0</td>\n",
       "      <td>0.0</td>\n",
       "      <td>0.0</td>\n",
       "      <td>1.0</td>\n",
       "      <td>0.0</td>\n",
       "      <td>0.0</td>\n",
       "      <td>1.0</td>\n",
       "      <td>0.0</td>\n",
       "    </tr>\n",
       "    <tr>\n",
       "      <th>76699</th>\n",
       "      <td>0.0</td>\n",
       "      <td>0.0</td>\n",
       "      <td>0.0</td>\n",
       "      <td>1.0</td>\n",
       "      <td>0.0</td>\n",
       "      <td>0.0</td>\n",
       "      <td>1.0</td>\n",
       "      <td>0.0</td>\n",
       "      <td>0.0</td>\n",
       "      <td>0.0</td>\n",
       "      <td>0.0</td>\n",
       "      <td>0.0</td>\n",
       "      <td>1.0</td>\n",
       "      <td>0.0</td>\n",
       "      <td>1.0</td>\n",
       "      <td>0.0</td>\n",
       "    </tr>\n",
       "    <tr>\n",
       "      <th>92991</th>\n",
       "      <td>8.0</td>\n",
       "      <td>0.0</td>\n",
       "      <td>0.0</td>\n",
       "      <td>1.0</td>\n",
       "      <td>0.0</td>\n",
       "      <td>0.0</td>\n",
       "      <td>1.0</td>\n",
       "      <td>0.0</td>\n",
       "      <td>0.0</td>\n",
       "      <td>0.0</td>\n",
       "      <td>0.0</td>\n",
       "      <td>0.0</td>\n",
       "      <td>0.0</td>\n",
       "      <td>1.0</td>\n",
       "      <td>1.0</td>\n",
       "      <td>0.0</td>\n",
       "    </tr>\n",
       "  </tbody>\n",
       "</table>\n",
       "</div>"
      ],
      "text/plain": [
       "       num__bmi  num__heart_disease  num__hypertension  cat__gender_Female  \\\n",
       "75721       1.0                 0.0                0.0                 1.0   \n",
       "80184       1.0                 0.0                0.0                 1.0   \n",
       "19864       3.0                 0.0                0.0                 0.0   \n",
       "76699       0.0                 0.0                0.0                 1.0   \n",
       "92991       8.0                 0.0                0.0                 1.0   \n",
       "\n",
       "       cat__gender_Male  cat__gender_Other  cat__hypertension_0  \\\n",
       "75721               0.0                0.0                  1.0   \n",
       "80184               0.0                0.0                  1.0   \n",
       "19864               1.0                0.0                  1.0   \n",
       "76699               0.0                0.0                  1.0   \n",
       "92991               0.0                0.0                  1.0   \n",
       "\n",
       "       cat__hypertension_1  cat__smoking_history_No Info  \\\n",
       "75721                  0.0                           1.0   \n",
       "80184                  0.0                           1.0   \n",
       "19864                  0.0                           0.0   \n",
       "76699                  0.0                           0.0   \n",
       "92991                  0.0                           0.0   \n",
       "\n",
       "       cat__smoking_history_current  cat__smoking_history_ever  \\\n",
       "75721                           0.0                        0.0   \n",
       "80184                           0.0                        0.0   \n",
       "19864                           0.0                        0.0   \n",
       "76699                           0.0                        0.0   \n",
       "92991                           0.0                        0.0   \n",
       "\n",
       "       cat__smoking_history_former  cat__smoking_history_never  \\\n",
       "75721                          0.0                         0.0   \n",
       "80184                          0.0                         0.0   \n",
       "19864                          1.0                         0.0   \n",
       "76699                          0.0                         1.0   \n",
       "92991                          0.0                         0.0   \n",
       "\n",
       "       cat__smoking_history_not current  cat__heart_disease_0  \\\n",
       "75721                               0.0                   1.0   \n",
       "80184                               0.0                   1.0   \n",
       "19864                               0.0                   1.0   \n",
       "76699                               0.0                   1.0   \n",
       "92991                               1.0                   1.0   \n",
       "\n",
       "       cat__heart_disease_1  \n",
       "75721                   0.0  \n",
       "80184                   0.0  \n",
       "19864                   0.0  \n",
       "76699                   0.0  \n",
       "92991                   0.0  "
      ]
     },
     "execution_count": 53,
     "metadata": {},
     "output_type": "execute_result"
    }
   ],
   "source": [
    "##Prep the test data too:\n",
    "\n",
    "#As always, use transform, not fit_transform!\n",
    "prepared_data = preprocessing.transform(X_test)\n",
    "\n",
    "X_test_prepared = pd.DataFrame(prepared_data,\n",
    "                         columns = preprocessing.get_feature_names_out(),\n",
    "                         index = X_test.index)\n",
    "\n",
    "X_test_prepared.head()"
   ]
  },
  {
   "cell_type": "markdown",
   "id": "c8b0ad50",
   "metadata": {},
   "source": [
    "### Now, the categorical model:"
   ]
  },
  {
   "cell_type": "code",
   "execution_count": 54,
   "id": "9293b1b8-9c82-4940-ac4d-1848483f260b",
   "metadata": {},
   "outputs": [
    {
     "data": {
      "text/html": [
       "<style>#sk-container-id-5 {color: black;}#sk-container-id-5 pre{padding: 0;}#sk-container-id-5 div.sk-toggleable {background-color: white;}#sk-container-id-5 label.sk-toggleable__label {cursor: pointer;display: block;width: 100%;margin-bottom: 0;padding: 0.3em;box-sizing: border-box;text-align: center;}#sk-container-id-5 label.sk-toggleable__label-arrow:before {content: \"▸\";float: left;margin-right: 0.25em;color: #696969;}#sk-container-id-5 label.sk-toggleable__label-arrow:hover:before {color: black;}#sk-container-id-5 div.sk-estimator:hover label.sk-toggleable__label-arrow:before {color: black;}#sk-container-id-5 div.sk-toggleable__content {max-height: 0;max-width: 0;overflow: hidden;text-align: left;background-color: #f0f8ff;}#sk-container-id-5 div.sk-toggleable__content pre {margin: 0.2em;color: black;border-radius: 0.25em;background-color: #f0f8ff;}#sk-container-id-5 input.sk-toggleable__control:checked~div.sk-toggleable__content {max-height: 200px;max-width: 100%;overflow: auto;}#sk-container-id-5 input.sk-toggleable__control:checked~label.sk-toggleable__label-arrow:before {content: \"▾\";}#sk-container-id-5 div.sk-estimator input.sk-toggleable__control:checked~label.sk-toggleable__label {background-color: #d4ebff;}#sk-container-id-5 div.sk-label input.sk-toggleable__control:checked~label.sk-toggleable__label {background-color: #d4ebff;}#sk-container-id-5 input.sk-hidden--visually {border: 0;clip: rect(1px 1px 1px 1px);clip: rect(1px, 1px, 1px, 1px);height: 1px;margin: -1px;overflow: hidden;padding: 0;position: absolute;width: 1px;}#sk-container-id-5 div.sk-estimator {font-family: monospace;background-color: #f0f8ff;border: 1px dotted black;border-radius: 0.25em;box-sizing: border-box;margin-bottom: 0.5em;}#sk-container-id-5 div.sk-estimator:hover {background-color: #d4ebff;}#sk-container-id-5 div.sk-parallel-item::after {content: \"\";width: 100%;border-bottom: 1px solid gray;flex-grow: 1;}#sk-container-id-5 div.sk-label:hover label.sk-toggleable__label {background-color: #d4ebff;}#sk-container-id-5 div.sk-serial::before {content: \"\";position: absolute;border-left: 1px solid gray;box-sizing: border-box;top: 0;bottom: 0;left: 50%;z-index: 0;}#sk-container-id-5 div.sk-serial {display: flex;flex-direction: column;align-items: center;background-color: white;padding-right: 0.2em;padding-left: 0.2em;position: relative;}#sk-container-id-5 div.sk-item {position: relative;z-index: 1;}#sk-container-id-5 div.sk-parallel {display: flex;align-items: stretch;justify-content: center;background-color: white;position: relative;}#sk-container-id-5 div.sk-item::before, #sk-container-id-5 div.sk-parallel-item::before {content: \"\";position: absolute;border-left: 1px solid gray;box-sizing: border-box;top: 0;bottom: 0;left: 50%;z-index: -1;}#sk-container-id-5 div.sk-parallel-item {display: flex;flex-direction: column;z-index: 1;position: relative;background-color: white;}#sk-container-id-5 div.sk-parallel-item:first-child::after {align-self: flex-end;width: 50%;}#sk-container-id-5 div.sk-parallel-item:last-child::after {align-self: flex-start;width: 50%;}#sk-container-id-5 div.sk-parallel-item:only-child::after {width: 0;}#sk-container-id-5 div.sk-dashed-wrapped {border: 1px dashed gray;margin: 0 0.4em 0.5em 0.4em;box-sizing: border-box;padding-bottom: 0.4em;background-color: white;}#sk-container-id-5 div.sk-label label {font-family: monospace;font-weight: bold;display: inline-block;line-height: 1.2em;}#sk-container-id-5 div.sk-label-container {text-align: center;}#sk-container-id-5 div.sk-container {/* jupyter's `normalize.less` sets `[hidden] { display: none; }` but bootstrap.min.css set `[hidden] { display: none !important; }` so we also need the `!important` here to be able to override the default hidden behavior on the sphinx rendered scikit-learn.org. See: https://github.com/scikit-learn/scikit-learn/issues/21755 */display: inline-block !important;position: relative;}#sk-container-id-5 div.sk-text-repr-fallback {display: none;}</style><div id=\"sk-container-id-5\" class=\"sk-top-container\"><div class=\"sk-text-repr-fallback\"><pre>CategoricalNB()</pre><b>In a Jupyter environment, please rerun this cell to show the HTML representation or trust the notebook. <br />On GitHub, the HTML representation is unable to render, please try loading this page with nbviewer.org.</b></div><div class=\"sk-container\" hidden><div class=\"sk-item\"><div class=\"sk-estimator sk-toggleable\"><input class=\"sk-toggleable__control sk-hidden--visually\" id=\"sk-estimator-id-9\" type=\"checkbox\" checked><label for=\"sk-estimator-id-9\" class=\"sk-toggleable__label sk-toggleable__label-arrow\">CategoricalNB</label><div class=\"sk-toggleable__content\"><pre>CategoricalNB()</pre></div></div></div></div></div>"
      ],
      "text/plain": [
       "CategoricalNB()"
      ]
     },
     "execution_count": 54,
     "metadata": {},
     "output_type": "execute_result"
    }
   ],
   "source": [
    "from sklearn.naive_bayes import CategoricalNB\n",
    "\n",
    "#Create\n",
    "clf = CategoricalNB()\n",
    "\n",
    "#fit\n",
    "clf.fit(X_train_prepared, y_train['diabetes'])"
   ]
  },
  {
   "cell_type": "code",
   "execution_count": 55,
   "id": "5b49dd76-c1e6-4c42-8607-cd1e931c6190",
   "metadata": {},
   "outputs": [],
   "source": [
    "#Predictions:\n",
    "y_pred = clf.predict(X_test_prepared)"
   ]
  },
  {
   "cell_type": "code",
   "execution_count": 56,
   "id": "484d7006-37e7-48b1-adc2-2dce98179b9a",
   "metadata": {},
   "outputs": [
    {
     "name": "stdout",
     "output_type": "stream",
     "text": [
      "              precision    recall  f1-score   support\n",
      "\n",
      "           0       0.94      0.94      0.94     27453\n",
      "           1       0.33      0.30      0.31      2547\n",
      "\n",
      "    accuracy                           0.89     30000\n",
      "   macro avg       0.63      0.62      0.63     30000\n",
      "weighted avg       0.88      0.89      0.89     30000\n",
      "\n",
      "Sensitivity =  0.29603455045151156\n",
      "Specifity =  0.943503442246749\n"
     ]
    }
   ],
   "source": [
    "#Metrics, again:\n",
    "report_metrics(y_test['diabetes'], y_pred)"
   ]
  },
  {
   "cell_type": "code",
   "execution_count": 57,
   "id": "e74d4e81",
   "metadata": {},
   "outputs": [],
   "source": [
    "#Vs Method 1:\n",
    "#report_metrics(y_test['diabetes'], y_pred_both)"
   ]
  },
  {
   "cell_type": "code",
   "execution_count": 58,
   "id": "e0aef720",
   "metadata": {},
   "outputs": [
    {
     "name": "stdout",
     "output_type": "stream",
     "text": [
      "AUC = 0.7818\n"
     ]
    },
    {
     "data": {
      "image/png": "[encoded data removed]",
      "text/plain": [
       "<Figure size 700x600 with 1 Axes>"
      ]
     },
     "metadata": {},
     "output_type": "display_data"
    }
   ],
   "source": [
    "#And ROC Curve:\n",
    "y_probas = clf.predict_proba(X_test_prepared)\n",
    "\n",
    "plot_roc(y_test, y_probas[:,1])"
   ]
  },
  {
   "cell_type": "code",
   "execution_count": 59,
   "id": "9022538a",
   "metadata": {},
   "outputs": [
    {
     "data": {
      "image/png": "[encoded data removed]",
      "text/plain": [
       "<Figure size 700x600 with 1 Axes>"
      ]
     },
     "metadata": {},
     "output_type": "display_data"
    }
   ],
   "source": [
    "plot_pr(y_test, y_probas[:,1])"
   ]
  }
 ],
 "metadata": {
  "kernelspec": {
   "display_name": "Python 3 (ipykernel)",
   "language": "python",
   "name": "python3"
  },
  "language_info": {
   "codemirror_mode": {
    "name": "ipython",
    "version": 3
   },
   "file_extension": ".py",
   "mimetype": "text/x-python",
   "name": "python",
   "nbconvert_exporter": "python",
   "pygments_lexer": "ipython3",
   "version": "3.10.12"
  }
 },
 "nbformat": 4,
 "nbformat_minor": 5
}
